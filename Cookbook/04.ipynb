{
  "nbformat": 4,
  "nbformat_minor": 0,
  "metadata": {
    "colab": {
      "provenance": [],
      "authorship_tag": "ABX9TyN29cs4OBpKxMEveLZPC1QM",
      "include_colab_link": true
    },
    "kernelspec": {
      "name": "python3",
      "display_name": "Python 3"
    },
    "language_info": {
      "name": "python"
    }
  },
  "cells": [
    {
      "cell_type": "markdown",
      "metadata": {
        "id": "view-in-github",
        "colab_type": "text"
      },
      "source": [
        "<a href=\"https://colab.research.google.com/github/grtlinux/KieaColab23/blob/main/Cookbook/04.ipynb\" target=\"_parent\"><img src=\"https://colab.research.google.com/assets/colab-badge.svg\" alt=\"Open In Colab\"/></a>"
      ]
    },
    {
      "cell_type": "markdown",
      "source": [
        "# Python Cookbook\n",
        "\n",
        "## 04. 이터레이터와 제너레이터\n",
        "\n",
        "---"
      ],
      "metadata": {
        "id": "Jez5U-U9FCPS"
      }
    },
    {
      "cell_type": "code",
      "execution_count": null,
      "metadata": {
        "id": "iYJT4qVFE8FK"
      },
      "outputs": [],
      "source": [
        "import os\n",
        "import fnmatch\n",
        "import gzip\n",
        "import bz2\n",
        "import re\n",
        "\n",
        "def gen_find(filepat, top):\n",
        "    '''\n",
        "    Find all filenames in a directory tree that match a shell wildcard pattern\n",
        "    '''\n",
        "    for path, dirlist, filelist in os.walk(top):\n",
        "        for name in fnmatch.filter(filelist, filepat):\n",
        "            yield os.path.join(path, name)\n",
        "\n",
        "def gen_opener(filenames):\n",
        "    '''\n",
        "    Open a sequence of filenames one at a time producing a file object.\n",
        "    The file is closed immediately when proceeding to the next iteration. \n",
        "    '''\n",
        "    for filename in filenames:\n",
        "        if filename.endswith('.gz'):\n",
        "            f = gzip.open(filename, 'rt')\n",
        "        elif filename.endswith('.bz2'):\n",
        "            f = bz2.open(filename, 'rt')\n",
        "        else:\n",
        "            f = open(filename, 'rt')\n",
        "        yield f\n",
        "        f.close()\n",
        "\n",
        "def gen_concatenate(iterators):\n",
        "    '''\n",
        "    Chain a sequence of iterators together into a single sequence.\n",
        "    '''\n",
        "    for it in iterators:\n",
        "        yield from it\n",
        "\n",
        "def gen_grep(pattern, lines):\n",
        "    '''\n",
        "    Look for a regex pattern in a sequence of lines\n",
        "    '''\n",
        "    pat = re.compile(pattern)\n",
        "    for line in lines:\n",
        "        if pat.search(line):\n",
        "            yield line\n",
        "\n",
        "if __name__ == '__main__':\n",
        "\n",
        "    # Example 1\n",
        "    lognames = gen_find('access-log*', 'www')\n",
        "    files = gen_opener(lognames)\n",
        "    lines = gen_concatenate(files)\n",
        "    pylines = gen_grep('(?i)python', lines)\n",
        "    for line in pylines:\n",
        "        print(line)\n",
        "\n",
        "    # Example 2\n",
        "    lognames = gen_find('access-log*', 'www')\n",
        "    files = gen_opener(lognames)\n",
        "    lines = gen_concatenate(files)\n",
        "    pylines = gen_grep('(?i)python', lines)\n",
        "    bytecolumn = (line.rsplit(None,1)[1] for line in pylines)\n",
        "    bytes = (int(x) for x in bytecolumn if x != '-')\n",
        "    print('Total', sum(bytes))\n",
        "    "
      ]
    },
    {
      "cell_type": "code",
      "source": [
        "def frange(start, stop, increment):\n",
        "    x = start\n",
        "    while x < stop:\n",
        "        yield x\n",
        "        x += increment\n",
        "\n",
        "for n in frange(0, 4, 0.5):\n",
        "    print(n)\n",
        "    "
      ],
      "metadata": {
        "id": "ZUUlZ_T0FMVb"
      },
      "execution_count": null,
      "outputs": []
    },
    {
      "cell_type": "code",
      "source": [
        "# Example of delegating iteration to an internal container\n",
        "\n",
        "class Node:\n",
        "    def __init__(self, value):\n",
        "        self._value = value\n",
        "        self._children = []\n",
        "\n",
        "    def __repr__(self):\n",
        "        return 'Node({!r})'.format(self._value)\n",
        "\n",
        "    def add_child(self, node):\n",
        "        self._children.append(node)\n",
        "\n",
        "    def __iter__(self):\n",
        "        return iter(self._children)\n",
        "\n",
        "# Example\n",
        "if __name__ == '__main__':\n",
        "    root = Node(0)\n",
        "    child1 = Node(1)\n",
        "    child2 = Node(2)\n",
        "    root.add_child(child1)\n",
        "    root.add_child(child2)\n",
        "    for ch in root:\n",
        "        print(ch)\n",
        "    # Outputs: Node(1), Node(2)\n",
        "    "
      ],
      "metadata": {
        "id": "A2L6ue2pFMeN"
      },
      "execution_count": null,
      "outputs": []
    },
    {
      "cell_type": "code",
      "source": [
        "# example.py\n",
        "#\n",
        "# Example of depth-first search using a generator\n",
        "\n",
        "class Node:\n",
        "    def __init__(self, value):\n",
        "        self._value = value\n",
        "        self._children = []\n",
        "\n",
        "    def __repr__(self):\n",
        "        return 'Node({!r})'.format(self._value)\n",
        "\n",
        "    def add_child(self, node):\n",
        "        self._children.append(node)\n",
        "\n",
        "    def __iter__(self):\n",
        "        return iter(self._children)\n",
        "\n",
        "    def depth_first(self):\n",
        "        yield self\n",
        "        for c in self:\n",
        "            yield from c.depth_first()\n",
        "\n",
        "# Example\n",
        "if __name__ == '__main__':\n",
        "    root = Node(0)\n",
        "    child1 = Node(1)\n",
        "    child2 = Node(2)\n",
        "    root.add_child(child1)\n",
        "    root.add_child(child2)\n",
        "    child1.add_child(Node(3))\n",
        "    child1.add_child(Node(4))\n",
        "    child2.add_child(Node(5))\n",
        "\n",
        "    for ch in root.depth_first():\n",
        "        print(ch)\n",
        "    # Outputs: Node(0), Node(1), Node(3), Node(4), Node(2), Node(5)\n",
        "    "
      ],
      "metadata": {
        "id": "ODVLIGF8FMmT"
      },
      "execution_count": null,
      "outputs": []
    },
    {
      "cell_type": "code",
      "source": [
        "# Hard example of depth-first iteration using an iterator object\n",
        "\n",
        "class Node:\n",
        "    def __init__(self, value):\n",
        "        self._value = value\n",
        "        self._children = []\n",
        "\n",
        "    def __repr__(self):\n",
        "        return 'Node(%r)' % self._value\n",
        "\n",
        "    def add_child(self, other_node):\n",
        "        self._children.append(other_node)\n",
        " \n",
        "    def __iter__(self):\n",
        "        return iter(self._children)\n",
        "\n",
        "    def depth_first(self):\n",
        "        return DepthFirstIterator(self)\n",
        "\n",
        "class DepthFirstIterator(object):\n",
        "    '''\n",
        "    Depth-first traversal\n",
        "    '''\n",
        "    def __init__(self, start_node):\n",
        "        self._node = start_node\n",
        "        self._children_iter = None\n",
        "        self._child_iter = None\n",
        "\n",
        "    def __iter__(self):\n",
        "        return self\n",
        "\n",
        "    def __next__(self):\n",
        "        # Return myself if just started. Create an iterator for children\n",
        "        if self._children_iter is None:\n",
        "            self._children_iter = iter(self._node)\n",
        "            return self._node\n",
        "\n",
        "        # If processing a child, return its next item\n",
        "        elif self._child_iter:\n",
        "            try:\n",
        "                nextchild = next(self._child_iter)\n",
        "                return nextchild\n",
        "            except StopIteration:\n",
        "                self._child_iter = None\n",
        "                return next(self)\n",
        "\n",
        "        # Advance to the next child and start its iteration\n",
        "        else:\n",
        "            self._child_iter = next(self._children_iter).depth_first()\n",
        "            return next(self)\n",
        "\n",
        "\n",
        "# Example\n",
        "if __name__ == '__main__':\n",
        "    root = Node(0)\n",
        "    child1 = Node(1)\n",
        "    child2 = Node(2)\n",
        "    root.add_child(child1)\n",
        "    root.add_child(child2)\n",
        "    child1.add_child(Node(3))\n",
        "    child1.add_child(Node(4))\n",
        "    child2.add_child(Node(5))\n",
        "\n",
        "    for ch in root.depth_first():\n",
        "        print(ch)\n",
        "    # Outputs: Node(0), Node(1), Node(3), Node(4), Node(2), Node(5)\n",
        "    "
      ],
      "metadata": {
        "id": "UQE0EHTqFMuT"
      },
      "execution_count": null,
      "outputs": []
    },
    {
      "cell_type": "code",
      "source": [
        "# Example of a generator with extra state that can be\n",
        "# accessed.   Simply define as a class!\n",
        "\n",
        "from collections import deque\n",
        "\n",
        "class linehistory:\n",
        "    def __init__(self, lines, histlen=3):\n",
        "        self.lines = lines\n",
        "        self.history = deque(maxlen=histlen)\n",
        "\n",
        "    def __iter__(self):\n",
        "        for lineno, line in enumerate(self.lines,1):\n",
        "            self.history.append((lineno, line))\n",
        "            yield line\n",
        "\n",
        "    def clear(self):\n",
        "        self.history.clear()\n",
        "\n",
        "with open('somefile.txt') as f:\n",
        "     lines = linehistory(f)\n",
        "     for line in lines:\n",
        "         if 'python' in line:\n",
        "             for lineno, hline in lines.history:\n",
        "                 print('{}:{}'.format(lineno, hline), end='')\n",
        "\n",
        "\n",
        "\n",
        "\n"
      ],
      "metadata": {
        "id": "2O3dsgLHFM8O"
      },
      "execution_count": null,
      "outputs": []
    },
    {
      "cell_type": "code",
      "source": [
        "%%writefile somefile.txt\n",
        "hello world\n",
        "this is a test\n",
        "of iterating over lines with a history\n",
        "python is fun"
      ],
      "metadata": {
        "id": "AgB7_c85FNIY"
      },
      "execution_count": null,
      "outputs": []
    },
    {
      "cell_type": "code",
      "source": [
        "# Example of flattening a nested sequence using subgenerators\n",
        "\n",
        "from collections import Iterable\n",
        "\n",
        "def flatten(items, ignore_types=(str, bytes)):\n",
        "    for x in items:\n",
        "        if isinstance(x, Iterable) and not isinstance(x, ignore_types):\n",
        "            yield from flatten(x)\n",
        "        else:\n",
        "            yield x\n",
        "\n",
        "items = [1, 2, [3, 4, [5, 6], 7], 8]\n",
        "\n",
        "# Produces 1 2 3 4 5 6 7 8\n",
        "for x in flatten(items):\n",
        "    print(x)\n",
        "\n",
        "items = ['Dave', 'Paula', ['Thomas', 'Lewis']]\n",
        "for x in flatten(items):\n",
        "    print(x)\n",
        "    "
      ],
      "metadata": {
        "id": "TiFLLJFCFNQ-"
      },
      "execution_count": null,
      "outputs": []
    },
    {
      "cell_type": "code",
      "source": [
        "# Example of iterating over lines of a file with an extra lineno attribute\n",
        "def parse_data(filename):\n",
        "    with open(filename, 'rt') as f:\n",
        "         for lineno, line in enumerate(f, 1):\n",
        "             fields = line.split()\n",
        "             try:\n",
        "                 count = int(fields[1])\n",
        "             except ValueError as e:\n",
        "                 print('Line {}: Parse error: {}'.format(lineno, e))\n",
        "\n",
        "parse_data('sample.dat')\n"
      ],
      "metadata": {
        "id": "VSQuGJAIFNZc"
      },
      "execution_count": null,
      "outputs": []
    },
    {
      "cell_type": "code",
      "source": [
        "%%writefile sample.dat\n",
        "0 1\n",
        "2 3\n",
        "4 N/A\n",
        "5 6\n",
        "7 8\n",
        "9 10"
      ],
      "metadata": {
        "id": "wFtenb4YFNh8"
      },
      "execution_count": null,
      "outputs": []
    },
    {
      "cell_type": "code",
      "source": [
        "# Example of an object implementing both forward and reversed iterators\n",
        "\n",
        "class Countdown:\n",
        "    def __init__(self, start):\n",
        "        self.start = start\n",
        "\n",
        "    # Forward iterator\n",
        "    def __iter__(self):\n",
        "        n = self.start\n",
        "        while n > 0:\n",
        "            yield n\n",
        "            n -= 1\n",
        "\n",
        "    # Reverse iterator\n",
        "    def __reversed__(self):\n",
        "        n = 1\n",
        "        while n <= self.start:\n",
        "            yield n\n",
        "            n += 1\n",
        "\n",
        "c = Countdown(5)\n",
        "print(\"Forward:\")\n",
        "for x in c:\n",
        "    print(x)\n",
        "\n",
        "print(\"Reverse:\")\n",
        "for x in reversed(c):\n",
        "    print(x)\n",
        "    "
      ],
      "metadata": {
        "id": "T--MMyTfFNqI"
      },
      "execution_count": null,
      "outputs": []
    },
    {
      "cell_type": "code",
      "source": [
        "# Iterating over merged sorted iterables\n",
        "\n",
        "import heapq\n",
        "a = [1, 4, 7, 10]\n",
        "b = [2, 5, 6, 11]\n",
        "for c in heapq.merge(a, b):\n",
        "    print(c)\n"
      ],
      "metadata": {
        "id": "Vr0mvBChFNy3"
      },
      "execution_count": null,
      "outputs": []
    },
    {
      "cell_type": "code",
      "source": [
        "# Example of iterating over two sequences as one\n",
        "\n",
        "from itertools import chain\n",
        "a = [1, 2, 3, 4]\n",
        "b = ['x', 'y', 'z']\n",
        "for x in chain(a, b):\n",
        "    print(x)\n"
      ],
      "metadata": {
        "id": "MkOtvJVoFN7O"
      },
      "execution_count": null,
      "outputs": []
    },
    {
      "cell_type": "code",
      "source": [],
      "metadata": {
        "id": "So3H48c1FODw"
      },
      "execution_count": null,
      "outputs": []
    }
  ]
}