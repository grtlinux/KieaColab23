{
  "nbformat": 4,
  "nbformat_minor": 0,
  "metadata": {
    "colab": {
      "provenance": [],
      "authorship_tag": "ABX9TyMF7suAfrOQ4pw2FcjyCpDD",
      "include_colab_link": true
    },
    "kernelspec": {
      "name": "python3",
      "display_name": "Python 3"
    },
    "language_info": {
      "name": "python"
    }
  },
  "cells": [
    {
      "cell_type": "markdown",
      "metadata": {
        "id": "view-in-github",
        "colab_type": "text"
      },
      "source": [
        "<a href=\"https://colab.research.google.com/github/grtlinux/KieaColab23/blob/main/Cookbook/14.ipynb\" target=\"_parent\"><img src=\"https://colab.research.google.com/assets/colab-badge.svg\" alt=\"Open In Colab\"/></a>"
      ]
    },
    {
      "cell_type": "markdown",
      "source": [
        "# Python Cookbook\n",
        "\n",
        "## 14. 테스팅, 디버깅, 예외\n",
        "\n",
        "---"
      ],
      "metadata": {
        "id": "gJraTw2GFNIr"
      }
    },
    {
      "cell_type": "code",
      "source": [
        "import unittest\n",
        "\n",
        "# A simple function to illustrate\n",
        "def parse_int(s):\n",
        "    return int(s)\n",
        "\n",
        "class TestConversion(unittest.TestCase):\n",
        "    # Testing that an exception gets raised\n",
        "    def test_bad_int(self):\n",
        "        self.assertRaises(ValueError, parse_int, \"N/A\")\n",
        "\n",
        "    # Testing an exception plus regex on exception message\n",
        "    def test_bad_int_msg(self):\n",
        "        self.assertRaisesRegex(ValueError, 'invalid literal .*', parse_int, 'N/A') \n",
        "\n",
        "# Example of testing an exception along with inspection of exception instance\n",
        "import errno\n",
        "\n",
        "class TestIO(unittest.TestCase):\n",
        "    def test_file_not_found(self):\n",
        "        try:\n",
        "            f = open('/file/not/found')\n",
        "        except IOError as e:\n",
        "            self.assertEqual(e.errno, errno.ENOENT)\n",
        "        else:\n",
        "            self.fail(\"IOError not raised\") \n",
        "\n",
        "import sys\n",
        "def main(out=sys.stderr, verbosity=2):\n",
        "    loader = unittest.TestLoader()\n",
        "    suite = loader.loadTestsFromModule(sys.modules[__name__])\n",
        "    unittest.TextTestRunner(out, verbosity=verbosity).run(suite)\n",
        "\n",
        "if __name__ == '__main__':\n",
        "    with open('testing.out', 'w') as f:\n",
        "        main(f)"
      ],
      "metadata": {
        "id": "oNQGyKsUFZ7a"
      },
      "execution_count": null,
      "outputs": []
    },
    {
      "cell_type": "code",
      "source": [
        "import time\n",
        "def test(func):\n",
        "    start = time.time()\n",
        "    nums = range(1000000)\n",
        "    for n in range(100):\n",
        "        r = func(nums)\n",
        "    end = time.time()\n",
        "    print(func.__name__, ':', end-start)\n",
        "\n",
        "import math\n",
        "def compute_roots_1(nums):\n",
        "    result = []\n",
        "    for n in nums:\n",
        "        result.append(math.sqrt(n))\n",
        "    return result\n",
        "\n",
        "from math import sqrt\n",
        "def compute_roots_2(nums):\n",
        "    result = []\n",
        "    result_append = result.append\n",
        "    for n in nums:\n",
        "        result_append(sqrt(n))\n",
        "    return result\n",
        "\n",
        "def compute_roots_3(nums):\n",
        "    sqrt = math.sqrt\n",
        "    result = []\n",
        "    result_append = result.append\n",
        "    for n in nums:\n",
        "        result_append(sqrt(n))\n",
        "    return result\n",
        "\n",
        "tests = [compute_roots_1, compute_roots_2, compute_roots_3]\n",
        "for func in tests:\n",
        "    test(func)"
      ],
      "metadata": {
        "id": "mwAc_0OHFZ1z"
      },
      "execution_count": null,
      "outputs": []
    },
    {
      "cell_type": "code",
      "source": [
        "# timethis.py\n",
        "\n",
        "import time\n",
        "from functools import wraps\n",
        "\n",
        "def timethis(func):\n",
        "    @wraps(func)\n",
        "    def wrapper(*args, **kwargs):\n",
        "        start = time.perf_counter()\n",
        "        r = func(*args, **kwargs)\n",
        "        end = time.perf_counter()\n",
        "        print('{}.{} : {}'.format(func.__module__, func.__name__, end-start))\n",
        "        return r\n",
        "    return wrapper\n",
        "\n",
        "if __name__ == '__main__':\n",
        "    @timethis\n",
        "    def countdown(n):\n",
        "        while n > 0:\n",
        "            n -= 1\n",
        "\n",
        "\n",
        "    countdown(10000000)"
      ],
      "metadata": {
        "id": "HQLlmP1VFZxT"
      },
      "execution_count": null,
      "outputs": []
    },
    {
      "cell_type": "code",
      "source": [
        "# Different styles of raising chained exceptions\n",
        "\n",
        "# Example 1:   Explicit chaining.  Use this whenever your\n",
        "# intent is to raise a new exception in response to another\n",
        "\n",
        "def example1():\n",
        "    try:\n",
        "        int('N/A')\n",
        "    except ValueError as e:\n",
        "        raise RuntimeError('A parsing error occurred') from e\n",
        "\n",
        "# Example 2:  Implicit chaining.  This occurs if there's an\n",
        "# unexpected exception in the except block.\n",
        "\n",
        "def example2():\n",
        "    try:\n",
        "        int('N/A')\n",
        "    except ValueError as e:\n",
        "        print('It failed. Reason:', err)   # Intentional error\n",
        "\n",
        "# Example 3: Discarding the previous exception\n",
        "def example3():\n",
        "    try:\n",
        "        int('N/A')\n",
        "    except ValueError as e:\n",
        "        raise RuntimeError('A parsing error occurred') from None\n",
        "\n",
        "if __name__ == '__main__':\n",
        "    import traceback\n",
        "    print('****** EXPLICIT EXCEPTION CHAINING ******')\n",
        "    try:\n",
        "        example1()\n",
        "    except Exception:\n",
        "        traceback.print_exc()\n",
        "\n",
        "    print()\n",
        "    print('****** IMPLICIT EXCEPTION CHAINING ******')\n",
        "    try:\n",
        "        example2()\n",
        "    except Exception:\n",
        "        traceback.print_exc()\n",
        "\n",
        "    print()\n",
        "    print('****** DISCARDED CHAINING *******')\n",
        "    try:\n",
        "        example3()\n",
        "    except Exception:\n",
        "        traceback.print_exc()\n",
        "\n"
      ],
      "metadata": {
        "id": "bnX7IGyVFZrt"
      },
      "execution_count": null,
      "outputs": []
    },
    {
      "cell_type": "code",
      "source": [
        "import unittest\n",
        "import os\n",
        "import platform\n",
        "\n",
        "class Tests(unittest.TestCase):\n",
        "    def test_0(self):\n",
        "        self.assertTrue(True)\n",
        "\n",
        "    @unittest.skip('skipped test')\n",
        "    def test_1(self):\n",
        "        self.fail(\"should have failed!\")\n",
        "\n",
        "    @unittest.skipIf(os.name=='posix', 'Not supported on Unix')\n",
        "    def test_2(self):\n",
        "        import winreg\n",
        "\n",
        "    @unittest.skipUnless(platform.system() == 'Darwin', 'Mac specific test')\n",
        "    def test_3(self):\n",
        "        self.assertTrue(True)\n",
        "\n",
        "    @unittest.expectedFailure\n",
        "    def test_4(self):\n",
        "        self.assertEqual(2+2, 5)\n",
        "\n",
        "if __name__ == '__main__':\n",
        "    unittest.main(verbosity=2)"
      ],
      "metadata": {
        "id": "o79RDm3eFZnO"
      },
      "execution_count": null,
      "outputs": []
    },
    {
      "cell_type": "code",
      "source": [
        "import unittest\n",
        "\n",
        "# A simple function to illustrate\n",
        "def parse_int(s):\n",
        "    return int(s)\n",
        "\n",
        "class TestConversion(unittest.TestCase):\n",
        "    # Testing that an exception gets raised\n",
        "    def test_bad_int(self):\n",
        "        self.assertRaises(ValueError, parse_int, \"N/A\")\n",
        "\n",
        "    # Testing an exception plus regex on exception message\n",
        "    def test_bad_int_msg(self):\n",
        "        self.assertRaisesRegex(ValueError, 'invalid literal .*', parse_int, 'N/A') \n",
        "\n",
        "# Example of testing an exception along with inspection of exception instance\n",
        "import errno\n",
        "\n",
        "class TestIO(unittest.TestCase):\n",
        "    def test_file_not_found(self):\n",
        "        try:\n",
        "            f = open('/file/not/found')\n",
        "        except IOError as e:\n",
        "            self.assertEqual(e.errno, errno.ENOENT)\n",
        "        else:\n",
        "            self.fail(\"IOError not raised\") \n",
        "\n",
        "if __name__ == '__main__':\n",
        "    unittest.main()"
      ],
      "metadata": {
        "id": "fQ9GCxEJFZh_"
      },
      "execution_count": null,
      "outputs": []
    },
    {
      "cell_type": "code",
      "source": [
        "# mymodule.py\n",
        "\n",
        "def urlprint(protocol, host, domain):\n",
        "    url = '{}://{}.{}'.format(protocol, host, domain)\n",
        "    print(url)"
      ],
      "metadata": {
        "id": "Ck2XAx0pFZc_"
      },
      "execution_count": null,
      "outputs": []
    },
    {
      "cell_type": "code",
      "source": [
        "from io import StringIO\n",
        "from unittest import TestCase\n",
        "from unittest.mock import patch\n",
        "import mymodule\n",
        "\n",
        "class TestURLPrint(TestCase):\n",
        "    def test_url_gets_to_stdout(self):\n",
        "        protocol = 'http'\n",
        "        host = 'www'\n",
        "        domain = 'example.com'\n",
        "        expected_url = '{}://{}.{}\\n'.format(protocol, host, domain)\n",
        "\n",
        "        with patch('sys.stdout', new=StringIO()) as fake_out:\n",
        "            mymodule.urlprint(protocol, host, domain)\n",
        "            self.assertEqual(fake_out.getvalue(), expected_url)\n",
        "\n",
        "if __name__ == '__main__':\n",
        "    import unittest\n",
        "    unittest.main()"
      ],
      "metadata": {
        "id": "QC27qFljFZYi"
      },
      "execution_count": null,
      "outputs": []
    },
    {
      "cell_type": "code",
      "source": [],
      "metadata": {
        "id": "ndBZ-1nBFZTI"
      },
      "execution_count": null,
      "outputs": []
    }
  ]
}