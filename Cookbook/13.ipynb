{
  "nbformat": 4,
  "nbformat_minor": 0,
  "metadata": {
    "colab": {
      "provenance": [],
      "authorship_tag": "ABX9TyOPkJhN037H8R1SMUByj1XY",
      "include_colab_link": true
    },
    "kernelspec": {
      "name": "python3",
      "display_name": "Python 3"
    },
    "language_info": {
      "name": "python"
    }
  },
  "cells": [
    {
      "cell_type": "markdown",
      "metadata": {
        "id": "view-in-github",
        "colab_type": "text"
      },
      "source": [
        "<a href=\"https://colab.research.google.com/github/grtlinux/KieaColab23/blob/main/Cookbook/13.ipynb\" target=\"_parent\"><img src=\"https://colab.research.google.com/assets/colab-badge.svg\" alt=\"Open In Colab\"/></a>"
      ]
    },
    {
      "cell_type": "markdown",
      "source": [
        "# Python Cookbook\n",
        "\n",
        "## 13. 유틸리티 스크립트와 시스템 관리\n",
        "\n",
        "---"
      ],
      "metadata": {
        "id": "ZN8r2_xEAr0Y"
      }
    },
    {
      "cell_type": "code",
      "source": [
        "# somelib.py\n",
        "\n",
        "import logging\n",
        "log = logging.getLogger(__name__)\n",
        "log.addHandler(logging.NullHandler())\n",
        "\n",
        "# Example function (for testing)\n",
        "def func():\n",
        "    log.critical(\"A Critical Error!\")\n",
        "    log.debug(\"A debug message\")"
      ],
      "metadata": {
        "id": "dP5m85fHA6yL"
      },
      "execution_count": null,
      "outputs": []
    },
    {
      "cell_type": "code",
      "source": [
        "import subprocess\n",
        "try:\n",
        "    out_bytes = subprocess.check_output(['netstat', '-a'])\n",
        "    out_text = out_bytes.decode('utf-8')\n",
        "    print(out_text)\n",
        "except subprocess.CalledProcessError as e:\n",
        "    print('It did not work. Reason:', e)\n",
        "    print('Exitcode:', e.returncode)\n"
      ],
      "metadata": {
        "id": "Nk3VtCd_A6qB"
      },
      "execution_count": null,
      "outputs": []
    },
    {
      "cell_type": "code",
      "source": [
        "import subprocess\n",
        "\n",
        "# Some text to send\n",
        "text = b'''\n",
        "hello world\n",
        "this is a test\n",
        "goodbye\n",
        "'''\n",
        "\n",
        "# Launch a command with pipes\n",
        "p = subprocess.Popen(['wc'],\n",
        "          stdout = subprocess.PIPE,\n",
        "          stdin = subprocess.PIPE)\n",
        "\n",
        "# Send the data and get the output\n",
        "stdout, stderr = p.communicate(text)\n",
        "\n",
        "text = stdout.decode('utf-8')\n",
        "print(text)\n"
      ],
      "metadata": {
        "id": "c5W0nroJA6ir"
      },
      "execution_count": null,
      "outputs": []
    },
    {
      "cell_type": "code",
      "source": [
        "#!/usr/bin/env python3.3\n",
        "\n",
        "import os\n",
        "import time\n",
        "\n",
        "def modified_within(top, seconds):\n",
        "    now = time.time()\n",
        "    for path, dirs, files in os.walk(top):\n",
        "        for name in files:\n",
        "            fullpath = os.path.join(path, name)\n",
        "            if os.path.exists(fullpath):\n",
        "                mtime = os.path.getmtime(fullpath)\n",
        "                if mtime > (now - seconds):\n",
        "                    print(fullpath)\n",
        "            \n",
        "\n",
        "if __name__ == '__main__':\n",
        "    import sys\n",
        "    if len(sys.argv) != 3:\n",
        "        print('Usage: {} dir seconds'.format(sys.argv[0]))\n",
        "        raise SystemExit(1)\n",
        "    \n",
        "    modified_within(sys.argv[1], float(sys.argv[2]))\n",
        "\n",
        "    \n",
        "\n",
        "    "
      ],
      "metadata": {
        "id": "LbI_d7NeA6Zc"
      },
      "execution_count": null,
      "outputs": []
    },
    {
      "cell_type": "code",
      "source": [
        "from socket import AF_INET, AF_INET6, inet_pton, inet_ntop\n",
        "\n",
        "def cidr_range(cidr_address):\n",
        "    family = AF_INET6 if ':' in cidr_address else AF_INET\n",
        "    address, maskstr = cidr_address.split('/')\n",
        "    maskbits = int(maskstr)\n",
        "\n",
        "    # Parse the supplied address into bytes\n",
        "    addr_bytes = inet_pton(family, address)\n",
        "\n",
        "    # Calculate number of address bytes and mask bits\n",
        "    addr_len = len(addr_bytes)\n",
        "    numaddrs = 2**(addr_len*8 - maskbits)\n",
        "    mask = -numaddrs\n",
        "\n",
        "    # Generate addresses\n",
        "    addr = int.from_bytes(addr_bytes, 'big') & mask\n",
        "    for n in range(numaddrs):\n",
        "        yield inet_ntop(family, (addr+n).to_bytes(addr_len, 'big'))\n",
        "\n",
        "if __name__ == '__main__':\n",
        "   for a in cidr_range('123.45.67.89/27'):\n",
        "       print(a)\n",
        "\n",
        "   for a in cidr_range('12:3456:78:90ab:cd:ef01:23:34/125'):\n",
        "       print(a)"
      ],
      "metadata": {
        "id": "iHb2O9w5A6Rx"
      },
      "execution_count": null,
      "outputs": []
    },
    {
      "cell_type": "code",
      "source": [
        "import os\n",
        "sz = os.get_terminal_size()\n",
        "print(sz.columns, 'columns')\n",
        "print(sz.lines, 'lines')"
      ],
      "metadata": {
        "id": "MTCAt0S5A6Kd"
      },
      "execution_count": null,
      "outputs": []
    },
    {
      "cell_type": "code",
      "source": [
        "import time\n",
        "\n",
        "class Timer:\n",
        "    def __init__(self, func=time.perf_counter):\n",
        "        self.elapsed = 0.0\n",
        "        self._func = func\n",
        "        self._start = None\n",
        "\n",
        "    def start(self):\n",
        "        if self._start is not None:\n",
        "            raise RuntimeError('Already started')\n",
        "        self._start = self._func()\n",
        "        \n",
        "    def end(self):\n",
        "        if self._start is None:\n",
        "            raise RuntimeError('Not started')\n",
        "        end = self._func()\n",
        "        self.elapsed += end - self._start\n",
        "        self._start = None\n",
        "\n",
        "    def reset(self):\n",
        "        self.elapsed = 0.0\n",
        "\n",
        "    @property\n",
        "    def running(self):\n",
        "        return self._start is not None\n",
        "\n",
        "    def __enter__(self):\n",
        "        self.start()\n",
        "        return self\n",
        "\n",
        "    def __exit__(self, *args):\n",
        "        self.end()\n",
        "\n",
        "\n",
        "if __name__ == '__main__':\n",
        "    def countdown(n):\n",
        "        while n > 0:\n",
        "            n -= 1\n",
        "\n",
        "    t = Timer()\n",
        "    t.start()\n",
        "    countdown(1000000)\n",
        "    t.end()\n",
        "    print(t.elapsed)\n",
        "\n",
        "    with t:\n",
        "        countdown(1000000)\n",
        "    print(t.elapsed)\n"
      ],
      "metadata": {
        "id": "YBU0-1wUA6CX"
      },
      "execution_count": null,
      "outputs": []
    },
    {
      "cell_type": "code",
      "source": [
        "# search.py\n",
        "'''\n",
        "Hypothetical command line tool for searching a collection of\n",
        "files for one or more text patterns.\n",
        "'''\n",
        "import argparse\n",
        "parser = argparse.ArgumentParser(description='Search some files')\n",
        "\n",
        "parser.add_argument(dest='filenames',metavar='filename', nargs='*')\n",
        "\n",
        "parser.add_argument('-p', '--pat',metavar='pattern', required=True,\n",
        "                    dest='patterns', action='append',\n",
        "                    help='text pattern to search for')\n",
        "\n",
        "parser.add_argument('-v', dest='verbose', action='store_true', \n",
        "                    help='verbose mode')\n",
        "\n",
        "parser.add_argument('-o', dest='outfile', action='store',\n",
        "                    help='output file')\n",
        "\n",
        "parser.add_argument('--speed', dest='speed', action='store',\n",
        "                    choices={'slow','fast'}, default='slow',\n",
        "                    help='search speed')\n",
        "\n",
        "args = parser.parse_args()\n",
        "\n",
        "# Output the collected arguments\n",
        "print(args.filenames)\n",
        "print(args.patterns)\n",
        "print(args.verbose)\n",
        "print(args.outfile)\n",
        "print(args.speed)"
      ],
      "metadata": {
        "id": "HulRUrf-A55O"
      },
      "execution_count": null,
      "outputs": []
    },
    {
      "cell_type": "code",
      "source": [
        "import getpass\n",
        "\n",
        "user = getpass.getuser()\n",
        "passwd = getpass.getpass()\n",
        "\n",
        "print('User:', user)\n",
        "print('Passwd:', passwd)"
      ],
      "metadata": {
        "id": "qOfW2SgYA5iR"
      },
      "execution_count": null,
      "outputs": []
    },
    {
      "cell_type": "code",
      "execution_count": null,
      "metadata": {
        "id": "v9dg1qhlAn1p"
      },
      "outputs": [],
      "source": [
        "import signal\n",
        "import resource\n",
        "import os\n",
        "\n",
        "def time_exceeded(signo, frame):\n",
        "    print(\"Time's up!\")\n",
        "    raise SystemExit(1)\n",
        "\n",
        "def set_max_runtime(seconds):\n",
        "    # Install the signal handler and set a resource limit\n",
        "    soft, hard = resource.getrlimit(resource.RLIMIT_CPU)\n",
        "    resource.setrlimit(resource.RLIMIT_CPU, (seconds, hard))\n",
        "    signal.signal(signal.SIGXCPU, time_exceeded)\n",
        "\n",
        "if __name__ == '__main__':\n",
        "    set_max_runtime(15)\n",
        "    while True:\n",
        "        pass"
      ]
    },
    {
      "cell_type": "code",
      "source": [
        "%%writefile config.ini\n",
        "\n",
        "    ; config.ini\n",
        "    ; Sample configuration file\n",
        "\n",
        "    [installation]\n",
        "    library=%(prefix)s/lib\n",
        "    include=%(prefix)s/include\n",
        "    bin=%(prefix)s/bin\n",
        "    prefix=/usr/local\n",
        "\n",
        "    # Setting related to debug configuration\n",
        "    [debug]\n",
        "    log_errors=true\n",
        "    show_warnings=False\n",
        "\n",
        "    [server]\n",
        "    port: 8080       \n",
        "    nworkers: 32\n",
        "    pid-file=/tmp/spam.pid\n",
        "    root=/www/root\n",
        "    signature: \n",
        "        =================================\n",
        "        Brought to by the Python Cookbook\n",
        "        ================================="
      ],
      "metadata": {
        "id": "ngPunamwA-oF"
      },
      "execution_count": null,
      "outputs": []
    },
    {
      "cell_type": "code",
      "source": [
        "from configparser import ConfigParser\n",
        "cfg = ConfigParser()\n",
        "cfg.read('config.ini')\n",
        "print('sections:', cfg.sections())\n",
        "print('installation:library', cfg.get('installation','library'))\n",
        "print('debug:log_errors', cfg.getboolean('debug','log_errors'))\n",
        "print('server:port', cfg.getint('server','port'))\n",
        "print('server:nworkers', cfg.getint('server','nworkers'))\n",
        "print('server:signature', cfg.get('server','signature'))"
      ],
      "metadata": {
        "id": "6myWn9aBA-oG"
      },
      "execution_count": null,
      "outputs": []
    },
    {
      "cell_type": "code",
      "source": [
        "%%writefile logconfig.ini\n",
        "[loggers]\n",
        "keys=root\n",
        "    \n",
        "[handlers]\n",
        "keys=defaultHandler\n",
        "    \n",
        "[formatters]\n",
        "keys=defaultFormatter\n",
        "\n",
        "[logger_root]\n",
        "level=INFO\n",
        "handlers=defaultHandler\n",
        "qualname=root\n",
        "    \n",
        "[handler_defaultHandler]\n",
        "class=FileHandler\n",
        "formatter=defaultFormatter\n",
        "args=('app.log', 'a')\n",
        "    \n",
        "[formatter_defaultFormatter]\n",
        "format=%(levelname)s:%(name)s:%(message)s"
      ],
      "metadata": {
        "id": "CTuGuUeiA-oI"
      },
      "execution_count": null,
      "outputs": []
    },
    {
      "cell_type": "code",
      "source": [
        "import logging\n",
        "\n",
        "def main():\n",
        "    # Configure the logging system\n",
        "    logging.basicConfig(\n",
        "        filename='app.log',\n",
        "        level=logging.ERROR\n",
        "    )\n",
        "\n",
        "    # Variables (to make the calls that follow work)\n",
        "    hostname = 'www.python.org'\n",
        "    item = 'spam'\n",
        "    filename = 'data.csv'\n",
        "    mode = 'r'\n",
        "\n",
        "    # Example logging calls (insert into your program)\n",
        "    logging.critical('Host %s unknown', hostname)\n",
        "    logging.error(\"Couldn't find %r\", item)\n",
        "    logging.warning('Feature is deprecated')\n",
        "    logging.info('Opening file %r, mode=%r', filename, mode)\n",
        "    logging.debug('Got here')\n",
        "\n",
        "if __name__ == '__main__':\n",
        "    main()"
      ],
      "metadata": {
        "id": "o8xwn8uLA-oI"
      },
      "execution_count": null,
      "outputs": []
    },
    {
      "cell_type": "code",
      "source": [
        "import logging\n",
        "import logging.config\n",
        "\n",
        "def main():\n",
        "    # Configure the logging system\n",
        "    logging.config.fileConfig('logconfig.ini')\n",
        "\n",
        "    # Variables (to make the calls that follow work)\n",
        "    hostname = 'www.python.org'\n",
        "    item = 'spam'\n",
        "    filename = 'data.csv'\n",
        "    mode = 'r'\n",
        "\n",
        "    # Example logging calls (insert into your program)\n",
        "    logging.critical('Host %s unknown', hostname)\n",
        "    logging.error(\"Couldn't find %r\", item)\n",
        "    logging.warning('Feature is deprecated')\n",
        "    logging.info('Opening file %r, mode=%r', filename, mode)\n",
        "    logging.debug('Got here')\n",
        "\n",
        "if __name__ == '__main__':\n",
        "    main()"
      ],
      "metadata": {
        "id": "EjsLUwsdA-oI"
      },
      "execution_count": null,
      "outputs": []
    },
    {
      "cell_type": "code",
      "source": [],
      "metadata": {
        "id": "Bx-3yGg8A-oI"
      },
      "execution_count": null,
      "outputs": []
    },
    {
      "cell_type": "code",
      "source": [],
      "metadata": {
        "id": "y_ZsuTP8A-oI"
      },
      "execution_count": null,
      "outputs": []
    }
  ]
}