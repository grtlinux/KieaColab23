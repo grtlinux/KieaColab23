{
  "nbformat": 4,
  "nbformat_minor": 0,
  "metadata": {
    "colab": {
      "provenance": [],
      "authorship_tag": "ABX9TyOHZALX6UOu8MS/RGJBkuwO",
      "include_colab_link": true
    },
    "kernelspec": {
      "name": "python3",
      "display_name": "Python 3"
    },
    "language_info": {
      "name": "python"
    }
  },
  "cells": [
    {
      "cell_type": "markdown",
      "metadata": {
        "id": "view-in-github",
        "colab_type": "text"
      },
      "source": [
        "<a href=\"https://colab.research.google.com/github/grtlinux/KieaColab23/blob/main/Cookbook/03.ipynb\" target=\"_parent\"><img src=\"https://colab.research.google.com/assets/colab-badge.svg\" alt=\"Open In Colab\"/></a>"
      ]
    },
    {
      "cell_type": "markdown",
      "source": [
        "# Python Cookbook\n",
        "\n",
        "## 03.\n",
        "\n",
        "---"
      ],
      "metadata": {
        "id": "2PClEsIDD30C"
      }
    },
    {
      "cell_type": "code",
      "execution_count": null,
      "metadata": {
        "id": "eoXrtlZBDyY4"
      },
      "outputs": [],
      "source": [
        "from datetime import datetime, timedelta\n",
        "\n",
        "weekdays = ['Monday', 'Tuesday', 'Wednesday', 'Thursday', 'Friday', 'Saturday', 'Sunday']\n",
        "\n",
        "def get_previous_byday(dayname, start_date=None):\n",
        "    if start_date is None:\n",
        "        start_date = datetime.today()\n",
        "    day_num = start_date.weekday()\n",
        "    day_num_target = weekdays.index(dayname)\n",
        "    days_ago = (7 + day_num - day_num_target) % 7 \n",
        "    if days_ago == 0:\n",
        "        days_ago = 7\n",
        "    target_date = start_date - timedelta(days=days_ago)\n",
        "    return target_date\n"
      ]
    },
    {
      "cell_type": "code",
      "source": [
        "from datetime import datetime, date, timedelta\n",
        "import calendar\n",
        "\n",
        "def get_month_range(start_date=None):\n",
        "    if start_date is None:\n",
        "        start_date = date.today().replace(day=1)\n",
        "    days_in_month = calendar.monthrange(start_date.year, start_date.month)[1]\n",
        "    end_date = start_date + timedelta(days=days_in_month)\n",
        "    return (start_date, end_date)\n",
        "\n",
        "first_day, last_day = get_month_range()\n",
        "a_day = timedelta(days=1)\n",
        "while first_day < last_day:\n",
        "    print(first_day)\n",
        "    first_day += a_day\n",
        "\n",
        "def daterange(start, stop, step):\n",
        "    while start < stop:\n",
        "        yield start\n",
        "        start += step\n",
        "\n",
        "for d in daterange(date(2012, 8, 1), date(2012, 8, 11), timedelta(days=1)):\n",
        "    print(d)\n",
        "\n",
        "for d in daterange(datetime(2012, 8, 1), datetime(2012, 8, 3), timedelta(minutes=30)):\n",
        "    print(d)\n"
      ],
      "metadata": {
        "id": "3IvSpOQVEDn-"
      },
      "execution_count": null,
      "outputs": []
    },
    {
      "cell_type": "code",
      "source": [],
      "metadata": {
        "id": "i6YsM7LnED4f"
      },
      "execution_count": null,
      "outputs": []
    },
    {
      "cell_type": "code",
      "source": [],
      "metadata": {
        "id": "oUczxQFqEECS"
      },
      "execution_count": null,
      "outputs": []
    },
    {
      "cell_type": "code",
      "source": [],
      "metadata": {
        "id": "VrOORb3AEEKL"
      },
      "execution_count": null,
      "outputs": []
    },
    {
      "cell_type": "code",
      "source": [],
      "metadata": {
        "id": "JAp3razCEERu"
      },
      "execution_count": null,
      "outputs": []
    },
    {
      "cell_type": "code",
      "source": [],
      "metadata": {
        "id": "AYxztrRsEEZQ"
      },
      "execution_count": null,
      "outputs": []
    },
    {
      "cell_type": "code",
      "source": [],
      "metadata": {
        "id": "4a6NQ2RGEEgi"
      },
      "execution_count": null,
      "outputs": []
    },
    {
      "cell_type": "code",
      "source": [],
      "metadata": {
        "id": "O3ep14p7EEn5"
      },
      "execution_count": null,
      "outputs": []
    },
    {
      "cell_type": "code",
      "source": [],
      "metadata": {
        "id": "nurOLuQ-EEuv"
      },
      "execution_count": null,
      "outputs": []
    },
    {
      "cell_type": "code",
      "source": [],
      "metadata": {
        "id": "VbLnsPElEE15"
      },
      "execution_count": null,
      "outputs": []
    },
    {
      "cell_type": "code",
      "source": [],
      "metadata": {
        "id": "ogZLiqtiEE9K"
      },
      "execution_count": null,
      "outputs": []
    },
    {
      "cell_type": "code",
      "source": [],
      "metadata": {
        "id": "Z2Ba72MvEFaU"
      },
      "execution_count": null,
      "outputs": []
    }
  ]
}