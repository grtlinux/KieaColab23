{
  "nbformat": 4,
  "nbformat_minor": 0,
  "metadata": {
    "colab": {
      "provenance": [],
      "authorship_tag": "ABX9TyO/8J1HVWUjpj6EbMB5gyi1",
      "include_colab_link": true
    },
    "kernelspec": {
      "name": "python3",
      "display_name": "Python 3"
    },
    "language_info": {
      "name": "python"
    }
  },
  "cells": [
    {
      "cell_type": "markdown",
      "metadata": {
        "id": "view-in-github",
        "colab_type": "text"
      },
      "source": [
        "<a href=\"https://colab.research.google.com/github/grtlinux/KieaColab23/blob/main/Cookbook/10.ipynb\" target=\"_parent\"><img src=\"https://colab.research.google.com/assets/colab-badge.svg\" alt=\"Open In Colab\"/></a>"
      ]
    },
    {
      "cell_type": "markdown",
      "source": [
        "# Python Cookbook\n",
        "\n",
        "## 10. 모듈과 패키지\n",
        "\n",
        "---"
      ],
      "metadata": {
        "id": "sgANdjT10G0I"
      }
    },
    {
      "cell_type": "code",
      "source": [
        "%%writefile testcode/grok/__init__.py\n",
        "print(\"I'm grok.__init__\")"
      ],
      "metadata": {
        "id": "tEpRdh5U0Tvq"
      },
      "execution_count": null,
      "outputs": []
    },
    {
      "cell_type": "code",
      "source": [
        "%%writefile testcode/grok/blah.py\n",
        "print(\"I'm grok.blah\")"
      ],
      "metadata": {
        "id": "dV0tt1Fh0TpU"
      },
      "execution_count": null,
      "outputs": []
    },
    {
      "cell_type": "code",
      "source": [
        "%%writefile testcode/fib.py\n",
        "print(\"I'm fib\")\n",
        "\n",
        "def fib(n):\n",
        "    if n < 2:\n",
        "        return 1\n",
        "    else:\n",
        "        return fib(n-1) + fib(n-2)"
      ],
      "metadata": {
        "id": "eoXfA2ij0Ti4"
      },
      "execution_count": null,
      "outputs": []
    },
    {
      "cell_type": "code",
      "source": [
        "%%writefile testcode/spam.py\n",
        "print(\"I'm spam\")\n",
        "\n",
        "def hello(name):\n",
        "    print('Hello %s' % name)"
      ],
      "metadata": {
        "id": "RETSsp-r0Tc5"
      },
      "execution_count": null,
      "outputs": []
    },
    {
      "cell_type": "code",
      "source": [
        "# Example of explicit module loading using imp library\n",
        "\n",
        "import imp\n",
        "import urllib.request\n",
        "import sys\n",
        "\n",
        "def load_module(url):\n",
        "    u = urllib.request.urlopen(url)\n",
        "    source = u.read().decode('utf-8')\n",
        "    mod = sys.modules.setdefault(url, imp.new_module(url))\n",
        "    code = compile(source, url, 'exec')\n",
        "    mod.__file__ = url\n",
        "    mod.__package__ = ''\n",
        "    exec(code, mod.__dict__)\n",
        "    return mod\n",
        "\n",
        "if __name__ == '__main__':\n",
        "    fib = load_module('http://localhost:15000/fib.py')\n",
        "    print(fib.fib(10))\n",
        "    spam = load_module('http://localhost:15000/spam.py')\n",
        "    spam.hello('Guido')\n",
        "    print(fib)\n",
        "    print(spam)"
      ],
      "metadata": {
        "id": "X9Td51-30TXH"
      },
      "execution_count": null,
      "outputs": []
    },
    {
      "cell_type": "code",
      "source": [
        "# metaexample.py\n",
        "#\n",
        "# Example of using a meta-path importer\n",
        "\n",
        "# Enable for debugging\n",
        "if False:\n",
        "    import logging\n",
        "    logging.basicConfig(level=logging.DEBUG)\n",
        "\n",
        "import urlimport\n",
        "urlimport.install_meta('http://localhost:15000')\n",
        "\n",
        "import fib\n",
        "import spam\n",
        "import grok.blah\n",
        "print(grok.blah.__file__)"
      ],
      "metadata": {
        "id": "k_eXHdyS0TRl"
      },
      "execution_count": null,
      "outputs": []
    },
    {
      "cell_type": "code",
      "source": [
        "# Example of path-path import hook\n",
        "\n",
        "# Enable for debugging\n",
        "if False:\n",
        "    import logging\n",
        "    logging.basicConfig(level=logging.DEBUG)\n",
        "\n",
        "import urlimport\n",
        "urlimport.install_path_hook()\n",
        "\n",
        "import sys\n",
        "sys.path.append('http://localhost:15000')\n",
        "\n",
        "import fib\n",
        "import spam\n",
        "import grok.blah\n",
        "print(grok.blah.__file__)\n"
      ],
      "metadata": {
        "id": "W7zqD_AN0TMC"
      },
      "execution_count": null,
      "outputs": []
    },
    {
      "cell_type": "code",
      "source": [
        "# urlimport.py\n",
        "\n",
        "import sys\n",
        "import importlib.abc\n",
        "import imp\n",
        "from urllib.request import urlopen\n",
        "from urllib.error import HTTPError, URLError\n",
        "from html.parser import HTMLParser\n",
        "\n",
        "# Debugging\n",
        "import logging\n",
        "log = logging.getLogger(__name__)\n",
        "\n",
        "# Get links from a given URL\n",
        "def _get_links(url):\n",
        "    class LinkParser(HTMLParser):\n",
        "        def handle_starttag(self, tag, attrs):\n",
        "            if tag == 'a':\n",
        "                attrs = dict(attrs)\n",
        "                links.add(attrs.get('href').rstrip('/'))\n",
        "\n",
        "    links = set()\n",
        "    try:\n",
        "        log.debug('Getting links from %s' % url)\n",
        "        u = urlopen(url)\n",
        "        parser = LinkParser()\n",
        "        parser.feed(u.read().decode('utf-8'))\n",
        "    except Exception as e:\n",
        "        log.debug('Could not get links. %s', e)\n",
        "    log.debug('links: %r', links)\n",
        "    return links\n",
        "\n",
        "class UrlMetaFinder(importlib.abc.MetaPathFinder):\n",
        "    def __init__(self, baseurl):\n",
        "        self._baseurl = baseurl\n",
        "        self._links   = { }\n",
        "        self._loaders = { baseurl : UrlModuleLoader(baseurl) }\n",
        "\n",
        "    def find_module(self, fullname, path=None):\n",
        "        log.debug('find_module: fullname=%r, path=%r', fullname, path)\n",
        "        if path is None:\n",
        "            baseurl = self._baseurl\n",
        "        else:\n",
        "            if not path[0].startswith(self._baseurl):\n",
        "                return None\n",
        "            baseurl = path[0]\n",
        "\n",
        "        parts = fullname.split('.')\n",
        "        basename = parts[-1]\n",
        "        log.debug('find_module: baseurl=%r, basename=%r', baseurl, basename)\n",
        "\n",
        "        # Check link cache\n",
        "        if basename not in self._links:\n",
        "            self._links[baseurl] = _get_links(baseurl)\n",
        "\n",
        "        # Check if it's a package\n",
        "        if basename in self._links[baseurl]:\n",
        "            log.debug('find_module: trying package %r', fullname)\n",
        "            fullurl = self._baseurl + '/' + basename\n",
        "            # Attempt to load the package (which accesses __init__.py)\n",
        "            loader = UrlPackageLoader(fullurl)\n",
        "            try:\n",
        "                loader.load_module(fullname)\n",
        "                self._links[fullurl] = _get_links(fullurl)\n",
        "                self._loaders[fullurl] = UrlModuleLoader(fullurl)\n",
        "                log.debug('find_module: package %r loaded', fullname)\n",
        "            except ImportError as e:\n",
        "                log.debug('find_module: package failed. %s', e)\n",
        "                loader = None\n",
        "            return loader\n",
        "\n",
        "        # A normal module\n",
        "        filename = basename + '.py'\n",
        "        if filename in self._links[baseurl]:\n",
        "            log.debug('find_module: module %r found', fullname)\n",
        "            return self._loaders[baseurl]\n",
        "        else:\n",
        "            log.debug('find_module: module %r not found', fullname)\n",
        "            return None\n",
        "\n",
        "    def invalidate_caches(self):\n",
        "        log.debug('invalidating link cache')\n",
        "        self._links.clear()\n",
        "\n",
        "# Module Loader for a URL\n",
        "class UrlModuleLoader(importlib.abc.SourceLoader):\n",
        "    def __init__(self, baseurl):\n",
        "        self._baseurl = baseurl\n",
        "        self._source_cache = {}\n",
        "\n",
        "    def module_repr(self, module):\n",
        "        return '<urlmodule %r from %r>' % (module.__name__, module.__file__)\n",
        "\n",
        "    # Required method\n",
        "    def load_module(self, fullname):\n",
        "        code = self.get_code(fullname)\n",
        "        mod = sys.modules.setdefault(fullname, imp.new_module(fullname))\n",
        "        mod.__file__ = self.get_filename(fullname)\n",
        "        mod.__loader__ = self\n",
        "        mod.__package__ = fullname.rpartition('.')[0]\n",
        "        exec(code, mod.__dict__)\n",
        "        return mod\n",
        "\n",
        "    # Optional extensions\n",
        "    def get_code(self, fullname):\n",
        "        src = self.get_source(fullname)\n",
        "        return compile(src, self.get_filename(fullname), 'exec')\n",
        "\n",
        "    def get_data(self, path):\n",
        "        pass\n",
        "\n",
        "    def get_filename(self, fullname):\n",
        "        return self._baseurl + '/' + fullname.split('.')[-1] + '.py'\n",
        "\n",
        "    def get_source(self, fullname):\n",
        "        filename = self.get_filename(fullname)\n",
        "        log.debug('loader: reading %r', filename)\n",
        "        if filename in self._source_cache:\n",
        "            log.debug('loader: cached %r', filename)\n",
        "            return self._source_cache[filename]\n",
        "        try:\n",
        "            u = urlopen(filename)\n",
        "            source = u.read().decode('utf-8')\n",
        "            log.debug('loader: %r loaded', filename)\n",
        "            self._source_cache[filename] = source\n",
        "            return source\n",
        "        except (HTTPError, URLError) as e:\n",
        "            log.debug('loader: %r failed.  %s', filename, e)\n",
        "            raise ImportError(\"Can't load %s\" % filename)\n",
        "\n",
        "    def is_package(self, fullname):\n",
        "        return False\n",
        "\n",
        "# Package loader for a URL\n",
        "class UrlPackageLoader(UrlModuleLoader):\n",
        "    def load_module(self, fullname):\n",
        "        mod = super().load_module(fullname)\n",
        "        mod.__path__ = [ self._baseurl ]\n",
        "        mod.__package__ = fullname\n",
        "\n",
        "    def get_filename(self, fullname):\n",
        "        return self._baseurl + '/' + '__init__.py'\n",
        "\n",
        "    def is_package(self, fullname):\n",
        "        return True\n",
        "\n",
        "# Utility functions for installing/uninstalling the loader\n",
        "_installed_meta_cache = { }\n",
        "def install_meta(address):\n",
        "    if address not in _installed_meta_cache:\n",
        "        finder = UrlMetaFinder(address)\n",
        "        _installed_meta_cache[address] = finder\n",
        "        sys.meta_path.append(finder)\n",
        "        log.debug('%r installed on sys.meta_path', finder)\n",
        "    \n",
        "def remove_meta(address):\n",
        "    if address in _installed_meta_cache:\n",
        "        finder = _installed_meta_cache.pop(address)\n",
        "        sys.meta_path.remove(finder)\n",
        "        log.debug('%r removed from sys.meta_path', finder)\n",
        "\n",
        "# Path finder class for a URL\n",
        "class UrlPathFinder(importlib.abc.PathEntryFinder):\n",
        "    def __init__(self, baseurl):\n",
        "        self._links = None\n",
        "        self._loader = UrlModuleLoader(baseurl)\n",
        "        self._baseurl = baseurl\n",
        "\n",
        "    def find_loader(self, fullname):\n",
        "        log.debug('find_loader: %r', fullname)\n",
        "        parts = fullname.split('.')\n",
        "        basename = parts[-1]\n",
        "        # Check link cache\n",
        "        if self._links is None:\n",
        "            self._links = []     # See discussion\n",
        "            self._links = _get_links(self._baseurl)\n",
        "\n",
        "        # Check if it's a package\n",
        "        if basename in self._links:\n",
        "            log.debug('find_loader: trying package %r', fullname)\n",
        "            fullurl = self._baseurl + '/' + basename\n",
        "            # Attempt to load the package (which accesses __init__.py)\n",
        "            loader = UrlPackageLoader(fullurl)\n",
        "            try:\n",
        "                loader.load_module(fullname)\n",
        "                log.debug('find_loader: package %r loaded', fullname)\n",
        "            except ImportError as e:\n",
        "                log.debug('find_loader: %r is a namespace package', fullname)\n",
        "                loader = None\n",
        "            return (loader, [fullurl])\n",
        "\n",
        "        # A normal module\n",
        "        filename = basename + '.py'\n",
        "        if filename in self._links:\n",
        "            log.debug('find_loader: module %r found', fullname)\n",
        "            return (self._loader, [])\n",
        "        else:\n",
        "            log.debug('find_loader: module %r not found', fullname)\n",
        "            return (None, [])\n",
        "\n",
        "    def invalidate_caches(self):\n",
        "        log.debug('invalidating link cache')\n",
        "        self._links = None\n",
        "\n",
        "# Check path to see if it looks like a URL\n",
        "_url_path_cache = {}\n",
        "def handle_url(path):\n",
        "    if path.startswith(('http://', 'https://')):\n",
        "        log.debug('Handle path? %s. [Yes]', path)\n",
        "        if path in _url_path_cache:\n",
        "            finder = _url_path_cache[path]\n",
        "        else:\n",
        "            finder = UrlPathFinder(path)\n",
        "            _url_path_cache[path] = finder\n",
        "        return finder\n",
        "    else:\n",
        "        log.debug('Handle path? %s. [No]', path)\n",
        "\n",
        "def install_path_hook():\n",
        "    sys.path_hooks.append(handle_url)\n",
        "    sys.path_importer_cache.clear()\n",
        "    log.debug('Installing handle_url')\n",
        "    \n",
        "def remove_path_hook():\n",
        "    sys.path_hooks.remove(handle_url)\n",
        "    sys.path_importer_cache.clear()\n",
        "    log.debug('Removing handle_url')\n",
        "    "
      ],
      "metadata": {
        "id": "AUEIqxqs0THx"
      },
      "execution_count": null,
      "outputs": []
    },
    {
      "cell_type": "code",
      "source": [
        "%%writefile bar-package/spam/grok.py\n",
        "print('bar-package grok!')"
      ],
      "metadata": {
        "id": "EMMw8_FN0TB0"
      },
      "execution_count": null,
      "outputs": []
    },
    {
      "cell_type": "code",
      "source": [
        "%%writefile foo-package/spam/blah.py\n",
        "print('foo-package blah!')"
      ],
      "metadata": {
        "id": "dPd12p4F0S8P"
      },
      "execution_count": null,
      "outputs": []
    },
    {
      "cell_type": "code",
      "source": [
        "import sys\n",
        "sys.path.extend(['foo-package', 'bar-package'])\n",
        "import spam.blah\n",
        "import spam.grok"
      ],
      "metadata": {
        "id": "EiiLjwtd0S22"
      },
      "execution_count": null,
      "outputs": []
    },
    {
      "cell_type": "code",
      "source": [
        "from postimport import when_imported\n",
        "\n",
        "@when_imported('threading')\n",
        "def warn_threads(mod):\n",
        "    print('Threads? Are you crazy?')\n",
        "\n",
        "if __name__ == '__main__':\n",
        "    import threading"
      ],
      "metadata": {
        "id": "oiv2l7Tg0SxL"
      },
      "execution_count": null,
      "outputs": []
    },
    {
      "cell_type": "code",
      "source": [
        "from postimport import when_imported\n",
        "from functools import wraps\n",
        "\n",
        "\n",
        "def logged(func):\n",
        "    @wraps(func)\n",
        "    def wrapper(*args, **kwargs):\n",
        "        print('Calling', func.__name__, args, kwargs)\n",
        "        return func(*args, **kwargs)\n",
        "    return wrapper\n",
        "\n",
        "# Example\n",
        "@when_imported('math')\n",
        "def add_logging(mod):\n",
        "    mod.cos = logged(mod.cos)\n",
        "    mod.sin = logged(mod.sin)\n",
        "\n",
        "if __name__ == '__main__':\n",
        "    import math\n",
        "    print(math.cos(2))\n",
        "    print(math.sin(2))\n"
      ],
      "metadata": {
        "id": "e-IoQcT40SrY"
      },
      "execution_count": null,
      "outputs": []
    },
    {
      "cell_type": "code",
      "source": [
        "# postimport.py\n",
        "\n",
        "import importlib\n",
        "import sys\n",
        "from collections import defaultdict\n",
        "\n",
        "_post_import_hooks = defaultdict(list)\n",
        "\n",
        "class PostImportFinder:\n",
        "    def __init__(self):\n",
        "        self._skip = set()\n",
        "\n",
        "    def find_module(self, fullname, path=None):\n",
        "        if fullname in self._skip:\n",
        "            return None\n",
        "        self._skip.add(fullname)\n",
        "        return PostImportLoader(self)\n",
        "\n",
        "class PostImportLoader:\n",
        "    def __init__(self, finder):\n",
        "        self._finder = finder\n",
        "\n",
        "    def load_module(self, fullname):\n",
        "        importlib.import_module(fullname)\n",
        "        module = sys.modules[fullname]\n",
        "        for func in _post_import_hooks[fullname]:\n",
        "            func(module)\n",
        "        self._finder._skip.remove(fullname)\n",
        "        return module\n",
        "\n",
        "def when_imported(fullname):\n",
        "    def decorate(func):\n",
        "        if fullname in sys.modules:\n",
        "            func(sys.modules[fullname])\n",
        "        else:\n",
        "            _post_import_hooks[fullname].append(func)\n",
        "        return func\n",
        "    return decorate\n",
        "    \n",
        "sys.meta_path.insert(0, PostImportFinder())"
      ],
      "metadata": {
        "id": "x2nNdYPk0Slh"
      },
      "execution_count": null,
      "outputs": []
    },
    {
      "cell_type": "code",
      "source": [
        "%%writefile mymodule/__init__.py\n",
        "# __init__.py\n",
        "\n",
        "from .a import A\n",
        "from .b import B\n"
      ],
      "metadata": {
        "id": "Gi0KEnWx0SgJ"
      },
      "execution_count": null,
      "outputs": []
    },
    {
      "cell_type": "code",
      "source": [
        "%%writefile mymodule/a.py\n",
        "# a.py\n",
        "\n",
        "class A:\n",
        "    def spam(self):\n",
        "        print('A.spam')\n"
      ],
      "metadata": {
        "id": "QKZS6PRh0SZZ"
      },
      "execution_count": null,
      "outputs": []
    },
    {
      "cell_type": "code",
      "source": [
        "%%writefile mymodule/b.py\n",
        "# b.py\n",
        "\n",
        "from .a import A\n",
        "\n",
        "class B(A):\n",
        "    def bar(self):\n",
        "        print('B.bar')\n"
      ],
      "metadata": {
        "id": "lduMW6US0SSi"
      },
      "execution_count": null,
      "outputs": []
    },
    {
      "cell_type": "code",
      "source": [
        "import mymodule\n",
        "a = mymodule.A()\n",
        "a.spam()\n",
        "\n",
        "b = mymodule.B()\n",
        "b.bar()"
      ],
      "metadata": {
        "id": "sPeK8BuB0SMx"
      },
      "execution_count": null,
      "outputs": []
    },
    {
      "cell_type": "code",
      "source": [],
      "metadata": {
        "id": "J7IbF_p70SE0"
      },
      "execution_count": null,
      "outputs": []
    },
    {
      "cell_type": "code",
      "execution_count": null,
      "metadata": {
        "id": "Fi54434D0EHS"
      },
      "outputs": [],
      "source": []
    }
  ]
}