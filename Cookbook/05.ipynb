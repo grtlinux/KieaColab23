{
  "nbformat": 4,
  "nbformat_minor": 0,
  "metadata": {
    "colab": {
      "provenance": [],
      "authorship_tag": "ABX9TyPfOWOVbDZ11nR/L9RBWcoT",
      "include_colab_link": true
    },
    "kernelspec": {
      "name": "python3",
      "display_name": "Python 3"
    },
    "language_info": {
      "name": "python"
    }
  },
  "cells": [
    {
      "cell_type": "markdown",
      "metadata": {
        "id": "view-in-github",
        "colab_type": "text"
      },
      "source": [
        "<a href=\"https://colab.research.google.com/github/grtlinux/KieaColab23/blob/main/Cookbook/05.ipynb\" target=\"_parent\"><img src=\"https://colab.research.google.com/assets/colab-badge.svg\" alt=\"Open In Colab\"/></a>"
      ]
    },
    {
      "cell_type": "markdown",
      "source": [
        "# Python Cookbook\n",
        "\n",
        "## 05. 파일과 입출력\n",
        "\n",
        "---"
      ],
      "metadata": {
        "id": "RQrbtOaYpr0M"
      }
    },
    {
      "cell_type": "code",
      "execution_count": null,
      "metadata": {
        "id": "C3sPe1eSo6Bc"
      },
      "outputs": [],
      "source": [
        "# Example of adding a text encoding to existing file-like object\n",
        "\n",
        "import urllib.request\n",
        "import io\n",
        "\n",
        "u = urllib.request.urlopen('http://www.python.org')\n",
        "f = io.TextIOWrapper(u, encoding='utf-8')\n",
        "text = f.read()\n",
        "\n",
        "print(text)\n"
      ]
    },
    {
      "cell_type": "code",
      "source": [
        "# Example of getting a directory listing\n",
        "\n",
        "import os\n",
        "import os.path\n",
        "import glob\n",
        "\n",
        "pyfiles = glob.glob('*.py')\n",
        "\n",
        "# Get file sizes and modification dates\n",
        "name_sz_date = [(name, os.path.getsize(name), os.path.getmtime(name))\n",
        "                for name in pyfiles]\n",
        "\n",
        "for r in name_sz_date:\n",
        "    print(r)\n",
        "\n",
        "# Get file metadata\n",
        "file_metadata = [(name, os.stat(name)) for name in pyfiles]\n",
        "for name, meta in file_metadata:\n",
        "    print(name, meta.st_size, meta.st_mtime)"
      ],
      "metadata": {
        "id": "JXdbpm70qG8v"
      },
      "execution_count": null,
      "outputs": []
    },
    {
      "cell_type": "code",
      "source": [
        "# Example of iterating of fixed-size records\n",
        "#\n",
        "# The file 'data.bin' contains 32-byte fixed size records\n",
        "# that consist of a 4-digit number followed by a 28-byte string.\n",
        "\n",
        "from functools import partial\n",
        "RECORD_SIZE = 32\n",
        "\n",
        "with open('data.bin', 'rb') as f:\n",
        "    records = iter(partial(f.read, RECORD_SIZE), b'')\n",
        "    for r in records:\n",
        "        print(r)\n"
      ],
      "metadata": {
        "id": "2HT0YafoqHN7"
      },
      "execution_count": null,
      "outputs": []
    },
    {
      "cell_type": "code",
      "source": [
        "%%writefile data.bin\n",
        "   0                5412 N CLARK   3                5148 N CLARK  10                 5800 E 58TH   4                2122 N CLARK   1           5645 N RAVENSWOOD   7              1060 W ADDISON   6             4801 N BROADWAY   1            1039 W GRANVILLE"
      ],
      "metadata": {
        "id": "cI2MG8zGqHY-"
      },
      "execution_count": null,
      "outputs": []
    },
    {
      "cell_type": "code",
      "source": [
        "# Some examples of reading text files with different options\n",
        "#\n",
        "# The file sample.txt is a UTF-8 encoded text file with Windows\n",
        "# line-endings (\\r\\n).\n",
        "\n",
        "# (a) Reading a basic text file (UTF-8 default encoding)\n",
        "\n",
        "print(\"Reading a simple text file (UTF-8)\")\n",
        "with open('sample.txt', 'rt') as f:\n",
        "    for line in f:\n",
        "        print(repr(line))\n",
        "\n",
        "# (b) Reading a text file with universal newlines turned off\n",
        "print(\"Reading text file with universal newlines off\")\n",
        "with open('sample.txt', 'rt', newline='') as f:\n",
        "    for line in f:\n",
        "        print(repr(line))\n",
        "\n",
        "# (c) Reading text file as ASCII with replacement error handling\n",
        "print(\"Reading text as ASCII with replacement error handling\")\n",
        "with open('sample.txt', 'rt', encoding='ascii', errors='replace') as f:\n",
        "    for line in f:\n",
        "        print(repr(line))\n",
        "\n",
        "# (d) Reading text file as ASCII with ignore error handling\n",
        "print(\"Reading text as ASCII with ignore error handling\")\n",
        "with open('sample.txt', 'rt', encoding='ascii', errors='ignore') as f:\n",
        "    for line in f:\n",
        "        print(repr(line))\n"
      ],
      "metadata": {
        "id": "mY4jhqC9qHjL"
      },
      "execution_count": null,
      "outputs": []
    },
    {
      "cell_type": "code",
      "source": [
        "%%writefile sample.txt\n",
        "Hello World\n",
        "Spicy Jalapeño"
      ],
      "metadata": {
        "id": "6rzt5zKiqHso"
      },
      "execution_count": null,
      "outputs": []
    },
    {
      "cell_type": "code",
      "source": [
        "from socket import socket, AF_INET, SOCK_STREAM\n",
        "\n",
        "def echo_client(client_sock, addr):\n",
        "    print(\"Got connection from\", addr)\n",
        "\n",
        "    # Make text-mode file wrappers for socket reading/writing\n",
        "    client_in = open(client_sock.fileno(), 'rt', encoding='latin-1', closefd=False)\n",
        "    client_out = open(client_sock.fileno(), 'wt', encoding='latin-1', closefd=False)\n",
        "\n",
        "    # Echo lines back to the client using file I/O\n",
        "    for line in client_in:\n",
        "        client_out.write(line)\n",
        "        client_out.flush()\n",
        "    client_sock.close()\n",
        "\n",
        "def echo_server(address):\n",
        "    sock = socket(AF_INET, SOCK_STREAM)\n",
        "    sock.bind(address)\n",
        "    sock.listen(1)\n",
        "    while True:\n",
        "        client, addr = sock.accept()\n",
        "        echo_client(client, addr)\n",
        "\n",
        "if __name__ == '__main__':\n",
        "    print('Echo serving running on localhost:25000')\n",
        "    echo_server(('', 25000))"
      ],
      "metadata": {
        "id": "nGqPOoUEqH2E"
      },
      "execution_count": null,
      "outputs": []
    },
    {
      "cell_type": "code",
      "source": [
        "# Example of writing raw bytes on a file opened in text mode\n",
        "\n",
        "import sys\n",
        "\n",
        "# A byte string\n",
        "data = b'Hello World\\n'\n",
        "\n",
        "# Write onto the buffer attribute (bypassing text encoding)\n",
        "sys.stdout.buffer.write(data)"
      ],
      "metadata": {
        "id": "LR1sS6FLqIAK"
      },
      "execution_count": null,
      "outputs": []
    },
    {
      "cell_type": "code",
      "source": [],
      "metadata": {
        "id": "Bn5q0cW7q8hv"
      },
      "execution_count": null,
      "outputs": []
    }
  ]
}