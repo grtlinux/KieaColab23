{
  "nbformat": 4,
  "nbformat_minor": 0,
  "metadata": {
    "colab": {
      "provenance": [],
      "authorship_tag": "ABX9TyM4H9DXRBFQ3qYNqmGef+K6",
      "include_colab_link": true
    },
    "kernelspec": {
      "name": "python3",
      "display_name": "Python 3"
    },
    "language_info": {
      "name": "python"
    },
    "accelerator": "GPU",
    "gpuClass": "standard"
  },
  "cells": [
    {
      "cell_type": "markdown",
      "metadata": {
        "id": "view-in-github",
        "colab_type": "text"
      },
      "source": [
        "<a href=\"https://colab.research.google.com/github/grtlinux/KieaColab23/blob/main/hello/Hello_03.ipynb\" target=\"_parent\"><img src=\"https://colab.research.google.com/assets/colab-badge.svg\" alt=\"Open In Colab\"/></a>"
      ]
    },
    {
      "cell_type": "markdown",
      "source": [
        "# Hello_03.ipynb\n",
        "\n",
        "## System info"
      ],
      "metadata": {
        "id": "EVVLpZG7jSNh"
      }
    },
    {
      "cell_type": "markdown",
      "source": [
        "- 플랫폼"
      ],
      "metadata": {
        "id": "faw4tC6PaaXH"
      }
    },
    {
      "cell_type": "code",
      "execution_count": null,
      "metadata": {
        "colab": {
          "base_uri": "https://localhost:8080/",
          "height": 36
        },
        "id": "1GwNhBlFZR6G",
        "outputId": "a7f48282-3303-4805-a3b5-f5e646741f71"
      },
      "outputs": [
        {
          "output_type": "execute_result",
          "data": {
            "text/plain": [
              "'Linux-5.10.147+-x86_64-with-glibc2.31'"
            ],
            "application/vnd.google.colaboratory.intrinsic+json": {
              "type": "string"
            }
          },
          "metadata": {},
          "execution_count": 1
        }
      ],
      "source": [
        "import platform\n",
        "platform.platform()"
      ]
    },
    {
      "cell_type": "markdown",
      "source": [
        "- 운영체제"
      ],
      "metadata": {
        "id": "pTZm2ptKah0G"
      }
    },
    {
      "cell_type": "code",
      "source": [
        "! cat /etc/issue.net"
      ],
      "metadata": {
        "colab": {
          "base_uri": "https://localhost:8080/"
        },
        "id": "s_AW5--3aVAa",
        "outputId": "f0c6ce28-0d45-49ae-d706-fa3818f3561d"
      },
      "execution_count": null,
      "outputs": [
        {
          "output_type": "stream",
          "name": "stdout",
          "text": [
            "Ubuntu 20.04.5 LTS\n"
          ]
        }
      ]
    },
    {
      "cell_type": "markdown",
      "source": [
        "- CPU 사양"
      ],
      "metadata": {
        "id": "V95Q4wKJaq7I"
      }
    },
    {
      "cell_type": "code",
      "source": [
        "! cat /proc/cpuinfo"
      ],
      "metadata": {
        "colab": {
          "base_uri": "https://localhost:8080/"
        },
        "id": "nALZ4Jtga_E1",
        "outputId": "64d46448-43f0-40db-d854-2d5c5345669d"
      },
      "execution_count": null,
      "outputs": [
        {
          "output_type": "stream",
          "name": "stdout",
          "text": [
            "processor\t: 0\n",
            "vendor_id\t: GenuineIntel\n",
            "cpu family\t: 6\n",
            "model\t\t: 79\n",
            "model name\t: Intel(R) Xeon(R) CPU @ 2.20GHz\n",
            "stepping\t: 0\n",
            "microcode\t: 0xffffffff\n",
            "cpu MHz\t\t: 2199.998\n",
            "cache size\t: 56320 KB\n",
            "physical id\t: 0\n",
            "siblings\t: 2\n",
            "core id\t\t: 0\n",
            "cpu cores\t: 1\n",
            "apicid\t\t: 0\n",
            "initial apicid\t: 0\n",
            "fpu\t\t: yes\n",
            "fpu_exception\t: yes\n",
            "cpuid level\t: 13\n",
            "wp\t\t: yes\n",
            "flags\t\t: fpu vme de pse tsc msr pae mce cx8 apic sep mtrr pge mca cmov pat pse36 clflush mmx fxsr sse sse2 ss ht syscall nx pdpe1gb rdtscp lm constant_tsc rep_good nopl xtopology nonstop_tsc cpuid tsc_known_freq pni pclmulqdq ssse3 fma cx16 pcid sse4_1 sse4_2 x2apic movbe popcnt aes xsave avx f16c rdrand hypervisor lahf_lm abm 3dnowprefetch invpcid_single ssbd ibrs ibpb stibp fsgsbase tsc_adjust bmi1 hle avx2 smep bmi2 erms invpcid rtm rdseed adx smap xsaveopt arat md_clear arch_capabilities\n",
            "bugs\t\t: cpu_meltdown spectre_v1 spectre_v2 spec_store_bypass l1tf mds swapgs taa mmio_stale_data retbleed\n",
            "bogomips\t: 4399.99\n",
            "clflush size\t: 64\n",
            "cache_alignment\t: 64\n",
            "address sizes\t: 46 bits physical, 48 bits virtual\n",
            "power management:\n",
            "\n",
            "processor\t: 1\n",
            "vendor_id\t: GenuineIntel\n",
            "cpu family\t: 6\n",
            "model\t\t: 79\n",
            "model name\t: Intel(R) Xeon(R) CPU @ 2.20GHz\n",
            "stepping\t: 0\n",
            "microcode\t: 0xffffffff\n",
            "cpu MHz\t\t: 2199.998\n",
            "cache size\t: 56320 KB\n",
            "physical id\t: 0\n",
            "siblings\t: 2\n",
            "core id\t\t: 0\n",
            "cpu cores\t: 1\n",
            "apicid\t\t: 1\n",
            "initial apicid\t: 1\n",
            "fpu\t\t: yes\n",
            "fpu_exception\t: yes\n",
            "cpuid level\t: 13\n",
            "wp\t\t: yes\n",
            "flags\t\t: fpu vme de pse tsc msr pae mce cx8 apic sep mtrr pge mca cmov pat pse36 clflush mmx fxsr sse sse2 ss ht syscall nx pdpe1gb rdtscp lm constant_tsc rep_good nopl xtopology nonstop_tsc cpuid tsc_known_freq pni pclmulqdq ssse3 fma cx16 pcid sse4_1 sse4_2 x2apic movbe popcnt aes xsave avx f16c rdrand hypervisor lahf_lm abm 3dnowprefetch invpcid_single ssbd ibrs ibpb stibp fsgsbase tsc_adjust bmi1 hle avx2 smep bmi2 erms invpcid rtm rdseed adx smap xsaveopt arat md_clear arch_capabilities\n",
            "bugs\t\t: cpu_meltdown spectre_v1 spectre_v2 spec_store_bypass l1tf mds swapgs taa mmio_stale_data retbleed\n",
            "bogomips\t: 4399.99\n",
            "clflush size\t: 64\n",
            "cache_alignment\t: 64\n",
            "address sizes\t: 46 bits physical, 48 bits virtual\n",
            "power management:\n",
            "\n"
          ]
        }
      ]
    },
    {
      "cell_type": "markdown",
      "source": [
        "- 메모리 사양"
      ],
      "metadata": {
        "id": "GPxFg5CQbCCt"
      }
    },
    {
      "cell_type": "code",
      "source": [
        "! cat /proc/meminfo"
      ],
      "metadata": {
        "colab": {
          "base_uri": "https://localhost:8080/"
        },
        "id": "DHeeO6T9bDX8",
        "outputId": "b9bc4dcd-e6fe-4e13-9bbe-fb0a569cf373"
      },
      "execution_count": null,
      "outputs": [
        {
          "output_type": "stream",
          "name": "stdout",
          "text": [
            "MemTotal:       13297200 kB\n",
            "MemFree:         9312548 kB\n",
            "MemAvailable:   12328116 kB\n",
            "Buffers:          329840 kB\n",
            "Cached:          2844700 kB\n",
            "SwapCached:            0 kB\n",
            "Active:           586348 kB\n",
            "Inactive:        3168640 kB\n",
            "Active(anon):       1020 kB\n",
            "Inactive(anon):   562348 kB\n",
            "Active(file):     585328 kB\n",
            "Inactive(file):  2606292 kB\n",
            "Unevictable:           0 kB\n",
            "Mlocked:               0 kB\n",
            "SwapTotal:             0 kB\n",
            "SwapFree:              0 kB\n",
            "Dirty:              1212 kB\n",
            "Writeback:             0 kB\n",
            "AnonPages:        580376 kB\n",
            "Mapped:           256068 kB\n",
            "Shmem:              1304 kB\n",
            "KReclaimable:     130800 kB\n",
            "Slab:             161180 kB\n",
            "SReclaimable:     130800 kB\n",
            "SUnreclaim:        30380 kB\n",
            "KernelStack:        4080 kB\n",
            "PageTables:        10320 kB\n",
            "NFS_Unstable:          0 kB\n",
            "Bounce:                0 kB\n",
            "WritebackTmp:          0 kB\n",
            "CommitLimit:     6648600 kB\n",
            "Committed_AS:    2541008 kB\n",
            "VmallocTotal:   34359738367 kB\n",
            "VmallocUsed:        8932 kB\n",
            "VmallocChunk:          0 kB\n",
            "Percpu:             1336 kB\n",
            "HardwareCorrupted:     0 kB\n",
            "AnonHugePages:         0 kB\n",
            "ShmemHugePages:        0 kB\n",
            "ShmemPmdMapped:        0 kB\n",
            "FileHugePages:         0 kB\n",
            "FilePmdMapped:         0 kB\n",
            "CmaTotal:              0 kB\n",
            "CmaFree:               0 kB\n",
            "HugePages_Total:       0\n",
            "HugePages_Free:        0\n",
            "HugePages_Rsvd:        0\n",
            "HugePages_Surp:        0\n",
            "Hugepagesize:       2048 kB\n",
            "Hugetlb:               0 kB\n",
            "DirectMap4k:       95040 kB\n",
            "DirectMap2M:     5144576 kB\n",
            "DirectMap1G:    10485760 kB\n"
          ]
        }
      ]
    },
    {
      "cell_type": "markdown",
      "source": [
        "- 디스크 사양"
      ],
      "metadata": {
        "id": "zbG19XGjbEAg"
      }
    },
    {
      "cell_type": "code",
      "source": [
        "! df -h"
      ],
      "metadata": {
        "colab": {
          "base_uri": "https://localhost:8080/"
        },
        "id": "yBDKoF-fbER1",
        "outputId": "97e91aee-3dec-48c5-ba5b-d34aee70498d"
      },
      "execution_count": null,
      "outputs": [
        {
          "output_type": "stream",
          "name": "stdout",
          "text": [
            "Filesystem      Size  Used Avail Use% Mounted on\n",
            "overlay         108G   26G   83G  24% /\n",
            "tmpfs            64M     0   64M   0% /dev\n",
            "shm             5.8G     0  5.8G   0% /dev/shm\n",
            "/dev/root       2.0G  1.1G  841M  58% /usr/sbin/docker-init\n",
            "tmpfs           6.4G   36K  6.4G   1% /var/colab\n",
            "/dev/sda1        70G   44G   26G  64% /etc/hosts\n",
            "tmpfs           6.4G     0  6.4G   0% /proc/acpi\n",
            "tmpfs           6.4G     0  6.4G   0% /proc/scsi\n",
            "tmpfs           6.4G     0  6.4G   0% /sys/firmware\n"
          ]
        }
      ]
    },
    {
      "cell_type": "markdown",
      "source": [
        "- GPU 사양 (NVIDIA)  <- [수정] > [노트 설정] > [하드웨어 가속기] : GPU 선택후"
      ],
      "metadata": {
        "id": "HpbtmXDqcFpC"
      }
    },
    {
      "cell_type": "code",
      "source": [
        "! nvidia-smi"
      ],
      "metadata": {
        "colab": {
          "base_uri": "https://localhost:8080/"
        },
        "id": "eq24Rqc6cKeQ",
        "outputId": "4cb853b7-d2f5-4098-fe14-f8c7d6443756"
      },
      "execution_count": null,
      "outputs": [
        {
          "output_type": "stream",
          "name": "stdout",
          "text": [
            "Mon Mar 13 10:10:21 2023       \n",
            "+-----------------------------------------------------------------------------+\n",
            "| NVIDIA-SMI 525.85.12    Driver Version: 525.85.12    CUDA Version: 12.0     |\n",
            "|-------------------------------+----------------------+----------------------+\n",
            "| GPU  Name        Persistence-M| Bus-Id        Disp.A | Volatile Uncorr. ECC |\n",
            "| Fan  Temp  Perf  Pwr:Usage/Cap|         Memory-Usage | GPU-Util  Compute M. |\n",
            "|                               |                      |               MIG M. |\n",
            "|===============================+======================+======================|\n",
            "|   0  Tesla T4            Off  | 00000000:00:04.0 Off |                    0 |\n",
            "| N/A   71C    P0    29W /  70W |      0MiB / 15360MiB |      0%      Default |\n",
            "|                               |                      |                  N/A |\n",
            "+-------------------------------+----------------------+----------------------+\n",
            "                                                                               \n",
            "+-----------------------------------------------------------------------------+\n",
            "| Processes:                                                                  |\n",
            "|  GPU   GI   CI        PID   Type   Process name                  GPU Memory |\n",
            "|        ID   ID                                                   Usage      |\n",
            "|=============================================================================|\n",
            "|  No running processes found                                                 |\n",
            "+-----------------------------------------------------------------------------+\n"
          ]
        }
      ]
    },
    {
      "cell_type": "code",
      "source": [
        "! python --version"
      ],
      "metadata": {
        "colab": {
          "base_uri": "https://localhost:8080/"
        },
        "id": "R-o5LQZ2bwK3",
        "outputId": "c3b7a87d-34b6-4d68-ec37-4b58c5fe3072"
      },
      "execution_count": null,
      "outputs": [
        {
          "output_type": "stream",
          "name": "stdout",
          "text": [
            "Python 3.9.16\n"
          ]
        }
      ]
    },
    {
      "cell_type": "code",
      "source": [
        "! pip --version"
      ],
      "metadata": {
        "colab": {
          "base_uri": "https://localhost:8080/"
        },
        "id": "oA8Pe6pAb0X0",
        "outputId": "aebd2502-4f1b-44b8-fbb5-844934db34f5"
      },
      "execution_count": null,
      "outputs": [
        {
          "output_type": "stream",
          "name": "stdout",
          "text": [
            "pip 22.0.4 from /usr/local/lib/python3.9/dist-packages/pip (python 3.9)\n"
          ]
        }
      ]
    },
    {
      "cell_type": "markdown",
      "source": [
        "# 파일 저장 및 다운로드/업로드"
      ],
      "metadata": {
        "id": "wW99VCadeCtM"
      }
    },
    {
      "cell_type": "code",
      "source": [
        "%%writefile test.txt\n",
        "Hello, world!!!\n",
        "Goodbye"
      ],
      "metadata": {
        "colab": {
          "base_uri": "https://localhost:8080/"
        },
        "id": "dofBYRuvb4Bn",
        "outputId": "f89719a1-27be-411a-ebff-cfaa5df0498b"
      },
      "execution_count": null,
      "outputs": [
        {
          "output_type": "stream",
          "name": "stdout",
          "text": [
            "Writing test.txt\n"
          ]
        }
      ]
    },
    {
      "cell_type": "code",
      "source": [
        "! cat test.txt"
      ],
      "metadata": {
        "colab": {
          "base_uri": "https://localhost:8080/"
        },
        "id": "XT-6jKgWeLvY",
        "outputId": "73b95555-7444-4bcd-93ee-df0a1f3aecc3"
      },
      "execution_count": null,
      "outputs": [
        {
          "output_type": "stream",
          "name": "stdout",
          "text": [
            "Hello, world!!!\n",
            "Goodbye\n"
          ]
        }
      ]
    },
    {
      "cell_type": "code",
      "source": [
        "from google.colab import files\n",
        "files.download('test.txt')"
      ],
      "metadata": {
        "colab": {
          "base_uri": "https://localhost:8080/",
          "height": 17
        },
        "id": "PVnraqCAeL4V",
        "outputId": "56932010-95f8-4dc2-b33d-c00971d16d99"
      },
      "execution_count": null,
      "outputs": [
        {
          "output_type": "display_data",
          "data": {
            "text/plain": [
              "<IPython.core.display.Javascript object>"
            ],
            "application/javascript": [
              "\n",
              "    async function download(id, filename, size) {\n",
              "      if (!google.colab.kernel.accessAllowed) {\n",
              "        return;\n",
              "      }\n",
              "      const div = document.createElement('div');\n",
              "      const label = document.createElement('label');\n",
              "      label.textContent = `Downloading \"${filename}\": `;\n",
              "      div.appendChild(label);\n",
              "      const progress = document.createElement('progress');\n",
              "      progress.max = size;\n",
              "      div.appendChild(progress);\n",
              "      document.body.appendChild(div);\n",
              "\n",
              "      const buffers = [];\n",
              "      let downloaded = 0;\n",
              "\n",
              "      const channel = await google.colab.kernel.comms.open(id);\n",
              "      // Send a message to notify the kernel that we're ready.\n",
              "      channel.send({})\n",
              "\n",
              "      for await (const message of channel.messages) {\n",
              "        // Send a message to notify the kernel that we're ready.\n",
              "        channel.send({})\n",
              "        if (message.buffers) {\n",
              "          for (const buffer of message.buffers) {\n",
              "            buffers.push(buffer);\n",
              "            downloaded += buffer.byteLength;\n",
              "            progress.value = downloaded;\n",
              "          }\n",
              "        }\n",
              "      }\n",
              "      const blob = new Blob(buffers, {type: 'application/binary'});\n",
              "      const a = document.createElement('a');\n",
              "      a.href = window.URL.createObjectURL(blob);\n",
              "      a.download = filename;\n",
              "      div.appendChild(a);\n",
              "      a.click();\n",
              "      div.remove();\n",
              "    }\n",
              "  "
            ]
          },
          "metadata": {}
        },
        {
          "output_type": "display_data",
          "data": {
            "text/plain": [
              "<IPython.core.display.Javascript object>"
            ],
            "application/javascript": [
              "download(\"download_ed66970a-8383-4ce5-856b-4b3cdd3d6f9b\", \"test.txt\", 24)"
            ]
          },
          "metadata": {}
        }
      ]
    },
    {
      "cell_type": "code",
      "source": [
        "upload = files.upload()"
      ],
      "metadata": {
        "colab": {
          "base_uri": "https://localhost:8080/",
          "height": 112
        },
        "id": "yv0GhZCweMAZ",
        "outputId": "130830db-326b-438b-9fc0-af1d3c64f30c"
      },
      "execution_count": null,
      "outputs": [
        {
          "output_type": "display_data",
          "data": {
            "text/plain": [
              "<IPython.core.display.HTML object>"
            ],
            "text/html": [
              "\n",
              "     <input type=\"file\" id=\"files-55e23fee-7845-440d-b918-a0ec562719cb\" name=\"files[]\" multiple disabled\n",
              "        style=\"border:none\" />\n",
              "     <output id=\"result-55e23fee-7845-440d-b918-a0ec562719cb\">\n",
              "      Upload widget is only available when the cell has been executed in the\n",
              "      current browser session. Please rerun this cell to enable.\n",
              "      </output>\n",
              "      <script>// Copyright 2017 Google LLC\n",
              "//\n",
              "// Licensed under the Apache License, Version 2.0 (the \"License\");\n",
              "// you may not use this file except in compliance with the License.\n",
              "// You may obtain a copy of the License at\n",
              "//\n",
              "//      http://www.apache.org/licenses/LICENSE-2.0\n",
              "//\n",
              "// Unless required by applicable law or agreed to in writing, software\n",
              "// distributed under the License is distributed on an \"AS IS\" BASIS,\n",
              "// WITHOUT WARRANTIES OR CONDITIONS OF ANY KIND, either express or implied.\n",
              "// See the License for the specific language governing permissions and\n",
              "// limitations under the License.\n",
              "\n",
              "/**\n",
              " * @fileoverview Helpers for google.colab Python module.\n",
              " */\n",
              "(function(scope) {\n",
              "function span(text, styleAttributes = {}) {\n",
              "  const element = document.createElement('span');\n",
              "  element.textContent = text;\n",
              "  for (const key of Object.keys(styleAttributes)) {\n",
              "    element.style[key] = styleAttributes[key];\n",
              "  }\n",
              "  return element;\n",
              "}\n",
              "\n",
              "// Max number of bytes which will be uploaded at a time.\n",
              "const MAX_PAYLOAD_SIZE = 100 * 1024;\n",
              "\n",
              "function _uploadFiles(inputId, outputId) {\n",
              "  const steps = uploadFilesStep(inputId, outputId);\n",
              "  const outputElement = document.getElementById(outputId);\n",
              "  // Cache steps on the outputElement to make it available for the next call\n",
              "  // to uploadFilesContinue from Python.\n",
              "  outputElement.steps = steps;\n",
              "\n",
              "  return _uploadFilesContinue(outputId);\n",
              "}\n",
              "\n",
              "// This is roughly an async generator (not supported in the browser yet),\n",
              "// where there are multiple asynchronous steps and the Python side is going\n",
              "// to poll for completion of each step.\n",
              "// This uses a Promise to block the python side on completion of each step,\n",
              "// then passes the result of the previous step as the input to the next step.\n",
              "function _uploadFilesContinue(outputId) {\n",
              "  const outputElement = document.getElementById(outputId);\n",
              "  const steps = outputElement.steps;\n",
              "\n",
              "  const next = steps.next(outputElement.lastPromiseValue);\n",
              "  return Promise.resolve(next.value.promise).then((value) => {\n",
              "    // Cache the last promise value to make it available to the next\n",
              "    // step of the generator.\n",
              "    outputElement.lastPromiseValue = value;\n",
              "    return next.value.response;\n",
              "  });\n",
              "}\n",
              "\n",
              "/**\n",
              " * Generator function which is called between each async step of the upload\n",
              " * process.\n",
              " * @param {string} inputId Element ID of the input file picker element.\n",
              " * @param {string} outputId Element ID of the output display.\n",
              " * @return {!Iterable<!Object>} Iterable of next steps.\n",
              " */\n",
              "function* uploadFilesStep(inputId, outputId) {\n",
              "  const inputElement = document.getElementById(inputId);\n",
              "  inputElement.disabled = false;\n",
              "\n",
              "  const outputElement = document.getElementById(outputId);\n",
              "  outputElement.innerHTML = '';\n",
              "\n",
              "  const pickedPromise = new Promise((resolve) => {\n",
              "    inputElement.addEventListener('change', (e) => {\n",
              "      resolve(e.target.files);\n",
              "    });\n",
              "  });\n",
              "\n",
              "  const cancel = document.createElement('button');\n",
              "  inputElement.parentElement.appendChild(cancel);\n",
              "  cancel.textContent = 'Cancel upload';\n",
              "  const cancelPromise = new Promise((resolve) => {\n",
              "    cancel.onclick = () => {\n",
              "      resolve(null);\n",
              "    };\n",
              "  });\n",
              "\n",
              "  // Wait for the user to pick the files.\n",
              "  const files = yield {\n",
              "    promise: Promise.race([pickedPromise, cancelPromise]),\n",
              "    response: {\n",
              "      action: 'starting',\n",
              "    }\n",
              "  };\n",
              "\n",
              "  cancel.remove();\n",
              "\n",
              "  // Disable the input element since further picks are not allowed.\n",
              "  inputElement.disabled = true;\n",
              "\n",
              "  if (!files) {\n",
              "    return {\n",
              "      response: {\n",
              "        action: 'complete',\n",
              "      }\n",
              "    };\n",
              "  }\n",
              "\n",
              "  for (const file of files) {\n",
              "    const li = document.createElement('li');\n",
              "    li.append(span(file.name, {fontWeight: 'bold'}));\n",
              "    li.append(span(\n",
              "        `(${file.type || 'n/a'}) - ${file.size} bytes, ` +\n",
              "        `last modified: ${\n",
              "            file.lastModifiedDate ? file.lastModifiedDate.toLocaleDateString() :\n",
              "                                    'n/a'} - `));\n",
              "    const percent = span('0% done');\n",
              "    li.appendChild(percent);\n",
              "\n",
              "    outputElement.appendChild(li);\n",
              "\n",
              "    const fileDataPromise = new Promise((resolve) => {\n",
              "      const reader = new FileReader();\n",
              "      reader.onload = (e) => {\n",
              "        resolve(e.target.result);\n",
              "      };\n",
              "      reader.readAsArrayBuffer(file);\n",
              "    });\n",
              "    // Wait for the data to be ready.\n",
              "    let fileData = yield {\n",
              "      promise: fileDataPromise,\n",
              "      response: {\n",
              "        action: 'continue',\n",
              "      }\n",
              "    };\n",
              "\n",
              "    // Use a chunked sending to avoid message size limits. See b/62115660.\n",
              "    let position = 0;\n",
              "    do {\n",
              "      const length = Math.min(fileData.byteLength - position, MAX_PAYLOAD_SIZE);\n",
              "      const chunk = new Uint8Array(fileData, position, length);\n",
              "      position += length;\n",
              "\n",
              "      const base64 = btoa(String.fromCharCode.apply(null, chunk));\n",
              "      yield {\n",
              "        response: {\n",
              "          action: 'append',\n",
              "          file: file.name,\n",
              "          data: base64,\n",
              "        },\n",
              "      };\n",
              "\n",
              "      let percentDone = fileData.byteLength === 0 ?\n",
              "          100 :\n",
              "          Math.round((position / fileData.byteLength) * 100);\n",
              "      percent.textContent = `${percentDone}% done`;\n",
              "\n",
              "    } while (position < fileData.byteLength);\n",
              "  }\n",
              "\n",
              "  // All done.\n",
              "  yield {\n",
              "    response: {\n",
              "      action: 'complete',\n",
              "    }\n",
              "  };\n",
              "}\n",
              "\n",
              "scope.google = scope.google || {};\n",
              "scope.google.colab = scope.google.colab || {};\n",
              "scope.google.colab._files = {\n",
              "  _uploadFiles,\n",
              "  _uploadFilesContinue,\n",
              "};\n",
              "})(self);\n",
              "</script> "
            ]
          },
          "metadata": {}
        },
        {
          "output_type": "stream",
          "name": "stdout",
          "text": [
            "Saving screencapture-flyasiana-I-KR-KO-RevenueFarePayment-do-2023-03-02-19_07_27.png to screencapture-flyasiana-I-KR-KO-RevenueFarePayment-do-2023-03-02-19_07_27.png\n"
          ]
        }
      ]
    },
    {
      "cell_type": "code",
      "source": [
        "! ls -l"
      ],
      "metadata": {
        "colab": {
          "base_uri": "https://localhost:8080/"
        },
        "id": "ualDqk7JeMI3",
        "outputId": "9c377b72-5281-4077-a89d-035653e55cd2"
      },
      "execution_count": null,
      "outputs": [
        {
          "output_type": "stream",
          "name": "stdout",
          "text": [
            "total 2648\n",
            "drwxr-xr-x 1 root root    4096 Mar  9 18:58 sample_data\n",
            "-rw-r--r-- 1 root root 2701710 Mar 13 10:21 screencapture-flyasiana-I-KR-KO-RevenueFarePayment-do-2023-03-02-19_07_27.png\n",
            "-rw-r--r-- 1 root root      24 Mar 13 10:17 test.txt\n"
          ]
        }
      ]
    },
    {
      "cell_type": "markdown",
      "source": [
        "# Google Drive 연동"
      ],
      "metadata": {
        "id": "bJW_xBnYfhrb"
      }
    },
    {
      "cell_type": "code",
      "source": [
        "from google.colab import drive\n",
        "drive.mount('/content/drive')"
      ],
      "metadata": {
        "colab": {
          "base_uri": "https://localhost:8080/"
        },
        "id": "cVYLN_xseMVN",
        "outputId": "2e76b5e2-2708-4c3a-9eae-b40640afb81b"
      },
      "execution_count": null,
      "outputs": [
        {
          "output_type": "stream",
          "name": "stdout",
          "text": [
            "Drive already mounted at /content/drive; to attempt to forcibly remount, call drive.mount(\"/content/drive\", force_remount=True).\n"
          ]
        }
      ]
    },
    {
      "cell_type": "code",
      "source": [
        "! ls -l /content/drive/MyDrive"
      ],
      "metadata": {
        "colab": {
          "base_uri": "https://localhost:8080/"
        },
        "id": "nsBrOD0CfnP7",
        "outputId": "f1b95c6d-3352-45e3-f3b4-44549956fe8a"
      },
      "execution_count": null,
      "outputs": [
        {
          "output_type": "stream",
          "name": "stdout",
          "text": [
            "total 4517\n",
            "-rw------- 1 root root 3792107 Mar 11  2019  20190312_012648.jpg\n",
            "drwx------ 2 root root    4096 Feb  9  2020 'Anyfile Notepad Files'\n",
            "drwx------ 2 root root    4096 Mar 13 09:55 'Colab Notebooks'\n",
            "drwx------ 2 root root    4096 Jan 19  2019  _grtlinux\n",
            "-rw------- 1 root root   20168 Mar 13 07:47  Hello_01.ipynb\n",
            "-rw------- 1 root root  298397 Mar 13 09:50  Hello_02.ipynb\n",
            "-rw------- 1 root root  115514 May  2  2020  README_1000_20190904.txt\n",
            "-rw------- 1 root root   56388 Sep 25  2019  README-alcohol.190925.txt\n",
            "-rw------- 1 root root  135150 Oct 16  2019  README_mid_20190909.txt\n",
            "-rw------- 1 root root    7084 Oct 12  2019  README_pattern_20190914.txt\n",
            "-rw------- 1 root root       7 Oct 15  2019  README-temp.191015.txt\n",
            "-rw------- 1 root root   49458 Sep 12  2019 '스크린샷 2019-02-03 오후 4.13.34.png'\n",
            "-rw------- 1 root root  136443 Sep 20  2019 '오즈모 모바일3_퀵사용_캡처_20190919.PNG'\n"
          ]
        }
      ]
    },
    {
      "cell_type": "markdown",
      "source": [
        "# Jupyter Notebook\n",
        "\n",
        "## help"
      ],
      "metadata": {
        "id": "k9vaIT6vhQhm"
      }
    },
    {
      "cell_type": "code",
      "source": [
        "help(max)"
      ],
      "metadata": {
        "colab": {
          "base_uri": "https://localhost:8080/"
        },
        "id": "-lwxXm5TfnSr",
        "outputId": "b4196c0c-d603-4dad-8e6b-20ee4219a449"
      },
      "execution_count": null,
      "outputs": [
        {
          "output_type": "stream",
          "name": "stdout",
          "text": [
            "Help on built-in function max in module builtins:\n",
            "\n",
            "max(...)\n",
            "    max(iterable, *[, default=obj, key=func]) -> value\n",
            "    max(arg1, arg2, *args, *[, key=func]) -> value\n",
            "    \n",
            "    With a single iterable argument, return its biggest item. The\n",
            "    default keyword-only argument specifies an object to return if\n",
            "    the provided iterable is empty.\n",
            "    With two or more arguments, return the largest argument.\n",
            "\n"
          ]
        }
      ]
    },
    {
      "cell_type": "code",
      "source": [
        "max?"
      ],
      "metadata": {
        "id": "Pa-hRRX0fnVZ"
      },
      "execution_count": null,
      "outputs": []
    },
    {
      "cell_type": "code",
      "source": [
        "li = ['one','two','three']\n",
        "li?\n",
        "li.count?\n",
        "help(li)\n"
      ],
      "metadata": {
        "colab": {
          "base_uri": "https://localhost:8080/"
        },
        "id": "0kp9gTgEfnYR",
        "outputId": "534b638c-42fd-4425-e803-792c5ada587a"
      },
      "execution_count": null,
      "outputs": [
        {
          "output_type": "stream",
          "name": "stdout",
          "text": [
            "Help on list object:\n",
            "\n",
            "class list(object)\n",
            " |  list(iterable=(), /)\n",
            " |  \n",
            " |  Built-in mutable sequence.\n",
            " |  \n",
            " |  If no argument is given, the constructor creates a new empty list.\n",
            " |  The argument must be an iterable if specified.\n",
            " |  \n",
            " |  Methods defined here:\n",
            " |  \n",
            " |  __add__(self, value, /)\n",
            " |      Return self+value.\n",
            " |  \n",
            " |  __contains__(self, key, /)\n",
            " |      Return key in self.\n",
            " |  \n",
            " |  __delitem__(self, key, /)\n",
            " |      Delete self[key].\n",
            " |  \n",
            " |  __eq__(self, value, /)\n",
            " |      Return self==value.\n",
            " |  \n",
            " |  __ge__(self, value, /)\n",
            " |      Return self>=value.\n",
            " |  \n",
            " |  __getattribute__(self, name, /)\n",
            " |      Return getattr(self, name).\n",
            " |  \n",
            " |  __getitem__(...)\n",
            " |      x.__getitem__(y) <==> x[y]\n",
            " |  \n",
            " |  __gt__(self, value, /)\n",
            " |      Return self>value.\n",
            " |  \n",
            " |  __iadd__(self, value, /)\n",
            " |      Implement self+=value.\n",
            " |  \n",
            " |  __imul__(self, value, /)\n",
            " |      Implement self*=value.\n",
            " |  \n",
            " |  __init__(self, /, *args, **kwargs)\n",
            " |      Initialize self.  See help(type(self)) for accurate signature.\n",
            " |  \n",
            " |  __iter__(self, /)\n",
            " |      Implement iter(self).\n",
            " |  \n",
            " |  __le__(self, value, /)\n",
            " |      Return self<=value.\n",
            " |  \n",
            " |  __len__(self, /)\n",
            " |      Return len(self).\n",
            " |  \n",
            " |  __lt__(self, value, /)\n",
            " |      Return self<value.\n",
            " |  \n",
            " |  __mul__(self, value, /)\n",
            " |      Return self*value.\n",
            " |  \n",
            " |  __ne__(self, value, /)\n",
            " |      Return self!=value.\n",
            " |  \n",
            " |  __repr__(self, /)\n",
            " |      Return repr(self).\n",
            " |  \n",
            " |  __reversed__(self, /)\n",
            " |      Return a reverse iterator over the list.\n",
            " |  \n",
            " |  __rmul__(self, value, /)\n",
            " |      Return value*self.\n",
            " |  \n",
            " |  __setitem__(self, key, value, /)\n",
            " |      Set self[key] to value.\n",
            " |  \n",
            " |  __sizeof__(self, /)\n",
            " |      Return the size of the list in memory, in bytes.\n",
            " |  \n",
            " |  append(self, object, /)\n",
            " |      Append object to the end of the list.\n",
            " |  \n",
            " |  clear(self, /)\n",
            " |      Remove all items from list.\n",
            " |  \n",
            " |  copy(self, /)\n",
            " |      Return a shallow copy of the list.\n",
            " |  \n",
            " |  count(self, value, /)\n",
            " |      Return number of occurrences of value.\n",
            " |  \n",
            " |  extend(self, iterable, /)\n",
            " |      Extend list by appending elements from the iterable.\n",
            " |  \n",
            " |  index(self, value, start=0, stop=9223372036854775807, /)\n",
            " |      Return first index of value.\n",
            " |      \n",
            " |      Raises ValueError if the value is not present.\n",
            " |  \n",
            " |  insert(self, index, object, /)\n",
            " |      Insert object before index.\n",
            " |  \n",
            " |  pop(self, index=-1, /)\n",
            " |      Remove and return item at index (default last).\n",
            " |      \n",
            " |      Raises IndexError if list is empty or index is out of range.\n",
            " |  \n",
            " |  remove(self, value, /)\n",
            " |      Remove first occurrence of value.\n",
            " |      \n",
            " |      Raises ValueError if the value is not present.\n",
            " |  \n",
            " |  reverse(self, /)\n",
            " |      Reverse *IN PLACE*.\n",
            " |  \n",
            " |  sort(self, /, *, key=None, reverse=False)\n",
            " |      Sort the list in ascending order and return None.\n",
            " |      \n",
            " |      The sort is in-place (i.e. the list itself is modified) and stable (i.e. the\n",
            " |      order of two equal elements is maintained).\n",
            " |      \n",
            " |      If a key function is given, apply it once to each list item and sort them,\n",
            " |      ascending or descending, according to their function values.\n",
            " |      \n",
            " |      The reverse flag can be set to sort in descending order.\n",
            " |  \n",
            " |  ----------------------------------------------------------------------\n",
            " |  Class methods defined here:\n",
            " |  \n",
            " |  __class_getitem__(...) from builtins.type\n",
            " |      See PEP 585\n",
            " |  \n",
            " |  ----------------------------------------------------------------------\n",
            " |  Static methods defined here:\n",
            " |  \n",
            " |  __new__(*args, **kwargs) from builtins.type\n",
            " |      Create and return a new object.  See help(type) for accurate signature.\n",
            " |  \n",
            " |  ----------------------------------------------------------------------\n",
            " |  Data and other attributes defined here:\n",
            " |  \n",
            " |  __hash__ = None\n",
            "\n"
          ]
        }
      ]
    },
    {
      "cell_type": "code",
      "source": [
        "def imsi(a, b):\n",
        "  ''' 이것은 임시로 사용하는 함수입니다. '''\n",
        "  return a + b"
      ],
      "metadata": {
        "id": "djzruaqYfnik"
      },
      "execution_count": null,
      "outputs": []
    },
    {
      "cell_type": "code",
      "source": [
        "imsi(3, 5)"
      ],
      "metadata": {
        "colab": {
          "base_uri": "https://localhost:8080/"
        },
        "id": "hEktBOk1iRym",
        "outputId": "468b3413-4b70-4dfa-cb3c-9ae9ff0d055c"
      },
      "execution_count": null,
      "outputs": [
        {
          "output_type": "execute_result",
          "data": {
            "text/plain": [
              "8"
            ]
          },
          "metadata": {},
          "execution_count": 19
        }
      ]
    },
    {
      "cell_type": "code",
      "source": [
        "imsi?"
      ],
      "metadata": {
        "id": "F1kgBFq6iSAd"
      },
      "execution_count": null,
      "outputs": []
    },
    {
      "cell_type": "code",
      "source": [
        "imsi??"
      ],
      "metadata": {
        "id": "jQfr5Gb_iSFo"
      },
      "execution_count": null,
      "outputs": []
    },
    {
      "cell_type": "markdown",
      "source": [
        "# TAB 자동완성"
      ],
      "metadata": {
        "id": "7ljxgG2xjGyw"
      }
    },
    {
      "cell_type": "code",
      "source": [
        "li = ['one','two','three']\n",
        "li.append()\n",
        "li.copy()"
      ],
      "metadata": {
        "id": "Onz_Cj0hjFar"
      },
      "execution_count": null,
      "outputs": []
    },
    {
      "cell_type": "markdown",
      "source": [
        "# wildcard 매칭"
      ],
      "metadata": {
        "id": "-G4IgCOfkZ4d"
      }
    },
    {
      "cell_type": "code",
      "source": [
        "*Error?"
      ],
      "metadata": {
        "id": "5UFCK7icjFd5"
      },
      "execution_count": null,
      "outputs": []
    },
    {
      "cell_type": "code",
      "source": [
        "str.*index*?"
      ],
      "metadata": {
        "id": "TzkVvdiQjFgj"
      },
      "execution_count": null,
      "outputs": []
    },
    {
      "cell_type": "markdown",
      "source": [
        "# magic command"
      ],
      "metadata": {
        "id": "hAgWxWkKk-q4"
      }
    },
    {
      "cell_type": "code",
      "source": [
        "%%writefile test.py\n",
        "print('Hello Colab')"
      ],
      "metadata": {
        "colab": {
          "base_uri": "https://localhost:8080/"
        },
        "id": "qzgGhSKQjFjU",
        "outputId": "3250f2ef-3677-408c-bf25-15e2ed36b7c7"
      },
      "execution_count": null,
      "outputs": [
        {
          "output_type": "stream",
          "name": "stdout",
          "text": [
            "Writing test.py\n"
          ]
        }
      ]
    },
    {
      "cell_type": "code",
      "source": [
        "%run test.py"
      ],
      "metadata": {
        "colab": {
          "base_uri": "https://localhost:8080/"
        },
        "id": "4gbIyzpkjFtq",
        "outputId": "202a96bc-95df-4009-d4ee-33f9c9d6d3d8"
      },
      "execution_count": null,
      "outputs": [
        {
          "output_type": "stream",
          "name": "stdout",
          "text": [
            "Hello Colab\n"
          ]
        }
      ]
    },
    {
      "cell_type": "code",
      "source": [
        "%cd /content\n",
        "!pwd\n",
        "%cd drive\n",
        "!pwd\n",
        "%cd .."
      ],
      "metadata": {
        "colab": {
          "base_uri": "https://localhost:8080/"
        },
        "id": "uWR8x1IspHoa",
        "outputId": "d2eff3d6-f17a-460d-fb66-b5344ff670da"
      },
      "execution_count": null,
      "outputs": [
        {
          "output_type": "stream",
          "name": "stdout",
          "text": [
            "/content\n",
            "/content\n",
            "/content/drive\n",
            "/content/drive\n",
            "/content\n"
          ]
        }
      ]
    },
    {
      "cell_type": "markdown",
      "source": [
        "# 코드 실행시간 측정"
      ],
      "metadata": {
        "id": "7R8ew2wulPtx"
      }
    },
    {
      "cell_type": "code",
      "source": [
        "%%timeit?"
      ],
      "metadata": {
        "id": "tGnWz2pjjFxA"
      },
      "execution_count": null,
      "outputs": []
    },
    {
      "cell_type": "code",
      "source": [
        "%timeit li = [n ** n for n in range(1000)]"
      ],
      "metadata": {
        "colab": {
          "base_uri": "https://localhost:8080/"
        },
        "id": "V_OW-GQalcFD",
        "outputId": "157b9dfa-eef6-4e93-ace7-99218ee4dfad"
      },
      "execution_count": null,
      "outputs": [
        {
          "output_type": "stream",
          "name": "stdout",
          "text": [
            "7.39 ms ± 35.6 µs per loop (mean ± std. dev. of 7 runs, 100 loops each)\n"
          ]
        }
      ]
    },
    {
      "cell_type": "code",
      "source": [
        "%%timeit\n",
        "li = []\n",
        "for n in range(1000):\n",
        "  li.append(n ** n)"
      ],
      "metadata": {
        "colab": {
          "base_uri": "https://localhost:8080/"
        },
        "id": "EGo1d6iglcIO",
        "outputId": "9c76eeea-98fd-4813-8b54-671332e90ddf"
      },
      "execution_count": null,
      "outputs": [
        {
          "output_type": "stream",
          "name": "stdout",
          "text": [
            "10.5 ms ± 3.16 ms per loop (mean ± std. dev. of 7 runs, 100 loops each)\n"
          ]
        }
      ]
    },
    {
      "cell_type": "markdown",
      "source": [
        "# In / Out"
      ],
      "metadata": {
        "id": "7-Z12cg3m0Cu"
      }
    },
    {
      "cell_type": "code",
      "source": [
        "In"
      ],
      "metadata": {
        "colab": {
          "base_uri": "https://localhost:8080/"
        },
        "id": "WllyW_d1lcLD",
        "outputId": "561963f5-c6a6-497d-d58f-a9b22605ece5"
      },
      "execution_count": null,
      "outputs": [
        {
          "output_type": "execute_result",
          "data": {
            "text/plain": [
              "['',\n",
              " \"get_ipython().system(' nvidia-smi')\",\n",
              " \"get_ipython().run_cell_magic('writefile', 'test.txt', 'Hello, world!!!\\\\nGoodbye\\\\n')\",\n",
              " \"get_ipython().system(' cat test.txt')\",\n",
              " \"from google.colab import files\\nfiles.download('test.txt')\",\n",
              " 'upload = files.upload()',\n",
              " \"get_ipython().system(' ls -l')\",\n",
              " \"from google.colab import drive\\ndrive.mount('/content/drive')\",\n",
              " \"from google.colab import drive\\ndrive.mount('/content/drive')\",\n",
              " \"get_ipython().system(' ls /content/drive')\",\n",
              " \"get_ipython().system(' ls -l /content/drive/MyDrive')\",\n",
              " 'help(max)',\n",
              " 'max ?',\n",
              " \"get_ipython().run_line_magic('pinfo', 'max')\",\n",
              " \"li = ['one','two','three']\\nget_ipython().run_line_magic('pinfo', 'li')\",\n",
              " \"li = ['one','two','three']\\nget_ipython().run_line_magic('pinfo', 'li')\",\n",
              " \"li = ['one','two','three']\\nget_ipython().run_line_magic('pinfo', 'li')\\nhelp(li)\",\n",
              " \"li = ['one','two','three']\\nget_ipython().run_line_magic('pinfo', 'li')\\nget_ipython().run_line_magic('pinfo', 'li.count')\\nhelp(li)\",\n",
              " \"def imsi(a, b):\\n  ''' 이것은 임시로 사용하는 함수입니다. '''\\n  return a + b\",\n",
              " 'imsi(3, 5)',\n",
              " \"get_ipython().run_line_magic('pinfo', 'imsi')\",\n",
              " \"get_ipython().run_line_magic('pinfo2', 'imsi')\",\n",
              " \"get_ipython().run_line_magic('pinfo2', 'imsi')\",\n",
              " \"get_ipython().run_line_magic('psearch', '*Error')\",\n",
              " \"get_ipython().run_line_magic('psearch', 'str.*index*')\",\n",
              " 'get_ipython().run_cell_magic(\\'writefile\\', \\'test.py\\', \"print(\\'Hello Colab\\')\\\\n\")',\n",
              " \"get_ipython().run_line_magic('run', 'test.py')\",\n",
              " \"get_ipython().run_line_magic('pinfo', '%%timeit')\",\n",
              " \"get_ipython().run_cell_magic('timeit', 'li = [n ** n for n in range(10000)]', '')\",\n",
              " \"get_ipython().run_line_magic('timeit', 'li = [n ** n for n in range(10000)]')\",\n",
              " \"get_ipython().run_line_magic('timeit', 'li = [n ** n for n in range(1000)]')\",\n",
              " \"get_ipython().run_cell_magic('timeit', '', 'li = []\\\\nfor n in range(1000):\\\\n  li.append(n ** n)\\\\n')\",\n",
              " 'In']"
            ]
          },
          "metadata": {},
          "execution_count": 32
        }
      ]
    },
    {
      "cell_type": "code",
      "source": [
        "In[20]"
      ],
      "metadata": {
        "colab": {
          "base_uri": "https://localhost:8080/",
          "height": 36
        },
        "id": "ZyFk9nhalcOY",
        "outputId": "9e3865a6-344a-47fb-c935-00de71db4686"
      },
      "execution_count": null,
      "outputs": [
        {
          "output_type": "execute_result",
          "data": {
            "text/plain": [
              "\"get_ipython().run_line_magic('pinfo', 'imsi')\""
            ],
            "application/vnd.google.colaboratory.intrinsic+json": {
              "type": "string"
            }
          },
          "metadata": {},
          "execution_count": 33
        }
      ]
    },
    {
      "cell_type": "code",
      "source": [
        "Out"
      ],
      "metadata": {
        "colab": {
          "base_uri": "https://localhost:8080/"
        },
        "id": "iMHyMO4Mlcdn",
        "outputId": "45dddb9f-3347-485c-ba37-9d2b1b3638a7"
      },
      "execution_count": null,
      "outputs": [
        {
          "output_type": "execute_result",
          "data": {
            "text/plain": [
              "{19: 8,\n",
              " 32: ['',\n",
              "  \"get_ipython().system(' nvidia-smi')\",\n",
              "  \"get_ipython().run_cell_magic('writefile', 'test.txt', 'Hello, world!!!\\\\nGoodbye\\\\n')\",\n",
              "  \"get_ipython().system(' cat test.txt')\",\n",
              "  \"from google.colab import files\\nfiles.download('test.txt')\",\n",
              "  'upload = files.upload()',\n",
              "  \"get_ipython().system(' ls -l')\",\n",
              "  \"from google.colab import drive\\ndrive.mount('/content/drive')\",\n",
              "  \"from google.colab import drive\\ndrive.mount('/content/drive')\",\n",
              "  \"get_ipython().system(' ls /content/drive')\",\n",
              "  \"get_ipython().system(' ls -l /content/drive/MyDrive')\",\n",
              "  'help(max)',\n",
              "  'max ?',\n",
              "  \"get_ipython().run_line_magic('pinfo', 'max')\",\n",
              "  \"li = ['one','two','three']\\nget_ipython().run_line_magic('pinfo', 'li')\",\n",
              "  \"li = ['one','two','three']\\nget_ipython().run_line_magic('pinfo', 'li')\",\n",
              "  \"li = ['one','two','three']\\nget_ipython().run_line_magic('pinfo', 'li')\\nhelp(li)\",\n",
              "  \"li = ['one','two','three']\\nget_ipython().run_line_magic('pinfo', 'li')\\nget_ipython().run_line_magic('pinfo', 'li.count')\\nhelp(li)\",\n",
              "  \"def imsi(a, b):\\n  ''' 이것은 임시로 사용하는 함수입니다. '''\\n  return a + b\",\n",
              "  'imsi(3, 5)',\n",
              "  \"get_ipython().run_line_magic('pinfo', 'imsi')\",\n",
              "  \"get_ipython().run_line_magic('pinfo2', 'imsi')\",\n",
              "  \"get_ipython().run_line_magic('pinfo2', 'imsi')\",\n",
              "  \"get_ipython().run_line_magic('psearch', '*Error')\",\n",
              "  \"get_ipython().run_line_magic('psearch', 'str.*index*')\",\n",
              "  'get_ipython().run_cell_magic(\\'writefile\\', \\'test.py\\', \"print(\\'Hello Colab\\')\\\\n\")',\n",
              "  \"get_ipython().run_line_magic('run', 'test.py')\",\n",
              "  \"get_ipython().run_line_magic('pinfo', '%%timeit')\",\n",
              "  \"get_ipython().run_cell_magic('timeit', 'li = [n ** n for n in range(10000)]', '')\",\n",
              "  \"get_ipython().run_line_magic('timeit', 'li = [n ** n for n in range(10000)]')\",\n",
              "  \"get_ipython().run_line_magic('timeit', 'li = [n ** n for n in range(1000)]')\",\n",
              "  \"get_ipython().run_cell_magic('timeit', '', 'li = []\\\\nfor n in range(1000):\\\\n  li.append(n ** n)\\\\n')\",\n",
              "  'In',\n",
              "  'In[20]',\n",
              "  'Out'],\n",
              " 33: \"get_ipython().run_line_magic('pinfo', 'imsi')\"}"
            ]
          },
          "metadata": {},
          "execution_count": 34
        }
      ]
    },
    {
      "cell_type": "code",
      "source": [
        "Out[33]"
      ],
      "metadata": {
        "colab": {
          "base_uri": "https://localhost:8080/",
          "height": 36
        },
        "id": "RZzRwqgbnAfN",
        "outputId": "6e2843b5-f171-487f-d886-6a3a324c298e"
      },
      "execution_count": null,
      "outputs": [
        {
          "output_type": "execute_result",
          "data": {
            "text/plain": [
              "\"get_ipython().run_line_magic('pinfo', 'imsi')\""
            ],
            "application/vnd.google.colaboratory.intrinsic+json": {
              "type": "string"
            }
          },
          "metadata": {},
          "execution_count": 37
        }
      ]
    },
    {
      "cell_type": "code",
      "source": [
        "print(_)"
      ],
      "metadata": {
        "colab": {
          "base_uri": "https://localhost:8080/"
        },
        "id": "PLOYZzoWnAiC",
        "outputId": "5207f274-2b07-493f-8b91-f3b160b13d72"
      },
      "execution_count": null,
      "outputs": [
        {
          "output_type": "stream",
          "name": "stdout",
          "text": [
            "get_ipython().run_line_magic('pinfo', 'imsi')\n"
          ]
        }
      ]
    },
    {
      "cell_type": "code",
      "source": [
        "print(__)"
      ],
      "metadata": {
        "colab": {
          "base_uri": "https://localhost:8080/"
        },
        "id": "94cSeowtnAuT",
        "outputId": "265e26d4-4ed7-4274-a65c-ee1d1ce12804"
      },
      "execution_count": null,
      "outputs": [
        {
          "output_type": "stream",
          "name": "stdout",
          "text": [
            "get_ipython().run_line_magic('pinfo', 'imsi')\n"
          ]
        }
      ]
    },
    {
      "cell_type": "code",
      "source": [
        "print(___)"
      ],
      "metadata": {
        "id": "A5-u1aesnY0P"
      },
      "execution_count": null,
      "outputs": []
    },
    {
      "cell_type": "markdown",
      "source": [
        "# History\n",
        "_N, %history, %rerun"
      ],
      "metadata": {
        "id": "e0miH-30n5YC"
      }
    },
    {
      "cell_type": "code",
      "source": [
        "_5"
      ],
      "metadata": {
        "colab": {
          "base_uri": "https://localhost:8080/",
          "height": 170
        },
        "id": "PQW2GxXUnY-B",
        "outputId": "f002191c-821a-4aa5-bede-5f2ff8556f9a"
      },
      "execution_count": null,
      "outputs": [
        {
          "output_type": "error",
          "ename": "NameError",
          "evalue": "ignored",
          "traceback": [
            "\u001b[0;31m---------------------------------------------------------------------------\u001b[0m",
            "\u001b[0;31mNameError\u001b[0m                                 Traceback (most recent call last)",
            "\u001b[0;32m<ipython-input-46-4bcae68e58e3>\u001b[0m in \u001b[0;36m<module>\u001b[0;34m\u001b[0m\n\u001b[0;32m----> 1\u001b[0;31m \u001b[0m_5\u001b[0m\u001b[0;34m\u001b[0m\u001b[0;34m\u001b[0m\u001b[0m\n\u001b[0m",
            "\u001b[0;31mNameError\u001b[0m: name '_5' is not defined"
          ]
        }
      ]
    },
    {
      "cell_type": "code",
      "source": [
        "!pwd\n",
        "!ls -l sample_data/\n",
        "!cat sample_data/anscombe.json"
      ],
      "metadata": {
        "colab": {
          "base_uri": "https://localhost:8080/"
        },
        "id": "Z7Jt4zf7oFPj",
        "outputId": "184a2d30-8c54-4912-9286-a84f5a4d21dd"
      },
      "execution_count": null,
      "outputs": [
        {
          "output_type": "stream",
          "name": "stdout",
          "text": [
            "/content\n",
            "total 55504\n",
            "-rwxr-xr-x 1 root root     1697 Jan  1  2000 anscombe.json\n",
            "-rw-r--r-- 1 root root   301141 Mar  9 18:58 california_housing_test.csv\n",
            "-rw-r--r-- 1 root root  1706430 Mar  9 18:58 california_housing_train.csv\n",
            "-rw-r--r-- 1 root root 18289443 Mar  9 18:58 mnist_test.csv\n",
            "-rw-r--r-- 1 root root 36523880 Mar  9 18:58 mnist_train_small.csv\n",
            "-rwxr-xr-x 1 root root      930 Jan  1  2000 README.md\n",
            "[\n",
            "  {\"Series\":\"I\", \"X\":10.0, \"Y\":8.04},\n",
            "  {\"Series\":\"I\", \"X\":8.0, \"Y\":6.95},\n",
            "  {\"Series\":\"I\", \"X\":13.0, \"Y\":7.58},\n",
            "  {\"Series\":\"I\", \"X\":9.0, \"Y\":8.81},\n",
            "  {\"Series\":\"I\", \"X\":11.0, \"Y\":8.33},\n",
            "  {\"Series\":\"I\", \"X\":14.0, \"Y\":9.96},\n",
            "  {\"Series\":\"I\", \"X\":6.0, \"Y\":7.24},\n",
            "  {\"Series\":\"I\", \"X\":4.0, \"Y\":4.26},\n",
            "  {\"Series\":\"I\", \"X\":12.0, \"Y\":10.84},\n",
            "  {\"Series\":\"I\", \"X\":7.0, \"Y\":4.81},\n",
            "  {\"Series\":\"I\", \"X\":5.0, \"Y\":5.68},\n",
            "\n",
            "  {\"Series\":\"II\", \"X\":10.0, \"Y\":9.14},\n",
            "  {\"Series\":\"II\", \"X\":8.0, \"Y\":8.14},\n",
            "  {\"Series\":\"II\", \"X\":13.0, \"Y\":8.74},\n",
            "  {\"Series\":\"II\", \"X\":9.0, \"Y\":8.77},\n",
            "  {\"Series\":\"II\", \"X\":11.0, \"Y\":9.26},\n",
            "  {\"Series\":\"II\", \"X\":14.0, \"Y\":8.10},\n",
            "  {\"Series\":\"II\", \"X\":6.0, \"Y\":6.13},\n",
            "  {\"Series\":\"II\", \"X\":4.0, \"Y\":3.10},\n",
            "  {\"Series\":\"II\", \"X\":12.0, \"Y\":9.13},\n",
            "  {\"Series\":\"II\", \"X\":7.0, \"Y\":7.26},\n",
            "  {\"Series\":\"II\", \"X\":5.0, \"Y\":4.74},\n",
            "\n",
            "  {\"Series\":\"III\", \"X\":10.0, \"Y\":7.46},\n",
            "  {\"Series\":\"III\", \"X\":8.0, \"Y\":6.77},\n",
            "  {\"Series\":\"III\", \"X\":13.0, \"Y\":12.74},\n",
            "  {\"Series\":\"III\", \"X\":9.0, \"Y\":7.11},\n",
            "  {\"Series\":\"III\", \"X\":11.0, \"Y\":7.81},\n",
            "  {\"Series\":\"III\", \"X\":14.0, \"Y\":8.84},\n",
            "  {\"Series\":\"III\", \"X\":6.0, \"Y\":6.08},\n",
            "  {\"Series\":\"III\", \"X\":4.0, \"Y\":5.39},\n",
            "  {\"Series\":\"III\", \"X\":12.0, \"Y\":8.15},\n",
            "  {\"Series\":\"III\", \"X\":7.0, \"Y\":6.42},\n",
            "  {\"Series\":\"III\", \"X\":5.0, \"Y\":5.73},\n",
            "\n",
            "  {\"Series\":\"IV\", \"X\":8.0, \"Y\":6.58},\n",
            "  {\"Series\":\"IV\", \"X\":8.0, \"Y\":5.76},\n",
            "  {\"Series\":\"IV\", \"X\":8.0, \"Y\":7.71},\n",
            "  {\"Series\":\"IV\", \"X\":8.0, \"Y\":8.84},\n",
            "  {\"Series\":\"IV\", \"X\":8.0, \"Y\":8.47},\n",
            "  {\"Series\":\"IV\", \"X\":8.0, \"Y\":7.04},\n",
            "  {\"Series\":\"IV\", \"X\":8.0, \"Y\":5.25},\n",
            "  {\"Series\":\"IV\", \"X\":19.0, \"Y\":12.50},\n",
            "  {\"Series\":\"IV\", \"X\":8.0, \"Y\":5.56},\n",
            "  {\"Series\":\"IV\", \"X\":8.0, \"Y\":7.91},\n",
            "  {\"Series\":\"IV\", \"X\":8.0, \"Y\":6.89}\n",
            "]\n"
          ]
        }
      ]
    },
    {
      "cell_type": "code",
      "source": [],
      "metadata": {
        "id": "njqXp4KGoITG"
      },
      "execution_count": null,
      "outputs": []
    },
    {
      "cell_type": "code",
      "source": [],
      "metadata": {
        "id": "MMYAxxzFoIVv"
      },
      "execution_count": null,
      "outputs": []
    },
    {
      "cell_type": "code",
      "source": [],
      "metadata": {
        "id": "fV3zeEkjoIYn"
      },
      "execution_count": null,
      "outputs": []
    },
    {
      "cell_type": "code",
      "source": [],
      "metadata": {
        "id": "7_rTh9PvoIbV"
      },
      "execution_count": null,
      "outputs": []
    },
    {
      "cell_type": "code",
      "source": [],
      "metadata": {
        "id": "clKvC5dRoX05"
      },
      "execution_count": null,
      "outputs": []
    },
    {
      "cell_type": "code",
      "source": [],
      "metadata": {
        "id": "lsfpbkdJoX3p"
      },
      "execution_count": null,
      "outputs": []
    },
    {
      "cell_type": "code",
      "source": [],
      "metadata": {
        "id": "yl-vCDGboX6H"
      },
      "execution_count": null,
      "outputs": []
    },
    {
      "cell_type": "code",
      "source": [],
      "metadata": {
        "id": "v-6iCtzfoX86"
      },
      "execution_count": null,
      "outputs": []
    },
    {
      "cell_type": "code",
      "source": [],
      "metadata": {
        "id": "z48kvUVnoYQy"
      },
      "execution_count": null,
      "outputs": []
    }
  ]
}