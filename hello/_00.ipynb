{
  "nbformat": 4,
  "nbformat_minor": 0,
  "metadata": {
    "colab": {
      "provenance": [],
      "toc_visible": true,
      "include_colab_link": true
    },
    "kernelspec": {
      "name": "python3",
      "display_name": "Python 3"
    },
    "accelerator": "GPU",
    "gpuClass": "standard"
  },
  "cells": [
    {
      "cell_type": "markdown",
      "metadata": {
        "id": "view-in-github",
        "colab_type": "text"
      },
      "source": [
        "<a href=\"https://colab.research.google.com/github/grtlinux/KieaColab23/blob/main/hello/_00.ipynb\" target=\"_parent\"><img src=\"https://colab.research.google.com/assets/colab-badge.svg\" alt=\"Open In Colab\"/></a>"
      ]
    },
    {
      "cell_type": "markdown",
      "source": [
        "* [YouTube: Google Colab, Jupyter Notebook, Markdown 사용법과 팁 총정리](https://youtu.be/wb4F1aeZtRA?list=PL7ZVZgsnLwEEdhCYInwxRpj1Rc4EGmCUc)"
      ],
      "metadata": {
        "id": "uiOWUVinGWTp"
      }
    },
    {
      "cell_type": "markdown",
      "metadata": {
        "id": "bg5ZXMV2sn1M"
      },
      "source": [
        "# Google Colaboratory\n"
      ]
    },
    {
      "cell_type": "markdown",
      "metadata": {
        "id": "Lj_iZPKnCRP0"
      },
      "source": [
        "\n",
        "\n",
        "---\n",
        "\n"
      ]
    },
    {
      "cell_type": "markdown",
      "metadata": {
        "id": "i3r5VFtU5O4U"
      },
      "source": [
        "## Google Colab 사양\n"
      ]
    },
    {
      "cell_type": "markdown",
      "metadata": {
        "id": "gV5e99TT-08Z"
      },
      "source": [
        "* 플랫폼"
      ]
    },
    {
      "cell_type": "code",
      "metadata": {
        "id": "5VeuLl0B-cy4",
        "colab": {
          "base_uri": "https://localhost:8080/",
          "height": 36
        },
        "outputId": "e10cd4a8-0e46-4477-f892-15fb2d90592f"
      },
      "source": [
        "import platform\n",
        "platform.platform()"
      ],
      "execution_count": null,
      "outputs": [
        {
          "output_type": "execute_result",
          "data": {
            "text/plain": [
              "'Linux-5.10.147+-x86_64-with-glibc2.31'"
            ],
            "application/vnd.google.colaboratory.intrinsic+json": {
              "type": "string"
            }
          },
          "metadata": {},
          "execution_count": 2
        }
      ]
    },
    {
      "cell_type": "markdown",
      "metadata": {
        "id": "Q9f6YpG-5ZCx"
      },
      "source": [
        "* 운영체제"
      ]
    },
    {
      "cell_type": "code",
      "metadata": {
        "id": "IC0e82Ft5Rxt",
        "colab": {
          "base_uri": "https://localhost:8080/"
        },
        "outputId": "3b27b4ed-78b2-4330-85f5-159cd735c669"
      },
      "source": [
        "!cat /etc/issue.net"
      ],
      "execution_count": null,
      "outputs": [
        {
          "output_type": "stream",
          "name": "stdout",
          "text": [
            "Ubuntu 20.04.5 LTS\n"
          ]
        }
      ]
    },
    {
      "cell_type": "markdown",
      "metadata": {
        "id": "mrQDwTmI5bzQ"
      },
      "source": [
        "* CPU 사양"
      ]
    },
    {
      "cell_type": "code",
      "metadata": {
        "id": "MX782lUX5ju0",
        "outputId": "a50b940d-3487-4080-96cc-0c9423913898",
        "colab": {
          "base_uri": "https://localhost:8080/"
        }
      },
      "source": [
        "!cat /proc/cpuinfo"
      ],
      "execution_count": 1,
      "outputs": [
        {
          "output_type": "stream",
          "name": "stdout",
          "text": [
            "processor\t: 0\n",
            "vendor_id\t: GenuineIntel\n",
            "cpu family\t: 6\n",
            "model\t\t: 79\n",
            "model name\t: Intel(R) Xeon(R) CPU @ 2.20GHz\n",
            "stepping\t: 0\n",
            "microcode\t: 0xffffffff\n",
            "cpu MHz\t\t: 2199.998\n",
            "cache size\t: 56320 KB\n",
            "physical id\t: 0\n",
            "siblings\t: 2\n",
            "core id\t\t: 0\n",
            "cpu cores\t: 1\n",
            "apicid\t\t: 0\n",
            "initial apicid\t: 0\n",
            "fpu\t\t: yes\n",
            "fpu_exception\t: yes\n",
            "cpuid level\t: 13\n",
            "wp\t\t: yes\n",
            "flags\t\t: fpu vme de pse tsc msr pae mce cx8 apic sep mtrr pge mca cmov pat pse36 clflush mmx fxsr sse sse2 ss ht syscall nx pdpe1gb rdtscp lm constant_tsc rep_good nopl xtopology nonstop_tsc cpuid tsc_known_freq pni pclmulqdq ssse3 fma cx16 pcid sse4_1 sse4_2 x2apic movbe popcnt aes xsave avx f16c rdrand hypervisor lahf_lm abm 3dnowprefetch invpcid_single ssbd ibrs ibpb stibp fsgsbase tsc_adjust bmi1 hle avx2 smep bmi2 erms invpcid rtm rdseed adx smap xsaveopt arat md_clear arch_capabilities\n",
            "bugs\t\t: cpu_meltdown spectre_v1 spectre_v2 spec_store_bypass l1tf mds swapgs taa mmio_stale_data retbleed\n",
            "bogomips\t: 4399.99\n",
            "clflush size\t: 64\n",
            "cache_alignment\t: 64\n",
            "address sizes\t: 46 bits physical, 48 bits virtual\n",
            "power management:\n",
            "\n",
            "processor\t: 1\n",
            "vendor_id\t: GenuineIntel\n",
            "cpu family\t: 6\n",
            "model\t\t: 79\n",
            "model name\t: Intel(R) Xeon(R) CPU @ 2.20GHz\n",
            "stepping\t: 0\n",
            "microcode\t: 0xffffffff\n",
            "cpu MHz\t\t: 2199.998\n",
            "cache size\t: 56320 KB\n",
            "physical id\t: 0\n",
            "siblings\t: 2\n",
            "core id\t\t: 0\n",
            "cpu cores\t: 1\n",
            "apicid\t\t: 1\n",
            "initial apicid\t: 1\n",
            "fpu\t\t: yes\n",
            "fpu_exception\t: yes\n",
            "cpuid level\t: 13\n",
            "wp\t\t: yes\n",
            "flags\t\t: fpu vme de pse tsc msr pae mce cx8 apic sep mtrr pge mca cmov pat pse36 clflush mmx fxsr sse sse2 ss ht syscall nx pdpe1gb rdtscp lm constant_tsc rep_good nopl xtopology nonstop_tsc cpuid tsc_known_freq pni pclmulqdq ssse3 fma cx16 pcid sse4_1 sse4_2 x2apic movbe popcnt aes xsave avx f16c rdrand hypervisor lahf_lm abm 3dnowprefetch invpcid_single ssbd ibrs ibpb stibp fsgsbase tsc_adjust bmi1 hle avx2 smep bmi2 erms invpcid rtm rdseed adx smap xsaveopt arat md_clear arch_capabilities\n",
            "bugs\t\t: cpu_meltdown spectre_v1 spectre_v2 spec_store_bypass l1tf mds swapgs taa mmio_stale_data retbleed\n",
            "bogomips\t: 4399.99\n",
            "clflush size\t: 64\n",
            "cache_alignment\t: 64\n",
            "address sizes\t: 46 bits physical, 48 bits virtual\n",
            "power management:\n",
            "\n"
          ]
        }
      ]
    },
    {
      "cell_type": "markdown",
      "metadata": {
        "id": "XQbXXmZ75ffA"
      },
      "source": [
        "* 메모리 사양"
      ]
    },
    {
      "cell_type": "code",
      "metadata": {
        "id": "vJ0_EPba5sP1",
        "outputId": "cf98190f-e759-42b8-edab-8896ab10eda0",
        "colab": {
          "base_uri": "https://localhost:8080/"
        }
      },
      "source": [
        "!cat /proc/meminfo"
      ],
      "execution_count": 5,
      "outputs": [
        {
          "output_type": "stream",
          "name": "stdout",
          "text": [
            "MemTotal:       13297200 kB\n",
            "MemFree:         9356344 kB\n",
            "MemAvailable:   12381984 kB\n",
            "Buffers:          329220 kB\n",
            "Cached:          2854056 kB\n",
            "SwapCached:            0 kB\n",
            "Active:           581308 kB\n",
            "Inactive:        3134588 kB\n",
            "Active(anon):       1020 kB\n",
            "Inactive(anon):   513364 kB\n",
            "Active(file):     580288 kB\n",
            "Inactive(file):  2621224 kB\n",
            "Unevictable:           0 kB\n",
            "Mlocked:               0 kB\n",
            "SwapTotal:             0 kB\n",
            "SwapFree:              0 kB\n",
            "Dirty:               312 kB\n",
            "Writeback:             0 kB\n",
            "AnonPages:        532628 kB\n",
            "Mapped:           257192 kB\n",
            "Shmem:              1304 kB\n",
            "KReclaimable:     131156 kB\n",
            "Slab:             161480 kB\n",
            "SReclaimable:     131156 kB\n",
            "SUnreclaim:        30324 kB\n",
            "KernelStack:        4032 kB\n",
            "PageTables:         8340 kB\n",
            "NFS_Unstable:          0 kB\n",
            "Bounce:                0 kB\n",
            "WritebackTmp:          0 kB\n",
            "CommitLimit:     6648600 kB\n",
            "Committed_AS:    2529996 kB\n",
            "VmallocTotal:   34359738367 kB\n",
            "VmallocUsed:        8900 kB\n",
            "VmallocChunk:          0 kB\n",
            "Percpu:             1328 kB\n",
            "HardwareCorrupted:     0 kB\n",
            "AnonHugePages:         0 kB\n",
            "ShmemHugePages:        0 kB\n",
            "ShmemPmdMapped:        0 kB\n",
            "FileHugePages:         0 kB\n",
            "FilePmdMapped:         0 kB\n",
            "CmaTotal:              0 kB\n",
            "CmaFree:               0 kB\n",
            "HugePages_Total:       0\n",
            "HugePages_Free:        0\n",
            "HugePages_Rsvd:        0\n",
            "HugePages_Surp:        0\n",
            "Hugepagesize:       2048 kB\n",
            "Hugetlb:               0 kB\n",
            "DirectMap4k:      121664 kB\n",
            "DirectMap2M:     7215104 kB\n",
            "DirectMap1G:     8388608 kB\n"
          ]
        }
      ]
    },
    {
      "cell_type": "markdown",
      "metadata": {
        "id": "EaOIRYVP5w30"
      },
      "source": [
        "* 디스크 사양"
      ]
    },
    {
      "cell_type": "code",
      "metadata": {
        "id": "FKWOPJNv5y2y",
        "outputId": "7bcec2ce-7984-43f8-a514-c60b7383c248",
        "colab": {
          "base_uri": "https://localhost:8080/"
        }
      },
      "source": [
        "!df -h"
      ],
      "execution_count": 6,
      "outputs": [
        {
          "output_type": "stream",
          "name": "stdout",
          "text": [
            "Filesystem      Size  Used Avail Use% Mounted on\n",
            "overlay         108G   26G   83G  24% /\n",
            "tmpfs            64M     0   64M   0% /dev\n",
            "shm             5.8G     0  5.8G   0% /dev/shm\n",
            "/dev/root       2.0G  1.1G  841M  58% /usr/sbin/docker-init\n",
            "tmpfs           6.4G   36K  6.4G   1% /var/colab\n",
            "/dev/sda1        70G   44G   26G  64% /etc/hosts\n",
            "tmpfs           6.4G     0  6.4G   0% /proc/acpi\n",
            "tmpfs           6.4G     0  6.4G   0% /proc/scsi\n",
            "tmpfs           6.4G     0  6.4G   0% /sys/firmware\n"
          ]
        }
      ]
    },
    {
      "cell_type": "markdown",
      "metadata": {
        "id": "i2LgCHNv541D"
      },
      "source": [
        "* 파이썬 버전"
      ]
    },
    {
      "cell_type": "code",
      "metadata": {
        "id": "AZNd_Cpi57SD",
        "outputId": "44ac4941-1ba8-4892-f632-0da3571c3c77",
        "colab": {
          "base_uri": "https://localhost:8080/"
        }
      },
      "source": [
        "!python --version"
      ],
      "execution_count": 7,
      "outputs": [
        {
          "output_type": "stream",
          "name": "stdout",
          "text": [
            "Python 3.9.16\n"
          ]
        }
      ]
    },
    {
      "cell_type": "markdown",
      "metadata": {
        "id": "ZLrgX-u15_wI"
      },
      "source": [
        "## Google Colab 런타임\n",
        "* Colab에서 고성능 하드웨어로 GPU나 TPU 사용 가능\n",
        "* 런타임 유형 변경(Change runtime type) 필요\n",
        "  + None: CPU만 사용\n",
        "  + GPU: 하드웨어 가속으로 GPU 사용\n",
        "  + TPU: 하드웨어 가속으로 TPU 사용"
      ]
    },
    {
      "cell_type": "code",
      "metadata": {
        "id": "Oa3X6JLZ6BE1",
        "outputId": "5bfeb1fd-72e3-42f2-fd07-2942f7198ed2",
        "colab": {
          "base_uri": "https://localhost:8080/"
        }
      },
      "source": [
        "!nvidia-smi"
      ],
      "execution_count": 2,
      "outputs": [
        {
          "output_type": "stream",
          "name": "stdout",
          "text": [
            "Tue Mar 14 08:50:16 2023       \n",
            "+-----------------------------------------------------------------------------+\n",
            "| NVIDIA-SMI 525.85.12    Driver Version: 525.85.12    CUDA Version: 12.0     |\n",
            "|-------------------------------+----------------------+----------------------+\n",
            "| GPU  Name        Persistence-M| Bus-Id        Disp.A | Volatile Uncorr. ECC |\n",
            "| Fan  Temp  Perf  Pwr:Usage/Cap|         Memory-Usage | GPU-Util  Compute M. |\n",
            "|                               |                      |               MIG M. |\n",
            "|===============================+======================+======================|\n",
            "|   0  Tesla T4            Off  | 00000000:00:04.0 Off |                    0 |\n",
            "| N/A   63C    P0    29W /  70W |      0MiB / 15360MiB |      0%      Default |\n",
            "|                               |                      |                  N/A |\n",
            "+-------------------------------+----------------------+----------------------+\n",
            "                                                                               \n",
            "+-----------------------------------------------------------------------------+\n",
            "| Processes:                                                                  |\n",
            "|  GPU   GI   CI        PID   Type   Process name                  GPU Memory |\n",
            "|        ID   ID                                                   Usage      |\n",
            "|=============================================================================|\n",
            "|  No running processes found                                                 |\n",
            "+-----------------------------------------------------------------------------+\n"
          ]
        }
      ]
    },
    {
      "cell_type": "markdown",
      "metadata": {
        "id": "VxNA7zfv-6wx"
      },
      "source": [
        "## 파일 저장 및 다운로드/업로드\n",
        "\n",
        "* Jupyter Notebook 환경에서 파일 저장 및 다운로드"
      ]
    },
    {
      "cell_type": "code",
      "metadata": {
        "id": "oTiMWM70_E42",
        "outputId": "7b671a0d-141d-4c2c-a172-b21ed448c6f4",
        "colab": {
          "base_uri": "https://localhost:8080/"
        }
      },
      "source": [
        "%%writefile test.txt\n",
        "Hello, world!!!"
      ],
      "execution_count": 3,
      "outputs": [
        {
          "output_type": "stream",
          "name": "stdout",
          "text": [
            "Writing test.txt\n"
          ]
        }
      ]
    },
    {
      "cell_type": "code",
      "metadata": {
        "id": "ptEgaG3v_QSR",
        "outputId": "7f9dbaf8-c78b-4c2a-a226-23d30dd4e200",
        "colab": {
          "base_uri": "https://localhost:8080/"
        }
      },
      "source": [
        "!pwd\n",
        "!cat test.txt"
      ],
      "execution_count": 4,
      "outputs": [
        {
          "output_type": "stream",
          "name": "stdout",
          "text": [
            "/content\n",
            "Hello, world!!!\n"
          ]
        }
      ]
    },
    {
      "cell_type": "code",
      "metadata": {
        "id": "-HGNOyHk_Yxg",
        "outputId": "b6ea000d-f10b-4d50-b33a-f7597407cf9d",
        "colab": {
          "base_uri": "https://localhost:8080/",
          "height": 17
        }
      },
      "source": [
        "from google.colab import files\n",
        "files.download('test.txt')"
      ],
      "execution_count": 5,
      "outputs": [
        {
          "output_type": "display_data",
          "data": {
            "text/plain": [
              "<IPython.core.display.Javascript object>"
            ],
            "application/javascript": [
              "\n",
              "    async function download(id, filename, size) {\n",
              "      if (!google.colab.kernel.accessAllowed) {\n",
              "        return;\n",
              "      }\n",
              "      const div = document.createElement('div');\n",
              "      const label = document.createElement('label');\n",
              "      label.textContent = `Downloading \"${filename}\": `;\n",
              "      div.appendChild(label);\n",
              "      const progress = document.createElement('progress');\n",
              "      progress.max = size;\n",
              "      div.appendChild(progress);\n",
              "      document.body.appendChild(div);\n",
              "\n",
              "      const buffers = [];\n",
              "      let downloaded = 0;\n",
              "\n",
              "      const channel = await google.colab.kernel.comms.open(id);\n",
              "      // Send a message to notify the kernel that we're ready.\n",
              "      channel.send({})\n",
              "\n",
              "      for await (const message of channel.messages) {\n",
              "        // Send a message to notify the kernel that we're ready.\n",
              "        channel.send({})\n",
              "        if (message.buffers) {\n",
              "          for (const buffer of message.buffers) {\n",
              "            buffers.push(buffer);\n",
              "            downloaded += buffer.byteLength;\n",
              "            progress.value = downloaded;\n",
              "          }\n",
              "        }\n",
              "      }\n",
              "      const blob = new Blob(buffers, {type: 'application/binary'});\n",
              "      const a = document.createElement('a');\n",
              "      a.href = window.URL.createObjectURL(blob);\n",
              "      a.download = filename;\n",
              "      div.appendChild(a);\n",
              "      a.click();\n",
              "      div.remove();\n",
              "    }\n",
              "  "
            ]
          },
          "metadata": {}
        },
        {
          "output_type": "display_data",
          "data": {
            "text/plain": [
              "<IPython.core.display.Javascript object>"
            ],
            "application/javascript": [
              "download(\"download_6705e6af-9bac-41e6-bfb4-893f549a34b0\", \"test.txt\", 16)"
            ]
          },
          "metadata": {}
        }
      ]
    },
    {
      "cell_type": "code",
      "metadata": {
        "id": "6MLJ6R60AIQJ",
        "outputId": "fe5baa6e-bd05-43ad-e63a-f23c6cac6382",
        "colab": {
          "base_uri": "https://localhost:8080/",
          "height": 181
        }
      },
      "source": [
        "upload = files.upload()\n",
        "upload\n",
        "!ls -l"
      ],
      "execution_count": 8,
      "outputs": [
        {
          "output_type": "display_data",
          "data": {
            "text/plain": [
              "<IPython.core.display.HTML object>"
            ],
            "text/html": [
              "\n",
              "     <input type=\"file\" id=\"files-5f2f2683-9090-4f9b-aba0-72b1157f4e43\" name=\"files[]\" multiple disabled\n",
              "        style=\"border:none\" />\n",
              "     <output id=\"result-5f2f2683-9090-4f9b-aba0-72b1157f4e43\">\n",
              "      Upload widget is only available when the cell has been executed in the\n",
              "      current browser session. Please rerun this cell to enable.\n",
              "      </output>\n",
              "      <script>// Copyright 2017 Google LLC\n",
              "//\n",
              "// Licensed under the Apache License, Version 2.0 (the \"License\");\n",
              "// you may not use this file except in compliance with the License.\n",
              "// You may obtain a copy of the License at\n",
              "//\n",
              "//      http://www.apache.org/licenses/LICENSE-2.0\n",
              "//\n",
              "// Unless required by applicable law or agreed to in writing, software\n",
              "// distributed under the License is distributed on an \"AS IS\" BASIS,\n",
              "// WITHOUT WARRANTIES OR CONDITIONS OF ANY KIND, either express or implied.\n",
              "// See the License for the specific language governing permissions and\n",
              "// limitations under the License.\n",
              "\n",
              "/**\n",
              " * @fileoverview Helpers for google.colab Python module.\n",
              " */\n",
              "(function(scope) {\n",
              "function span(text, styleAttributes = {}) {\n",
              "  const element = document.createElement('span');\n",
              "  element.textContent = text;\n",
              "  for (const key of Object.keys(styleAttributes)) {\n",
              "    element.style[key] = styleAttributes[key];\n",
              "  }\n",
              "  return element;\n",
              "}\n",
              "\n",
              "// Max number of bytes which will be uploaded at a time.\n",
              "const MAX_PAYLOAD_SIZE = 100 * 1024;\n",
              "\n",
              "function _uploadFiles(inputId, outputId) {\n",
              "  const steps = uploadFilesStep(inputId, outputId);\n",
              "  const outputElement = document.getElementById(outputId);\n",
              "  // Cache steps on the outputElement to make it available for the next call\n",
              "  // to uploadFilesContinue from Python.\n",
              "  outputElement.steps = steps;\n",
              "\n",
              "  return _uploadFilesContinue(outputId);\n",
              "}\n",
              "\n",
              "// This is roughly an async generator (not supported in the browser yet),\n",
              "// where there are multiple asynchronous steps and the Python side is going\n",
              "// to poll for completion of each step.\n",
              "// This uses a Promise to block the python side on completion of each step,\n",
              "// then passes the result of the previous step as the input to the next step.\n",
              "function _uploadFilesContinue(outputId) {\n",
              "  const outputElement = document.getElementById(outputId);\n",
              "  const steps = outputElement.steps;\n",
              "\n",
              "  const next = steps.next(outputElement.lastPromiseValue);\n",
              "  return Promise.resolve(next.value.promise).then((value) => {\n",
              "    // Cache the last promise value to make it available to the next\n",
              "    // step of the generator.\n",
              "    outputElement.lastPromiseValue = value;\n",
              "    return next.value.response;\n",
              "  });\n",
              "}\n",
              "\n",
              "/**\n",
              " * Generator function which is called between each async step of the upload\n",
              " * process.\n",
              " * @param {string} inputId Element ID of the input file picker element.\n",
              " * @param {string} outputId Element ID of the output display.\n",
              " * @return {!Iterable<!Object>} Iterable of next steps.\n",
              " */\n",
              "function* uploadFilesStep(inputId, outputId) {\n",
              "  const inputElement = document.getElementById(inputId);\n",
              "  inputElement.disabled = false;\n",
              "\n",
              "  const outputElement = document.getElementById(outputId);\n",
              "  outputElement.innerHTML = '';\n",
              "\n",
              "  const pickedPromise = new Promise((resolve) => {\n",
              "    inputElement.addEventListener('change', (e) => {\n",
              "      resolve(e.target.files);\n",
              "    });\n",
              "  });\n",
              "\n",
              "  const cancel = document.createElement('button');\n",
              "  inputElement.parentElement.appendChild(cancel);\n",
              "  cancel.textContent = 'Cancel upload';\n",
              "  const cancelPromise = new Promise((resolve) => {\n",
              "    cancel.onclick = () => {\n",
              "      resolve(null);\n",
              "    };\n",
              "  });\n",
              "\n",
              "  // Wait for the user to pick the files.\n",
              "  const files = yield {\n",
              "    promise: Promise.race([pickedPromise, cancelPromise]),\n",
              "    response: {\n",
              "      action: 'starting',\n",
              "    }\n",
              "  };\n",
              "\n",
              "  cancel.remove();\n",
              "\n",
              "  // Disable the input element since further picks are not allowed.\n",
              "  inputElement.disabled = true;\n",
              "\n",
              "  if (!files) {\n",
              "    return {\n",
              "      response: {\n",
              "        action: 'complete',\n",
              "      }\n",
              "    };\n",
              "  }\n",
              "\n",
              "  for (const file of files) {\n",
              "    const li = document.createElement('li');\n",
              "    li.append(span(file.name, {fontWeight: 'bold'}));\n",
              "    li.append(span(\n",
              "        `(${file.type || 'n/a'}) - ${file.size} bytes, ` +\n",
              "        `last modified: ${\n",
              "            file.lastModifiedDate ? file.lastModifiedDate.toLocaleDateString() :\n",
              "                                    'n/a'} - `));\n",
              "    const percent = span('0% done');\n",
              "    li.appendChild(percent);\n",
              "\n",
              "    outputElement.appendChild(li);\n",
              "\n",
              "    const fileDataPromise = new Promise((resolve) => {\n",
              "      const reader = new FileReader();\n",
              "      reader.onload = (e) => {\n",
              "        resolve(e.target.result);\n",
              "      };\n",
              "      reader.readAsArrayBuffer(file);\n",
              "    });\n",
              "    // Wait for the data to be ready.\n",
              "    let fileData = yield {\n",
              "      promise: fileDataPromise,\n",
              "      response: {\n",
              "        action: 'continue',\n",
              "      }\n",
              "    };\n",
              "\n",
              "    // Use a chunked sending to avoid message size limits. See b/62115660.\n",
              "    let position = 0;\n",
              "    do {\n",
              "      const length = Math.min(fileData.byteLength - position, MAX_PAYLOAD_SIZE);\n",
              "      const chunk = new Uint8Array(fileData, position, length);\n",
              "      position += length;\n",
              "\n",
              "      const base64 = btoa(String.fromCharCode.apply(null, chunk));\n",
              "      yield {\n",
              "        response: {\n",
              "          action: 'append',\n",
              "          file: file.name,\n",
              "          data: base64,\n",
              "        },\n",
              "      };\n",
              "\n",
              "      let percentDone = fileData.byteLength === 0 ?\n",
              "          100 :\n",
              "          Math.round((position / fileData.byteLength) * 100);\n",
              "      percent.textContent = `${percentDone}% done`;\n",
              "\n",
              "    } while (position < fileData.byteLength);\n",
              "  }\n",
              "\n",
              "  // All done.\n",
              "  yield {\n",
              "    response: {\n",
              "      action: 'complete',\n",
              "    }\n",
              "  };\n",
              "}\n",
              "\n",
              "scope.google = scope.google || {};\n",
              "scope.google.colab = scope.google.colab || {};\n",
              "scope.google.colab._files = {\n",
              "  _uploadFiles,\n",
              "  _uploadFilesContinue,\n",
              "};\n",
              "})(self);\n",
              "</script> "
            ]
          },
          "metadata": {}
        },
        {
          "output_type": "stream",
          "name": "stdout",
          "text": [
            "Saving test.txt to test (2).txt\n",
            "total 316\n",
            "-rw-r--r-- 1 root root 306535 Mar 14 08:56 '2023_AWS Office  Hour_사전질문지.xlsx'\n",
            "drwxr-xr-x 1 root root   4096 Mar 10 20:51  sample_data\n",
            "-rw-r--r-- 1 root root     16 Mar 14 08:56 'test (1).txt'\n",
            "-rw-r--r-- 1 root root     16 Mar 14 08:57 'test (2).txt'\n",
            "-rw-r--r-- 1 root root     16 Mar 14 08:51  test.txt\n"
          ]
        }
      ]
    },
    {
      "cell_type": "code",
      "metadata": {
        "id": "8m2sm45lAriv",
        "outputId": "ef0d4a44-91f3-4b1c-99c5-7f30da6ace16",
        "colab": {
          "base_uri": "https://localhost:8080/"
        }
      },
      "source": [
        "!ls -al"
      ],
      "execution_count": 9,
      "outputs": [
        {
          "output_type": "stream",
          "name": "stdout",
          "text": [
            "total 328\n",
            "drwxr-xr-x 1 root root   4096 Mar 14 08:57  .\n",
            "drwxr-xr-x 1 root root   4096 Mar 14 08:47  ..\n",
            "-rw-r--r-- 1 root root 306535 Mar 14 08:56 '2023_AWS Office  Hour_사전질문지.xlsx'\n",
            "drwxr-xr-x 4 root root   4096 Mar 10 20:50  .config\n",
            "drwxr-xr-x 1 root root   4096 Mar 10 20:51  sample_data\n",
            "-rw-r--r-- 1 root root     16 Mar 14 08:56 'test (1).txt'\n",
            "-rw-r--r-- 1 root root     16 Mar 14 08:57 'test (2).txt'\n",
            "-rw-r--r-- 1 root root     16 Mar 14 08:51  test.txt\n"
          ]
        }
      ]
    },
    {
      "cell_type": "markdown",
      "metadata": {
        "id": "cfKtU4-x7UnX"
      },
      "source": [
        "## Google Drive 연동\n",
        "\n",
        "* Google Colab은 Google Drive와 `mount`를 통해 쉽게 연동 가능\n",
        "* Google Drive에 소스 코드 저장 뿐만 아니라 파일을 열거나 저장 가능"
      ]
    },
    {
      "cell_type": "code",
      "metadata": {
        "id": "q0ryTyk77UOs",
        "outputId": "a2cb8cfe-6982-49e0-b081-923fdceb84d7",
        "colab": {
          "base_uri": "https://localhost:8080/"
        }
      },
      "source": [
        "from google.colab import drive\n",
        "drive.mount('/content/drive')\n",
        "!ls -al drive"
      ],
      "execution_count": 10,
      "outputs": [
        {
          "output_type": "stream",
          "name": "stdout",
          "text": [
            "Mounted at /content/drive\n",
            "total 20\n",
            "dr-x------ 2 root root 4096 Mar 14 09:00 .file-revisions-by-id\n",
            "drwx------ 5 root root 4096 Mar 14 09:00 MyDrive\n",
            "drwx------ 2 root root 4096 Mar 14 09:00 Othercomputers\n",
            "dr-x------ 2 root root 4096 Mar 14 09:00 .shortcut-targets-by-id\n",
            "drwx------ 5 root root 4096 Mar 14 09:00 .Trash-0\n"
          ]
        }
      ]
    },
    {
      "cell_type": "code",
      "metadata": {
        "id": "KI96G3Fq7wg1",
        "outputId": "a40ab0a8-22d4-4993-b52c-660ae627a03c",
        "colab": {
          "base_uri": "https://localhost:8080/"
        }
      },
      "source": [
        "!apt-get install tree"
      ],
      "execution_count": 12,
      "outputs": [
        {
          "output_type": "stream",
          "name": "stdout",
          "text": [
            "Reading package lists... Done\n",
            "Building dependency tree       \n",
            "Reading state information... Done\n",
            "The following NEW packages will be installed:\n",
            "  tree\n",
            "0 upgraded, 1 newly installed, 0 to remove and 22 not upgraded.\n",
            "Need to get 43.0 kB of archives.\n",
            "After this operation, 115 kB of additional disk space will be used.\n",
            "Get:1 http://archive.ubuntu.com/ubuntu focal/universe amd64 tree amd64 1.8.0-1 [43.0 kB]\n",
            "Fetched 43.0 kB in 0s (174 kB/s)\n",
            "Selecting previously unselected package tree.\n",
            "(Reading database ... 128275 files and directories currently installed.)\n",
            "Preparing to unpack .../tree_1.8.0-1_amd64.deb ...\n",
            "Unpacking tree (1.8.0-1) ...\n",
            "Setting up tree (1.8.0-1) ...\n",
            "Processing triggers for man-db (2.9.1-1) ...\n"
          ]
        }
      ]
    },
    {
      "cell_type": "code",
      "source": [
        "!pwd\n",
        "!tree -L 3"
      ],
      "metadata": {
        "id": "MCAk2IhOXUJX",
        "outputId": "c4c7d943-cd15-4a0d-bd46-64910910e50c",
        "colab": {
          "base_uri": "https://localhost:8080/"
        }
      },
      "execution_count": 16,
      "outputs": [
        {
          "output_type": "stream",
          "name": "stdout",
          "text": [
            "/content\n",
            "\u001b[01;34m.\u001b[00m\n",
            "├── 2023_AWS Office  Hour_사전질문지.xlsx\n",
            "├── \u001b[01;34mdrive\u001b[00m\n",
            "│   ├── \u001b[01;34mMyDrive\u001b[00m\n",
            "│   │   ├── \u001b[01;35m20190312_012648.jpg\u001b[00m\n",
            "│   │   ├── \u001b[01;34mAnyfile Notepad Files\u001b[00m\n",
            "│   │   ├── \u001b[01;34mColab Notebooks\u001b[00m\n",
            "│   │   ├── \u001b[01;34m_grtlinux\u001b[00m\n",
            "│   │   ├── Hello_01.ipynb\n",
            "│   │   ├── Hello_02.ipynb\n",
            "│   │   ├── README_1000_20190904.txt\n",
            "│   │   ├── README-alcohol.190925.txt\n",
            "│   │   ├── README_mid_20190909.txt\n",
            "│   │   ├── README_pattern_20190914.txt\n",
            "│   │   ├── README-temp.191015.txt\n",
            "│   │   ├── 스크린샷 2019-02-03 오후 4.13.34.png\n",
            "│   │   └── 오즈모 모바일3_퀵사용_캡처_20190919.PNG\n",
            "│   └── \u001b[01;34mOthercomputers\u001b[00m\n",
            "│       ├── \u001b[01;34m내 PC\u001b[00m\n",
            "│       ├── \u001b[01;34m내 PC (1)\u001b[00m\n",
            "│       └── \u001b[01;34m내 노트북\u001b[00m\n",
            "├── \u001b[01;34msample_data\u001b[00m\n",
            "│   ├── \u001b[01;32manscombe.json\u001b[00m\n",
            "│   ├── california_housing_test.csv\n",
            "│   ├── california_housing_train.csv\n",
            "│   ├── mnist_test.csv\n",
            "│   ├── mnist_train_small.csv\n",
            "│   └── \u001b[01;32mREADME.md\u001b[00m\n",
            "├── test (1).txt\n",
            "├── test (2).txt\n",
            "└── test.txt\n",
            "\n",
            "10 directories, 20 files\n"
          ]
        }
      ]
    },
    {
      "cell_type": "code",
      "source": [
        "!rm \"test \"*.txt *.xlsx\n",
        "!tree -L 3"
      ],
      "metadata": {
        "id": "ZMAp8yrBX96I",
        "outputId": "065172f6-0e72-44f5-d826-34d3f2bbb821",
        "colab": {
          "base_uri": "https://localhost:8080/"
        }
      },
      "execution_count": 17,
      "outputs": [
        {
          "output_type": "stream",
          "name": "stdout",
          "text": [
            "\u001b[01;34m.\u001b[00m\n",
            "├── \u001b[01;34mdrive\u001b[00m\n",
            "│   ├── \u001b[01;34mMyDrive\u001b[00m\n",
            "│   │   ├── \u001b[01;35m20190312_012648.jpg\u001b[00m\n",
            "│   │   ├── \u001b[01;34mAnyfile Notepad Files\u001b[00m\n",
            "│   │   ├── \u001b[01;34mColab Notebooks\u001b[00m\n",
            "│   │   ├── \u001b[01;34m_grtlinux\u001b[00m\n",
            "│   │   ├── Hello_01.ipynb\n",
            "│   │   ├── Hello_02.ipynb\n",
            "│   │   ├── README_1000_20190904.txt\n",
            "│   │   ├── README-alcohol.190925.txt\n",
            "│   │   ├── README_mid_20190909.txt\n",
            "│   │   ├── README_pattern_20190914.txt\n",
            "│   │   ├── README-temp.191015.txt\n",
            "│   │   ├── 스크린샷 2019-02-03 오후 4.13.34.png\n",
            "│   │   └── 오즈모 모바일3_퀵사용_캡처_20190919.PNG\n",
            "│   └── \u001b[01;34mOthercomputers\u001b[00m\n",
            "│       ├── \u001b[01;34m내 PC\u001b[00m\n",
            "│       ├── \u001b[01;34m내 PC (1)\u001b[00m\n",
            "│       └── \u001b[01;34m내 노트북\u001b[00m\n",
            "├── \u001b[01;34msample_data\u001b[00m\n",
            "│   ├── \u001b[01;32manscombe.json\u001b[00m\n",
            "│   ├── california_housing_test.csv\n",
            "│   ├── california_housing_train.csv\n",
            "│   ├── mnist_test.csv\n",
            "│   ├── mnist_train_small.csv\n",
            "│   └── \u001b[01;32mREADME.md\u001b[00m\n",
            "└── test.txt\n",
            "\n",
            "10 directories, 17 files\n"
          ]
        }
      ]
    },
    {
      "cell_type": "markdown",
      "metadata": {
        "id": "8OoBiBv4UBWm"
      },
      "source": [
        "\n",
        "\n",
        "---\n",
        "\n"
      ]
    },
    {
      "cell_type": "markdown",
      "metadata": {
        "id": "ID57POzYUYyl"
      },
      "source": [
        "# Jupyter Notebook\n",
        "\n",
        "![jupyter_img.png](https://github.com/grtlinux/KieaColab23/blob/main/images/jupyter_img.png)"
      ]
    },
    {
      "cell_type": "markdown",
      "metadata": {
        "id": "ZTkr0NKRXEiq"
      },
      "source": [
        "## help()\n",
        "\n",
        "* 파이썬 객체에 대한 요약 정보와 사용법 보기"
      ]
    },
    {
      "cell_type": "code",
      "metadata": {
        "id": "S_aXiV9VW_1u"
      },
      "source": [],
      "execution_count": null,
      "outputs": []
    },
    {
      "cell_type": "markdown",
      "metadata": {
        "id": "X6F7JOv0Xv2a"
      },
      "source": [
        "## ?로 설명 보기\n",
        "\n",
        "* 객체 요약 정보 및 사용법이 있는 docstring 보기"
      ]
    },
    {
      "cell_type": "code",
      "metadata": {
        "id": "KzrQ0xy0Xk42"
      },
      "source": [],
      "execution_count": null,
      "outputs": []
    },
    {
      "cell_type": "code",
      "metadata": {
        "id": "qDEczcmvYHmm"
      },
      "source": [],
      "execution_count": null,
      "outputs": []
    },
    {
      "cell_type": "code",
      "metadata": {
        "id": "Ep2oX_Ollb_C"
      },
      "source": [],
      "execution_count": null,
      "outputs": []
    },
    {
      "cell_type": "code",
      "metadata": {
        "id": "lpM-ijxnltUG"
      },
      "source": [],
      "execution_count": null,
      "outputs": []
    },
    {
      "cell_type": "code",
      "metadata": {
        "id": "l7p0YMtDmEFS"
      },
      "source": [],
      "execution_count": null,
      "outputs": []
    },
    {
      "cell_type": "code",
      "metadata": {
        "id": "9BS1dLnimUOb"
      },
      "source": [],
      "execution_count": null,
      "outputs": []
    },
    {
      "cell_type": "markdown",
      "metadata": {
        "id": "gtRsneYd-slf"
      },
      "source": [
        "## 탭(tab) 자동완성\n",
        "\n",
        "* 객체와 모듈, 인터페이스의 내용을 자동 완성"
      ]
    },
    {
      "cell_type": "code",
      "metadata": {
        "id": "PK4fJOk6-we7"
      },
      "source": [],
      "execution_count": null,
      "outputs": []
    },
    {
      "cell_type": "markdown",
      "metadata": {
        "id": "xP7n3Oqp_N0K"
      },
      "source": [
        "##와일드카드(wildcard) 매칭\n",
        "\n",
        "* 단어의 중간이나 마지막 글자로 매칭하여 객체나 속성 찾기"
      ]
    },
    {
      "cell_type": "code",
      "metadata": {
        "id": "W7ceOXpi_JNk"
      },
      "source": [],
      "execution_count": null,
      "outputs": []
    },
    {
      "cell_type": "code",
      "metadata": {
        "id": "IMjy2bc0_TwQ"
      },
      "source": [],
      "execution_count": null,
      "outputs": []
    },
    {
      "cell_type": "markdown",
      "metadata": {
        "id": "yCRnab5c_mBh"
      },
      "source": [
        "## 매직 명령어(magic commands)\n",
        "\n",
        "* Jupyter Notebook 환경에서 파이썬 파일 저장 및 실행"
      ]
    },
    {
      "cell_type": "code",
      "metadata": {
        "id": "t6ufEi9q_qS4"
      },
      "source": [],
      "execution_count": null,
      "outputs": []
    },
    {
      "cell_type": "code",
      "metadata": {
        "id": "GVRuezjk_wLD"
      },
      "source": [],
      "execution_count": null,
      "outputs": []
    },
    {
      "cell_type": "markdown",
      "metadata": {
        "id": "MzKD0owDXs7r"
      },
      "source": [
        "* 코드 실행 시간 측정"
      ]
    },
    {
      "cell_type": "code",
      "metadata": {
        "id": "YfO_C9-2bQRn"
      },
      "source": [],
      "execution_count": null,
      "outputs": []
    },
    {
      "cell_type": "code",
      "metadata": {
        "id": "Yj-cfvBVWuf-"
      },
      "source": [],
      "execution_count": null,
      "outputs": []
    },
    {
      "cell_type": "code",
      "metadata": {
        "id": "RbEaBBjaYHDM"
      },
      "source": [],
      "execution_count": null,
      "outputs": []
    },
    {
      "cell_type": "markdown",
      "metadata": {
        "id": "SROwYmP9rEQd"
      },
      "source": [
        "## 입력과 출력 이력\n",
        "\n",
        "* In과 Out 객체를 통해 이전 명령어와 명령어의 출력 결과 보기"
      ]
    },
    {
      "cell_type": "code",
      "metadata": {
        "id": "SjxoRZdbpttu"
      },
      "source": [],
      "execution_count": null,
      "outputs": []
    },
    {
      "cell_type": "code",
      "metadata": {
        "id": "Bbcl7xxSr33V"
      },
      "source": [],
      "execution_count": null,
      "outputs": []
    },
    {
      "cell_type": "code",
      "metadata": {
        "id": "5lJahT8crj6K"
      },
      "source": [],
      "execution_count": null,
      "outputs": []
    },
    {
      "cell_type": "code",
      "metadata": {
        "id": "SMtBrmvHsNlP"
      },
      "source": [],
      "execution_count": null,
      "outputs": []
    },
    {
      "cell_type": "code",
      "metadata": {
        "id": "QbjVTJS4sTAG"
      },
      "source": [],
      "execution_count": null,
      "outputs": []
    },
    {
      "cell_type": "markdown",
      "metadata": {
        "id": "H4YgwfJAtNUH"
      },
      "source": [
        "* `_`를 이용해 이전 출력값 출력하기"
      ]
    },
    {
      "cell_type": "code",
      "metadata": {
        "id": "cT2w3ITLtKQF"
      },
      "source": [],
      "execution_count": null,
      "outputs": []
    },
    {
      "cell_type": "code",
      "metadata": {
        "id": "QFxB16JptUNd"
      },
      "source": [],
      "execution_count": null,
      "outputs": []
    },
    {
      "cell_type": "code",
      "metadata": {
        "id": "7Jfpuu6ZtWjP"
      },
      "source": [],
      "execution_count": null,
      "outputs": []
    },
    {
      "cell_type": "code",
      "metadata": {
        "id": "4j71-ohhti9u"
      },
      "source": [],
      "execution_count": null,
      "outputs": []
    },
    {
      "cell_type": "markdown",
      "metadata": {
        "id": "Nf8CVZiTt4r-"
      },
      "source": [
        "* `%history`를 이용한 입력 이력 살펴보기"
      ]
    },
    {
      "cell_type": "code",
      "metadata": {
        "id": "GiVkb35YuQTL"
      },
      "source": [],
      "execution_count": null,
      "outputs": []
    },
    {
      "cell_type": "markdown",
      "metadata": {
        "id": "1oOEYT9Zu8Yo"
      },
      "source": [
        "* `%rerun`을 이용해 이전 입력 이력 다시 실행"
      ]
    },
    {
      "cell_type": "code",
      "metadata": {
        "id": "ZWLXBxdtvCOV"
      },
      "source": [],
      "execution_count": null,
      "outputs": []
    },
    {
      "cell_type": "markdown",
      "metadata": {
        "id": "LzKq5kwvds25"
      },
      "source": [
        "## 셸 명령어\n",
        "\n",
        "* 텍스트 기반의 셸 명령어 처리\n",
        "* `!` 문자를 명령어 앞에 붙여서 셸 명령어 사용 가능"
      ]
    },
    {
      "cell_type": "markdown",
      "metadata": {
        "id": "oFThpCCPhm45"
      },
      "source": [
        "* `ls`: 디렉토리 리스트 보기"
      ]
    },
    {
      "cell_type": "code",
      "metadata": {
        "id": "7iAgViCpdvh9"
      },
      "source": [],
      "execution_count": null,
      "outputs": []
    },
    {
      "cell_type": "markdown",
      "metadata": {
        "id": "RuKN3MuvhvTB"
      },
      "source": [
        "* `pwd`: 현재 경로 보기"
      ]
    },
    {
      "cell_type": "code",
      "metadata": {
        "id": "aOwJCr3GekKJ"
      },
      "source": [],
      "execution_count": null,
      "outputs": []
    },
    {
      "cell_type": "markdown",
      "metadata": {
        "id": "1dCCjWyphyOP"
      },
      "source": [
        "* `cd`: 디렉토리 변경\n",
        "* IPython에서는 임시 셸에서 실행"
      ]
    },
    {
      "cell_type": "code",
      "metadata": {
        "id": "KXtuuGvXfAU-"
      },
      "source": [],
      "execution_count": null,
      "outputs": []
    },
    {
      "cell_type": "markdown",
      "metadata": {
        "id": "yjrAafNlh65Q"
      },
      "source": [
        "* `%cd`: 지속적인 디렉토리 변경"
      ]
    },
    {
      "cell_type": "code",
      "metadata": {
        "id": "Q1MBKD4YfpyB"
      },
      "source": [],
      "execution_count": null,
      "outputs": []
    },
    {
      "cell_type": "markdown",
      "metadata": {
        "id": "b8xPHOjsiQCL"
      },
      "source": [
        "* `echo`: 화면 출력"
      ]
    },
    {
      "cell_type": "code",
      "metadata": {
        "id": "-9FYy8rzeljZ"
      },
      "source": [],
      "execution_count": null,
      "outputs": []
    },
    {
      "cell_type": "markdown",
      "metadata": {
        "id": "3oRMLDh_mswk"
      },
      "source": [
        "* `mkdir`: 디렉토리 생성"
      ]
    },
    {
      "cell_type": "code",
      "metadata": {
        "id": "Eofit8K-fcjG"
      },
      "source": [],
      "execution_count": null,
      "outputs": []
    },
    {
      "cell_type": "code",
      "metadata": {
        "id": "9djMxCwYiXrc"
      },
      "source": [],
      "execution_count": null,
      "outputs": []
    },
    {
      "cell_type": "markdown",
      "metadata": {
        "id": "Ji6oMNFQmysC"
      },
      "source": [
        "* `cat`: 파일 보기"
      ]
    },
    {
      "cell_type": "code",
      "metadata": {
        "id": "GICda8P6mg1r"
      },
      "source": [],
      "execution_count": null,
      "outputs": []
    },
    {
      "cell_type": "markdown",
      "metadata": {
        "id": "3Ns4pYQJm1nR"
      },
      "source": [
        "* `cp`: 디렉토리/파일 복사"
      ]
    },
    {
      "cell_type": "code",
      "metadata": {
        "id": "-XIDsmsum7Sb"
      },
      "source": [],
      "execution_count": null,
      "outputs": []
    },
    {
      "cell_type": "code",
      "metadata": {
        "id": "T_3VG78OnDb9"
      },
      "source": [],
      "execution_count": null,
      "outputs": []
    },
    {
      "cell_type": "markdown",
      "metadata": {
        "id": "ZR53WLOfnGH7"
      },
      "source": [
        "* `rm`: 디렉토리/파일 삭제"
      ]
    },
    {
      "cell_type": "code",
      "metadata": {
        "id": "WI1dpUV6nJyd"
      },
      "source": [],
      "execution_count": null,
      "outputs": []
    },
    {
      "cell_type": "code",
      "metadata": {
        "id": "78Fr9nEhnMsg"
      },
      "source": [],
      "execution_count": null,
      "outputs": []
    },
    {
      "cell_type": "markdown",
      "metadata": {
        "id": "OrcSIf_T8gii"
      },
      "source": [
        "\n",
        "\n",
        "---\n",
        "\n"
      ]
    },
    {
      "cell_type": "markdown",
      "metadata": {
        "id": "7hDXZYpnA_DO"
      },
      "source": [
        "# 마크다운(Markdown)\n",
        "\n",
        "* 문법이 간단하고, 사용이 쉬움\n"
      ]
    },
    {
      "cell_type": "markdown",
      "metadata": {
        "id": "c0Sjw59GC_Kn"
      },
      "source": [
        "\n",
        "## 제목(Heading) 표시"
      ]
    },
    {
      "cell_type": "markdown",
      "metadata": {
        "id": "WXfs_Cu1Co-H"
      },
      "source": []
    },
    {
      "cell_type": "markdown",
      "metadata": {
        "id": "oTWz1WgDBtqM"
      },
      "source": [
        "## 목록(List) 구성\n",
        "\n"
      ]
    },
    {
      "cell_type": "markdown",
      "metadata": {
        "id": "fSJ0j0Y8CsKW"
      },
      "source": []
    },
    {
      "cell_type": "markdown",
      "metadata": {
        "id": "TsaBsQUsCTE0"
      },
      "source": [
        "## 폰트 스타일(Font Style)\n",
        "\n"
      ]
    },
    {
      "cell_type": "markdown",
      "metadata": {
        "id": "Fu4Lk62RCivG"
      },
      "source": []
    },
    {
      "cell_type": "markdown",
      "metadata": {
        "id": "P8PLWLSODwrS"
      },
      "source": [
        "## 인용구\n",
        "\n"
      ]
    },
    {
      "cell_type": "markdown",
      "metadata": {
        "id": "gchOf72GD5lt"
      },
      "source": []
    },
    {
      "cell_type": "markdown",
      "metadata": {
        "id": "Jw5EeYO9D8AI"
      },
      "source": [
        "## 링크\n",
        "\n"
      ]
    },
    {
      "cell_type": "markdown",
      "metadata": {
        "id": "2NVoA14BEMqB"
      },
      "source": []
    },
    {
      "cell_type": "markdown",
      "metadata": {
        "id": "XclscvygEVcp"
      },
      "source": [
        "## 이미지\n"
      ]
    },
    {
      "cell_type": "markdown",
      "metadata": {
        "id": "puOkShcgEnuq"
      },
      "source": []
    },
    {
      "cell_type": "markdown",
      "metadata": {
        "id": "mVy5Qmd4Erlp"
      },
      "source": [
        "## 수평선\n",
        "\n",
        "\n"
      ]
    },
    {
      "cell_type": "markdown",
      "metadata": {
        "id": "VhNkI-8VEviE"
      },
      "source": []
    },
    {
      "cell_type": "markdown",
      "metadata": {
        "id": "hBVgu-TnEyFt"
      },
      "source": [
        "## 표\n",
        "\n",
        "\n"
      ]
    },
    {
      "cell_type": "markdown",
      "metadata": {
        "id": "5X87z4qYFFF-"
      },
      "source": [
        "| C1 | C2 | C3  |\n",
        "|:---|---:|:---:|\n",
        "| D1 | D2 | D3 |"
      ]
    },
    {
      "cell_type": "markdown",
      "metadata": {
        "id": "hqpFpco_FMfT"
      },
      "source": [
        "## 코드\n",
        "\n",
        "\n",
        "\n",
        "\n"
      ]
    },
    {
      "cell_type": "markdown",
      "metadata": {
        "id": "32V1r2KeG1He"
      },
      "source": []
    }
  ]
}