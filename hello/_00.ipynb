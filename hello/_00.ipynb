{
  "nbformat": 4,
  "nbformat_minor": 0,
  "metadata": {
    "colab": {
      "provenance": [],
      "toc_visible": true,
      "include_colab_link": true
    },
    "kernelspec": {
      "name": "python3",
      "display_name": "Python 3"
    },
    "accelerator": "GPU",
    "gpuClass": "standard"
  },
  "cells": [
    {
      "cell_type": "markdown",
      "metadata": {
        "id": "view-in-github",
        "colab_type": "text"
      },
      "source": [
        "<a href=\"https://colab.research.google.com/github/grtlinux/KieaColab23/blob/main/hello/_00.ipynb\" target=\"_parent\"><img src=\"https://colab.research.google.com/assets/colab-badge.svg\" alt=\"Open In Colab\"/></a>"
      ]
    },
    {
      "cell_type": "markdown",
      "source": [
        "* [YouTube: Google Colab, Jupyter Notebook, Markdown 사용법과 팁 총정리](https://youtu.be/wb4F1aeZtRA?list=PL7ZVZgsnLwEEdhCYInwxRpj1Rc4EGmCUc)"
      ],
      "metadata": {
        "id": "uiOWUVinGWTp"
      }
    },
    {
      "cell_type": "markdown",
      "metadata": {
        "id": "bg5ZXMV2sn1M"
      },
      "source": [
        "# Google Colaboratory\n"
      ]
    },
    {
      "cell_type": "markdown",
      "metadata": {
        "id": "Lj_iZPKnCRP0"
      },
      "source": [
        "\n",
        "\n",
        "---\n",
        "\n"
      ]
    },
    {
      "cell_type": "markdown",
      "metadata": {
        "id": "i3r5VFtU5O4U"
      },
      "source": [
        "## Google Colab 사양\n"
      ]
    },
    {
      "cell_type": "markdown",
      "metadata": {
        "id": "gV5e99TT-08Z"
      },
      "source": [
        "* 플랫폼"
      ]
    },
    {
      "cell_type": "code",
      "metadata": {
        "id": "5VeuLl0B-cy4",
        "colab": {
          "base_uri": "https://localhost:8080/",
          "height": 36
        },
        "outputId": "e10cd4a8-0e46-4477-f892-15fb2d90592f"
      },
      "source": [
        "import platform\n",
        "platform.platform()"
      ],
      "execution_count": null,
      "outputs": [
        {
          "output_type": "execute_result",
          "data": {
            "text/plain": [
              "'Linux-5.10.147+-x86_64-with-glibc2.31'"
            ],
            "application/vnd.google.colaboratory.intrinsic+json": {
              "type": "string"
            }
          },
          "metadata": {},
          "execution_count": 2
        }
      ]
    },
    {
      "cell_type": "markdown",
      "metadata": {
        "id": "Q9f6YpG-5ZCx"
      },
      "source": [
        "* 운영체제"
      ]
    },
    {
      "cell_type": "code",
      "metadata": {
        "id": "IC0e82Ft5Rxt",
        "colab": {
          "base_uri": "https://localhost:8080/"
        },
        "outputId": "3b27b4ed-78b2-4330-85f5-159cd735c669"
      },
      "source": [
        "!cat /etc/issue.net"
      ],
      "execution_count": null,
      "outputs": [
        {
          "output_type": "stream",
          "name": "stdout",
          "text": [
            "Ubuntu 20.04.5 LTS\n"
          ]
        }
      ]
    },
    {
      "cell_type": "markdown",
      "metadata": {
        "id": "mrQDwTmI5bzQ"
      },
      "source": [
        "* CPU 사양"
      ]
    },
    {
      "cell_type": "code",
      "metadata": {
        "id": "MX782lUX5ju0",
        "colab": {
          "base_uri": "https://localhost:8080/"
        },
        "outputId": "a50b940d-3487-4080-96cc-0c9423913898"
      },
      "source": [
        "!cat /proc/cpuinfo"
      ],
      "execution_count": 1,
      "outputs": [
        {
          "output_type": "stream",
          "name": "stdout",
          "text": [
            "processor\t: 0\n",
            "vendor_id\t: GenuineIntel\n",
            "cpu family\t: 6\n",
            "model\t\t: 79\n",
            "model name\t: Intel(R) Xeon(R) CPU @ 2.20GHz\n",
            "stepping\t: 0\n",
            "microcode\t: 0xffffffff\n",
            "cpu MHz\t\t: 2199.998\n",
            "cache size\t: 56320 KB\n",
            "physical id\t: 0\n",
            "siblings\t: 2\n",
            "core id\t\t: 0\n",
            "cpu cores\t: 1\n",
            "apicid\t\t: 0\n",
            "initial apicid\t: 0\n",
            "fpu\t\t: yes\n",
            "fpu_exception\t: yes\n",
            "cpuid level\t: 13\n",
            "wp\t\t: yes\n",
            "flags\t\t: fpu vme de pse tsc msr pae mce cx8 apic sep mtrr pge mca cmov pat pse36 clflush mmx fxsr sse sse2 ss ht syscall nx pdpe1gb rdtscp lm constant_tsc rep_good nopl xtopology nonstop_tsc cpuid tsc_known_freq pni pclmulqdq ssse3 fma cx16 pcid sse4_1 sse4_2 x2apic movbe popcnt aes xsave avx f16c rdrand hypervisor lahf_lm abm 3dnowprefetch invpcid_single ssbd ibrs ibpb stibp fsgsbase tsc_adjust bmi1 hle avx2 smep bmi2 erms invpcid rtm rdseed adx smap xsaveopt arat md_clear arch_capabilities\n",
            "bugs\t\t: cpu_meltdown spectre_v1 spectre_v2 spec_store_bypass l1tf mds swapgs taa mmio_stale_data retbleed\n",
            "bogomips\t: 4399.99\n",
            "clflush size\t: 64\n",
            "cache_alignment\t: 64\n",
            "address sizes\t: 46 bits physical, 48 bits virtual\n",
            "power management:\n",
            "\n",
            "processor\t: 1\n",
            "vendor_id\t: GenuineIntel\n",
            "cpu family\t: 6\n",
            "model\t\t: 79\n",
            "model name\t: Intel(R) Xeon(R) CPU @ 2.20GHz\n",
            "stepping\t: 0\n",
            "microcode\t: 0xffffffff\n",
            "cpu MHz\t\t: 2199.998\n",
            "cache size\t: 56320 KB\n",
            "physical id\t: 0\n",
            "siblings\t: 2\n",
            "core id\t\t: 0\n",
            "cpu cores\t: 1\n",
            "apicid\t\t: 1\n",
            "initial apicid\t: 1\n",
            "fpu\t\t: yes\n",
            "fpu_exception\t: yes\n",
            "cpuid level\t: 13\n",
            "wp\t\t: yes\n",
            "flags\t\t: fpu vme de pse tsc msr pae mce cx8 apic sep mtrr pge mca cmov pat pse36 clflush mmx fxsr sse sse2 ss ht syscall nx pdpe1gb rdtscp lm constant_tsc rep_good nopl xtopology nonstop_tsc cpuid tsc_known_freq pni pclmulqdq ssse3 fma cx16 pcid sse4_1 sse4_2 x2apic movbe popcnt aes xsave avx f16c rdrand hypervisor lahf_lm abm 3dnowprefetch invpcid_single ssbd ibrs ibpb stibp fsgsbase tsc_adjust bmi1 hle avx2 smep bmi2 erms invpcid rtm rdseed adx smap xsaveopt arat md_clear arch_capabilities\n",
            "bugs\t\t: cpu_meltdown spectre_v1 spectre_v2 spec_store_bypass l1tf mds swapgs taa mmio_stale_data retbleed\n",
            "bogomips\t: 4399.99\n",
            "clflush size\t: 64\n",
            "cache_alignment\t: 64\n",
            "address sizes\t: 46 bits physical, 48 bits virtual\n",
            "power management:\n",
            "\n"
          ]
        }
      ]
    },
    {
      "cell_type": "markdown",
      "metadata": {
        "id": "XQbXXmZ75ffA"
      },
      "source": [
        "* 메모리 사양"
      ]
    },
    {
      "cell_type": "code",
      "metadata": {
        "id": "vJ0_EPba5sP1",
        "colab": {
          "base_uri": "https://localhost:8080/"
        },
        "outputId": "cf98190f-e759-42b8-edab-8896ab10eda0"
      },
      "source": [
        "!cat /proc/meminfo"
      ],
      "execution_count": 5,
      "outputs": [
        {
          "output_type": "stream",
          "name": "stdout",
          "text": [
            "MemTotal:       13297200 kB\n",
            "MemFree:         9356344 kB\n",
            "MemAvailable:   12381984 kB\n",
            "Buffers:          329220 kB\n",
            "Cached:          2854056 kB\n",
            "SwapCached:            0 kB\n",
            "Active:           581308 kB\n",
            "Inactive:        3134588 kB\n",
            "Active(anon):       1020 kB\n",
            "Inactive(anon):   513364 kB\n",
            "Active(file):     580288 kB\n",
            "Inactive(file):  2621224 kB\n",
            "Unevictable:           0 kB\n",
            "Mlocked:               0 kB\n",
            "SwapTotal:             0 kB\n",
            "SwapFree:              0 kB\n",
            "Dirty:               312 kB\n",
            "Writeback:             0 kB\n",
            "AnonPages:        532628 kB\n",
            "Mapped:           257192 kB\n",
            "Shmem:              1304 kB\n",
            "KReclaimable:     131156 kB\n",
            "Slab:             161480 kB\n",
            "SReclaimable:     131156 kB\n",
            "SUnreclaim:        30324 kB\n",
            "KernelStack:        4032 kB\n",
            "PageTables:         8340 kB\n",
            "NFS_Unstable:          0 kB\n",
            "Bounce:                0 kB\n",
            "WritebackTmp:          0 kB\n",
            "CommitLimit:     6648600 kB\n",
            "Committed_AS:    2529996 kB\n",
            "VmallocTotal:   34359738367 kB\n",
            "VmallocUsed:        8900 kB\n",
            "VmallocChunk:          0 kB\n",
            "Percpu:             1328 kB\n",
            "HardwareCorrupted:     0 kB\n",
            "AnonHugePages:         0 kB\n",
            "ShmemHugePages:        0 kB\n",
            "ShmemPmdMapped:        0 kB\n",
            "FileHugePages:         0 kB\n",
            "FilePmdMapped:         0 kB\n",
            "CmaTotal:              0 kB\n",
            "CmaFree:               0 kB\n",
            "HugePages_Total:       0\n",
            "HugePages_Free:        0\n",
            "HugePages_Rsvd:        0\n",
            "HugePages_Surp:        0\n",
            "Hugepagesize:       2048 kB\n",
            "Hugetlb:               0 kB\n",
            "DirectMap4k:      121664 kB\n",
            "DirectMap2M:     7215104 kB\n",
            "DirectMap1G:     8388608 kB\n"
          ]
        }
      ]
    },
    {
      "cell_type": "markdown",
      "metadata": {
        "id": "EaOIRYVP5w30"
      },
      "source": [
        "* 디스크 사양"
      ]
    },
    {
      "cell_type": "code",
      "metadata": {
        "id": "FKWOPJNv5y2y",
        "colab": {
          "base_uri": "https://localhost:8080/"
        },
        "outputId": "7bcec2ce-7984-43f8-a514-c60b7383c248"
      },
      "source": [
        "!df -h"
      ],
      "execution_count": 6,
      "outputs": [
        {
          "output_type": "stream",
          "name": "stdout",
          "text": [
            "Filesystem      Size  Used Avail Use% Mounted on\n",
            "overlay         108G   26G   83G  24% /\n",
            "tmpfs            64M     0   64M   0% /dev\n",
            "shm             5.8G     0  5.8G   0% /dev/shm\n",
            "/dev/root       2.0G  1.1G  841M  58% /usr/sbin/docker-init\n",
            "tmpfs           6.4G   36K  6.4G   1% /var/colab\n",
            "/dev/sda1        70G   44G   26G  64% /etc/hosts\n",
            "tmpfs           6.4G     0  6.4G   0% /proc/acpi\n",
            "tmpfs           6.4G     0  6.4G   0% /proc/scsi\n",
            "tmpfs           6.4G     0  6.4G   0% /sys/firmware\n"
          ]
        }
      ]
    },
    {
      "cell_type": "markdown",
      "metadata": {
        "id": "i2LgCHNv541D"
      },
      "source": [
        "* 파이썬 버전"
      ]
    },
    {
      "cell_type": "code",
      "metadata": {
        "id": "AZNd_Cpi57SD",
        "colab": {
          "base_uri": "https://localhost:8080/"
        },
        "outputId": "44ac4941-1ba8-4892-f632-0da3571c3c77"
      },
      "source": [
        "!python --version"
      ],
      "execution_count": 7,
      "outputs": [
        {
          "output_type": "stream",
          "name": "stdout",
          "text": [
            "Python 3.9.16\n"
          ]
        }
      ]
    },
    {
      "cell_type": "markdown",
      "metadata": {
        "id": "ZLrgX-u15_wI"
      },
      "source": [
        "## Google Colab 런타임\n",
        "* Colab에서 고성능 하드웨어로 GPU나 TPU 사용 가능\n",
        "* 런타임 유형 변경(Change runtime type) 필요\n",
        "  + None: CPU만 사용\n",
        "  + GPU: 하드웨어 가속으로 GPU 사용\n",
        "  + TPU: 하드웨어 가속으로 TPU 사용"
      ]
    },
    {
      "cell_type": "code",
      "metadata": {
        "id": "Oa3X6JLZ6BE1",
        "colab": {
          "base_uri": "https://localhost:8080/"
        },
        "outputId": "5bfeb1fd-72e3-42f2-fd07-2942f7198ed2"
      },
      "source": [
        "!nvidia-smi"
      ],
      "execution_count": 2,
      "outputs": [
        {
          "output_type": "stream",
          "name": "stdout",
          "text": [
            "Tue Mar 14 08:50:16 2023       \n",
            "+-----------------------------------------------------------------------------+\n",
            "| NVIDIA-SMI 525.85.12    Driver Version: 525.85.12    CUDA Version: 12.0     |\n",
            "|-------------------------------+----------------------+----------------------+\n",
            "| GPU  Name        Persistence-M| Bus-Id        Disp.A | Volatile Uncorr. ECC |\n",
            "| Fan  Temp  Perf  Pwr:Usage/Cap|         Memory-Usage | GPU-Util  Compute M. |\n",
            "|                               |                      |               MIG M. |\n",
            "|===============================+======================+======================|\n",
            "|   0  Tesla T4            Off  | 00000000:00:04.0 Off |                    0 |\n",
            "| N/A   63C    P0    29W /  70W |      0MiB / 15360MiB |      0%      Default |\n",
            "|                               |                      |                  N/A |\n",
            "+-------------------------------+----------------------+----------------------+\n",
            "                                                                               \n",
            "+-----------------------------------------------------------------------------+\n",
            "| Processes:                                                                  |\n",
            "|  GPU   GI   CI        PID   Type   Process name                  GPU Memory |\n",
            "|        ID   ID                                                   Usage      |\n",
            "|=============================================================================|\n",
            "|  No running processes found                                                 |\n",
            "+-----------------------------------------------------------------------------+\n"
          ]
        }
      ]
    },
    {
      "cell_type": "markdown",
      "metadata": {
        "id": "VxNA7zfv-6wx"
      },
      "source": [
        "## 파일 저장 및 다운로드/업로드\n",
        "\n",
        "* Jupyter Notebook 환경에서 파일 저장 및 다운로드"
      ]
    },
    {
      "cell_type": "code",
      "metadata": {
        "id": "oTiMWM70_E42",
        "colab": {
          "base_uri": "https://localhost:8080/"
        },
        "outputId": "7b671a0d-141d-4c2c-a172-b21ed448c6f4"
      },
      "source": [
        "%%writefile test.txt\n",
        "Hello, world!!!"
      ],
      "execution_count": 3,
      "outputs": [
        {
          "output_type": "stream",
          "name": "stdout",
          "text": [
            "Writing test.txt\n"
          ]
        }
      ]
    },
    {
      "cell_type": "code",
      "metadata": {
        "id": "ptEgaG3v_QSR",
        "colab": {
          "base_uri": "https://localhost:8080/"
        },
        "outputId": "7f9dbaf8-c78b-4c2a-a226-23d30dd4e200"
      },
      "source": [
        "!pwd\n",
        "!cat test.txt"
      ],
      "execution_count": 4,
      "outputs": [
        {
          "output_type": "stream",
          "name": "stdout",
          "text": [
            "/content\n",
            "Hello, world!!!\n"
          ]
        }
      ]
    },
    {
      "cell_type": "code",
      "metadata": {
        "id": "-HGNOyHk_Yxg",
        "colab": {
          "base_uri": "https://localhost:8080/",
          "height": 17
        },
        "outputId": "b6ea000d-f10b-4d50-b33a-f7597407cf9d"
      },
      "source": [
        "from google.colab import files\n",
        "files.download('test.txt')"
      ],
      "execution_count": 5,
      "outputs": [
        {
          "output_type": "display_data",
          "data": {
            "text/plain": [
              "<IPython.core.display.Javascript object>"
            ],
            "application/javascript": [
              "\n",
              "    async function download(id, filename, size) {\n",
              "      if (!google.colab.kernel.accessAllowed) {\n",
              "        return;\n",
              "      }\n",
              "      const div = document.createElement('div');\n",
              "      const label = document.createElement('label');\n",
              "      label.textContent = `Downloading \"${filename}\": `;\n",
              "      div.appendChild(label);\n",
              "      const progress = document.createElement('progress');\n",
              "      progress.max = size;\n",
              "      div.appendChild(progress);\n",
              "      document.body.appendChild(div);\n",
              "\n",
              "      const buffers = [];\n",
              "      let downloaded = 0;\n",
              "\n",
              "      const channel = await google.colab.kernel.comms.open(id);\n",
              "      // Send a message to notify the kernel that we're ready.\n",
              "      channel.send({})\n",
              "\n",
              "      for await (const message of channel.messages) {\n",
              "        // Send a message to notify the kernel that we're ready.\n",
              "        channel.send({})\n",
              "        if (message.buffers) {\n",
              "          for (const buffer of message.buffers) {\n",
              "            buffers.push(buffer);\n",
              "            downloaded += buffer.byteLength;\n",
              "            progress.value = downloaded;\n",
              "          }\n",
              "        }\n",
              "      }\n",
              "      const blob = new Blob(buffers, {type: 'application/binary'});\n",
              "      const a = document.createElement('a');\n",
              "      a.href = window.URL.createObjectURL(blob);\n",
              "      a.download = filename;\n",
              "      div.appendChild(a);\n",
              "      a.click();\n",
              "      div.remove();\n",
              "    }\n",
              "  "
            ]
          },
          "metadata": {}
        },
        {
          "output_type": "display_data",
          "data": {
            "text/plain": [
              "<IPython.core.display.Javascript object>"
            ],
            "application/javascript": [
              "download(\"download_6705e6af-9bac-41e6-bfb4-893f549a34b0\", \"test.txt\", 16)"
            ]
          },
          "metadata": {}
        }
      ]
    },
    {
      "cell_type": "code",
      "metadata": {
        "id": "6MLJ6R60AIQJ",
        "colab": {
          "base_uri": "https://localhost:8080/",
          "height": 177
        },
        "outputId": "fe5baa6e-bd05-43ad-e63a-f23c6cac6382"
      },
      "source": [
        "upload = files.upload()\n",
        "upload\n",
        "!ls -l"
      ],
      "execution_count": 8,
      "outputs": [
        {
          "output_type": "display_data",
          "data": {
            "text/plain": [
              "<IPython.core.display.HTML object>"
            ],
            "text/html": [
              "\n",
              "     <input type=\"file\" id=\"files-5f2f2683-9090-4f9b-aba0-72b1157f4e43\" name=\"files[]\" multiple disabled\n",
              "        style=\"border:none\" />\n",
              "     <output id=\"result-5f2f2683-9090-4f9b-aba0-72b1157f4e43\">\n",
              "      Upload widget is only available when the cell has been executed in the\n",
              "      current browser session. Please rerun this cell to enable.\n",
              "      </output>\n",
              "      <script>// Copyright 2017 Google LLC\n",
              "//\n",
              "// Licensed under the Apache License, Version 2.0 (the \"License\");\n",
              "// you may not use this file except in compliance with the License.\n",
              "// You may obtain a copy of the License at\n",
              "//\n",
              "//      http://www.apache.org/licenses/LICENSE-2.0\n",
              "//\n",
              "// Unless required by applicable law or agreed to in writing, software\n",
              "// distributed under the License is distributed on an \"AS IS\" BASIS,\n",
              "// WITHOUT WARRANTIES OR CONDITIONS OF ANY KIND, either express or implied.\n",
              "// See the License for the specific language governing permissions and\n",
              "// limitations under the License.\n",
              "\n",
              "/**\n",
              " * @fileoverview Helpers for google.colab Python module.\n",
              " */\n",
              "(function(scope) {\n",
              "function span(text, styleAttributes = {}) {\n",
              "  const element = document.createElement('span');\n",
              "  element.textContent = text;\n",
              "  for (const key of Object.keys(styleAttributes)) {\n",
              "    element.style[key] = styleAttributes[key];\n",
              "  }\n",
              "  return element;\n",
              "}\n",
              "\n",
              "// Max number of bytes which will be uploaded at a time.\n",
              "const MAX_PAYLOAD_SIZE = 100 * 1024;\n",
              "\n",
              "function _uploadFiles(inputId, outputId) {\n",
              "  const steps = uploadFilesStep(inputId, outputId);\n",
              "  const outputElement = document.getElementById(outputId);\n",
              "  // Cache steps on the outputElement to make it available for the next call\n",
              "  // to uploadFilesContinue from Python.\n",
              "  outputElement.steps = steps;\n",
              "\n",
              "  return _uploadFilesContinue(outputId);\n",
              "}\n",
              "\n",
              "// This is roughly an async generator (not supported in the browser yet),\n",
              "// where there are multiple asynchronous steps and the Python side is going\n",
              "// to poll for completion of each step.\n",
              "// This uses a Promise to block the python side on completion of each step,\n",
              "// then passes the result of the previous step as the input to the next step.\n",
              "function _uploadFilesContinue(outputId) {\n",
              "  const outputElement = document.getElementById(outputId);\n",
              "  const steps = outputElement.steps;\n",
              "\n",
              "  const next = steps.next(outputElement.lastPromiseValue);\n",
              "  return Promise.resolve(next.value.promise).then((value) => {\n",
              "    // Cache the last promise value to make it available to the next\n",
              "    // step of the generator.\n",
              "    outputElement.lastPromiseValue = value;\n",
              "    return next.value.response;\n",
              "  });\n",
              "}\n",
              "\n",
              "/**\n",
              " * Generator function which is called between each async step of the upload\n",
              " * process.\n",
              " * @param {string} inputId Element ID of the input file picker element.\n",
              " * @param {string} outputId Element ID of the output display.\n",
              " * @return {!Iterable<!Object>} Iterable of next steps.\n",
              " */\n",
              "function* uploadFilesStep(inputId, outputId) {\n",
              "  const inputElement = document.getElementById(inputId);\n",
              "  inputElement.disabled = false;\n",
              "\n",
              "  const outputElement = document.getElementById(outputId);\n",
              "  outputElement.innerHTML = '';\n",
              "\n",
              "  const pickedPromise = new Promise((resolve) => {\n",
              "    inputElement.addEventListener('change', (e) => {\n",
              "      resolve(e.target.files);\n",
              "    });\n",
              "  });\n",
              "\n",
              "  const cancel = document.createElement('button');\n",
              "  inputElement.parentElement.appendChild(cancel);\n",
              "  cancel.textContent = 'Cancel upload';\n",
              "  const cancelPromise = new Promise((resolve) => {\n",
              "    cancel.onclick = () => {\n",
              "      resolve(null);\n",
              "    };\n",
              "  });\n",
              "\n",
              "  // Wait for the user to pick the files.\n",
              "  const files = yield {\n",
              "    promise: Promise.race([pickedPromise, cancelPromise]),\n",
              "    response: {\n",
              "      action: 'starting',\n",
              "    }\n",
              "  };\n",
              "\n",
              "  cancel.remove();\n",
              "\n",
              "  // Disable the input element since further picks are not allowed.\n",
              "  inputElement.disabled = true;\n",
              "\n",
              "  if (!files) {\n",
              "    return {\n",
              "      response: {\n",
              "        action: 'complete',\n",
              "      }\n",
              "    };\n",
              "  }\n",
              "\n",
              "  for (const file of files) {\n",
              "    const li = document.createElement('li');\n",
              "    li.append(span(file.name, {fontWeight: 'bold'}));\n",
              "    li.append(span(\n",
              "        `(${file.type || 'n/a'}) - ${file.size} bytes, ` +\n",
              "        `last modified: ${\n",
              "            file.lastModifiedDate ? file.lastModifiedDate.toLocaleDateString() :\n",
              "                                    'n/a'} - `));\n",
              "    const percent = span('0% done');\n",
              "    li.appendChild(percent);\n",
              "\n",
              "    outputElement.appendChild(li);\n",
              "\n",
              "    const fileDataPromise = new Promise((resolve) => {\n",
              "      const reader = new FileReader();\n",
              "      reader.onload = (e) => {\n",
              "        resolve(e.target.result);\n",
              "      };\n",
              "      reader.readAsArrayBuffer(file);\n",
              "    });\n",
              "    // Wait for the data to be ready.\n",
              "    let fileData = yield {\n",
              "      promise: fileDataPromise,\n",
              "      response: {\n",
              "        action: 'continue',\n",
              "      }\n",
              "    };\n",
              "\n",
              "    // Use a chunked sending to avoid message size limits. See b/62115660.\n",
              "    let position = 0;\n",
              "    do {\n",
              "      const length = Math.min(fileData.byteLength - position, MAX_PAYLOAD_SIZE);\n",
              "      const chunk = new Uint8Array(fileData, position, length);\n",
              "      position += length;\n",
              "\n",
              "      const base64 = btoa(String.fromCharCode.apply(null, chunk));\n",
              "      yield {\n",
              "        response: {\n",
              "          action: 'append',\n",
              "          file: file.name,\n",
              "          data: base64,\n",
              "        },\n",
              "      };\n",
              "\n",
              "      let percentDone = fileData.byteLength === 0 ?\n",
              "          100 :\n",
              "          Math.round((position / fileData.byteLength) * 100);\n",
              "      percent.textContent = `${percentDone}% done`;\n",
              "\n",
              "    } while (position < fileData.byteLength);\n",
              "  }\n",
              "\n",
              "  // All done.\n",
              "  yield {\n",
              "    response: {\n",
              "      action: 'complete',\n",
              "    }\n",
              "  };\n",
              "}\n",
              "\n",
              "scope.google = scope.google || {};\n",
              "scope.google.colab = scope.google.colab || {};\n",
              "scope.google.colab._files = {\n",
              "  _uploadFiles,\n",
              "  _uploadFilesContinue,\n",
              "};\n",
              "})(self);\n",
              "</script> "
            ]
          },
          "metadata": {}
        },
        {
          "output_type": "stream",
          "name": "stdout",
          "text": [
            "Saving test.txt to test (2).txt\n",
            "total 316\n",
            "-rw-r--r-- 1 root root 306535 Mar 14 08:56 '2023_AWS Office  Hour_사전질문지.xlsx'\n",
            "drwxr-xr-x 1 root root   4096 Mar 10 20:51  sample_data\n",
            "-rw-r--r-- 1 root root     16 Mar 14 08:56 'test (1).txt'\n",
            "-rw-r--r-- 1 root root     16 Mar 14 08:57 'test (2).txt'\n",
            "-rw-r--r-- 1 root root     16 Mar 14 08:51  test.txt\n"
          ]
        }
      ]
    },
    {
      "cell_type": "code",
      "metadata": {
        "id": "8m2sm45lAriv",
        "colab": {
          "base_uri": "https://localhost:8080/"
        },
        "outputId": "ef0d4a44-91f3-4b1c-99c5-7f30da6ace16"
      },
      "source": [
        "!ls -al"
      ],
      "execution_count": 9,
      "outputs": [
        {
          "output_type": "stream",
          "name": "stdout",
          "text": [
            "total 328\n",
            "drwxr-xr-x 1 root root   4096 Mar 14 08:57  .\n",
            "drwxr-xr-x 1 root root   4096 Mar 14 08:47  ..\n",
            "-rw-r--r-- 1 root root 306535 Mar 14 08:56 '2023_AWS Office  Hour_사전질문지.xlsx'\n",
            "drwxr-xr-x 4 root root   4096 Mar 10 20:50  .config\n",
            "drwxr-xr-x 1 root root   4096 Mar 10 20:51  sample_data\n",
            "-rw-r--r-- 1 root root     16 Mar 14 08:56 'test (1).txt'\n",
            "-rw-r--r-- 1 root root     16 Mar 14 08:57 'test (2).txt'\n",
            "-rw-r--r-- 1 root root     16 Mar 14 08:51  test.txt\n"
          ]
        }
      ]
    },
    {
      "cell_type": "markdown",
      "metadata": {
        "id": "cfKtU4-x7UnX"
      },
      "source": [
        "## Google Drive 연동\n",
        "\n",
        "* Google Colab은 Google Drive와 `mount`를 통해 쉽게 연동 가능\n",
        "* Google Drive에 소스 코드 저장 뿐만 아니라 파일을 열거나 저장 가능"
      ]
    },
    {
      "cell_type": "code",
      "metadata": {
        "id": "q0ryTyk77UOs",
        "colab": {
          "base_uri": "https://localhost:8080/"
        },
        "outputId": "a2cb8cfe-6982-49e0-b081-923fdceb84d7"
      },
      "source": [
        "from google.colab import drive\n",
        "drive.mount('/content/drive')\n",
        "!ls -al drive"
      ],
      "execution_count": 10,
      "outputs": [
        {
          "output_type": "stream",
          "name": "stdout",
          "text": [
            "Mounted at /content/drive\n",
            "total 20\n",
            "dr-x------ 2 root root 4096 Mar 14 09:00 .file-revisions-by-id\n",
            "drwx------ 5 root root 4096 Mar 14 09:00 MyDrive\n",
            "drwx------ 2 root root 4096 Mar 14 09:00 Othercomputers\n",
            "dr-x------ 2 root root 4096 Mar 14 09:00 .shortcut-targets-by-id\n",
            "drwx------ 5 root root 4096 Mar 14 09:00 .Trash-0\n"
          ]
        }
      ]
    },
    {
      "cell_type": "code",
      "metadata": {
        "id": "KI96G3Fq7wg1",
        "colab": {
          "base_uri": "https://localhost:8080/"
        },
        "outputId": "a40ab0a8-22d4-4993-b52c-660ae627a03c"
      },
      "source": [
        "!apt-get install tree"
      ],
      "execution_count": 12,
      "outputs": [
        {
          "output_type": "stream",
          "name": "stdout",
          "text": [
            "Reading package lists... Done\n",
            "Building dependency tree       \n",
            "Reading state information... Done\n",
            "The following NEW packages will be installed:\n",
            "  tree\n",
            "0 upgraded, 1 newly installed, 0 to remove and 22 not upgraded.\n",
            "Need to get 43.0 kB of archives.\n",
            "After this operation, 115 kB of additional disk space will be used.\n",
            "Get:1 http://archive.ubuntu.com/ubuntu focal/universe amd64 tree amd64 1.8.0-1 [43.0 kB]\n",
            "Fetched 43.0 kB in 0s (174 kB/s)\n",
            "Selecting previously unselected package tree.\n",
            "(Reading database ... 128275 files and directories currently installed.)\n",
            "Preparing to unpack .../tree_1.8.0-1_amd64.deb ...\n",
            "Unpacking tree (1.8.0-1) ...\n",
            "Setting up tree (1.8.0-1) ...\n",
            "Processing triggers for man-db (2.9.1-1) ...\n"
          ]
        }
      ]
    },
    {
      "cell_type": "code",
      "source": [
        "!pwd\n",
        "!tree -L 3"
      ],
      "metadata": {
        "colab": {
          "base_uri": "https://localhost:8080/"
        },
        "id": "MCAk2IhOXUJX",
        "outputId": "c4c7d943-cd15-4a0d-bd46-64910910e50c"
      },
      "execution_count": 16,
      "outputs": [
        {
          "output_type": "stream",
          "name": "stdout",
          "text": [
            "/content\n",
            "\u001b[01;34m.\u001b[00m\n",
            "├── 2023_AWS Office  Hour_사전질문지.xlsx\n",
            "├── \u001b[01;34mdrive\u001b[00m\n",
            "│   ├── \u001b[01;34mMyDrive\u001b[00m\n",
            "│   │   ├── \u001b[01;35m20190312_012648.jpg\u001b[00m\n",
            "│   │   ├── \u001b[01;34mAnyfile Notepad Files\u001b[00m\n",
            "│   │   ├── \u001b[01;34mColab Notebooks\u001b[00m\n",
            "│   │   ├── \u001b[01;34m_grtlinux\u001b[00m\n",
            "│   │   ├── Hello_01.ipynb\n",
            "│   │   ├── Hello_02.ipynb\n",
            "│   │   ├── README_1000_20190904.txt\n",
            "│   │   ├── README-alcohol.190925.txt\n",
            "│   │   ├── README_mid_20190909.txt\n",
            "│   │   ├── README_pattern_20190914.txt\n",
            "│   │   ├── README-temp.191015.txt\n",
            "│   │   ├── 스크린샷 2019-02-03 오후 4.13.34.png\n",
            "│   │   └── 오즈모 모바일3_퀵사용_캡처_20190919.PNG\n",
            "│   └── \u001b[01;34mOthercomputers\u001b[00m\n",
            "│       ├── \u001b[01;34m내 PC\u001b[00m\n",
            "│       ├── \u001b[01;34m내 PC (1)\u001b[00m\n",
            "│       └── \u001b[01;34m내 노트북\u001b[00m\n",
            "├── \u001b[01;34msample_data\u001b[00m\n",
            "│   ├── \u001b[01;32manscombe.json\u001b[00m\n",
            "│   ├── california_housing_test.csv\n",
            "│   ├── california_housing_train.csv\n",
            "│   ├── mnist_test.csv\n",
            "│   ├── mnist_train_small.csv\n",
            "│   └── \u001b[01;32mREADME.md\u001b[00m\n",
            "├── test (1).txt\n",
            "├── test (2).txt\n",
            "└── test.txt\n",
            "\n",
            "10 directories, 20 files\n"
          ]
        }
      ]
    },
    {
      "cell_type": "code",
      "source": [
        "!rm \"test \"*.txt *.xlsx\n",
        "!tree -L 3"
      ],
      "metadata": {
        "colab": {
          "base_uri": "https://localhost:8080/"
        },
        "id": "ZMAp8yrBX96I",
        "outputId": "065172f6-0e72-44f5-d826-34d3f2bbb821"
      },
      "execution_count": 17,
      "outputs": [
        {
          "output_type": "stream",
          "name": "stdout",
          "text": [
            "\u001b[01;34m.\u001b[00m\n",
            "├── \u001b[01;34mdrive\u001b[00m\n",
            "│   ├── \u001b[01;34mMyDrive\u001b[00m\n",
            "│   │   ├── \u001b[01;35m20190312_012648.jpg\u001b[00m\n",
            "│   │   ├── \u001b[01;34mAnyfile Notepad Files\u001b[00m\n",
            "│   │   ├── \u001b[01;34mColab Notebooks\u001b[00m\n",
            "│   │   ├── \u001b[01;34m_grtlinux\u001b[00m\n",
            "│   │   ├── Hello_01.ipynb\n",
            "│   │   ├── Hello_02.ipynb\n",
            "│   │   ├── README_1000_20190904.txt\n",
            "│   │   ├── README-alcohol.190925.txt\n",
            "│   │   ├── README_mid_20190909.txt\n",
            "│   │   ├── README_pattern_20190914.txt\n",
            "│   │   ├── README-temp.191015.txt\n",
            "│   │   ├── 스크린샷 2019-02-03 오후 4.13.34.png\n",
            "│   │   └── 오즈모 모바일3_퀵사용_캡처_20190919.PNG\n",
            "│   └── \u001b[01;34mOthercomputers\u001b[00m\n",
            "│       ├── \u001b[01;34m내 PC\u001b[00m\n",
            "│       ├── \u001b[01;34m내 PC (1)\u001b[00m\n",
            "│       └── \u001b[01;34m내 노트북\u001b[00m\n",
            "├── \u001b[01;34msample_data\u001b[00m\n",
            "│   ├── \u001b[01;32manscombe.json\u001b[00m\n",
            "│   ├── california_housing_test.csv\n",
            "│   ├── california_housing_train.csv\n",
            "│   ├── mnist_test.csv\n",
            "│   ├── mnist_train_small.csv\n",
            "│   └── \u001b[01;32mREADME.md\u001b[00m\n",
            "└── test.txt\n",
            "\n",
            "10 directories, 17 files\n"
          ]
        }
      ]
    },
    {
      "cell_type": "markdown",
      "metadata": {
        "id": "8OoBiBv4UBWm"
      },
      "source": [
        "\n",
        "\n",
        "---\n",
        "\n"
      ]
    },
    {
      "cell_type": "markdown",
      "metadata": {
        "id": "ID57POzYUYyl"
      },
      "source": [
        "# Jupyter Notebook\n",
        "\n",
        "![jupyter_img.png](https://github.com/grtlinux/KieaColab23/blob/main/images/jupyter_img.png?raw=true)"
      ]
    },
    {
      "cell_type": "markdown",
      "metadata": {
        "id": "ZTkr0NKRXEiq"
      },
      "source": [
        "## help()\n",
        "\n",
        "* 파이썬 객체에 대한 요약 정보와 사용법 보기"
      ]
    },
    {
      "cell_type": "code",
      "metadata": {
        "id": "S_aXiV9VW_1u",
        "colab": {
          "base_uri": "https://localhost:8080/"
        },
        "outputId": "53c4285a-135d-4c42-82f6-185bf7c013ca"
      },
      "source": [
        "help(min)\n",
        "help(max)"
      ],
      "execution_count": 19,
      "outputs": [
        {
          "output_type": "stream",
          "name": "stdout",
          "text": [
            "Help on built-in function min in module builtins:\n",
            "\n",
            "min(...)\n",
            "    min(iterable, *[, default=obj, key=func]) -> value\n",
            "    min(arg1, arg2, *args, *[, key=func]) -> value\n",
            "    \n",
            "    With a single iterable argument, return its smallest item. The\n",
            "    default keyword-only argument specifies an object to return if\n",
            "    the provided iterable is empty.\n",
            "    With two or more arguments, return the smallest argument.\n",
            "\n",
            "Help on built-in function max in module builtins:\n",
            "\n",
            "max(...)\n",
            "    max(iterable, *[, default=obj, key=func]) -> value\n",
            "    max(arg1, arg2, *args, *[, key=func]) -> value\n",
            "    \n",
            "    With a single iterable argument, return its biggest item. The\n",
            "    default keyword-only argument specifies an object to return if\n",
            "    the provided iterable is empty.\n",
            "    With two or more arguments, return the largest argument.\n",
            "\n"
          ]
        }
      ]
    },
    {
      "cell_type": "markdown",
      "metadata": {
        "id": "X6F7JOv0Xv2a"
      },
      "source": [
        "## ?로 설명 보기\n",
        "\n",
        "* 객체 요약 정보 및 사용법이 있는 docstring 보기"
      ]
    },
    {
      "cell_type": "code",
      "metadata": {
        "id": "KzrQ0xy0Xk42"
      },
      "source": [
        "max?"
      ],
      "execution_count": 20,
      "outputs": []
    },
    {
      "cell_type": "code",
      "metadata": {
        "id": "qDEczcmvYHmm"
      },
      "source": [
        "li = ['one','two','three']\n",
        "li?"
      ],
      "execution_count": 21,
      "outputs": []
    },
    {
      "cell_type": "code",
      "metadata": {
        "id": "Ep2oX_Ollb_C"
      },
      "source": [
        "li.count?"
      ],
      "execution_count": 22,
      "outputs": []
    },
    {
      "cell_type": "code",
      "metadata": {
        "id": "lpM-ijxnltUG"
      },
      "source": [
        "def power(b, n):\n",
        "  '''b의 n승을 반환'''\n",
        "  return pow(b, n)"
      ],
      "execution_count": 23,
      "outputs": []
    },
    {
      "cell_type": "code",
      "metadata": {
        "id": "l7p0YMtDmEFS"
      },
      "source": [
        "power?"
      ],
      "execution_count": 24,
      "outputs": []
    },
    {
      "cell_type": "code",
      "metadata": {
        "id": "9BS1dLnimUOb"
      },
      "source": [
        "power??"
      ],
      "execution_count": 25,
      "outputs": []
    },
    {
      "cell_type": "markdown",
      "metadata": {
        "id": "gtRsneYd-slf"
      },
      "source": [
        "## 탭(tab) 자동완성\n",
        "\n",
        "* 객체와 모듈, 인터페이스의 내용을 자동 완성"
      ]
    },
    {
      "cell_type": "code",
      "metadata": {
        "id": "PK4fJOk6-we7"
      },
      "source": [
        "li = ['one','two','three']\n",
        "li.append('four')\n",
        "li.count\n",
        "li.clear()"
      ],
      "execution_count": 28,
      "outputs": []
    },
    {
      "cell_type": "markdown",
      "metadata": {
        "id": "xP7n3Oqp_N0K"
      },
      "source": [
        "##와일드카드(wildcard) 매칭\n",
        "\n",
        "* 단어의 중간이나 마지막 글자로 매칭하여 객체나 속성 찾기"
      ]
    },
    {
      "cell_type": "code",
      "metadata": {
        "id": "W7ceOXpi_JNk"
      },
      "source": [
        "*Error?"
      ],
      "execution_count": 29,
      "outputs": []
    },
    {
      "cell_type": "code",
      "metadata": {
        "id": "IMjy2bc0_TwQ"
      },
      "source": [
        "str.*index*?"
      ],
      "execution_count": 30,
      "outputs": []
    },
    {
      "cell_type": "markdown",
      "metadata": {
        "id": "yCRnab5c_mBh"
      },
      "source": [
        "## 매직 명령어(magic commands)\n",
        "\n",
        "* Jupyter Notebook 환경에서 파이썬 파일 저장 및 실행"
      ]
    },
    {
      "cell_type": "code",
      "metadata": {
        "id": "t6ufEi9q_qS4",
        "colab": {
          "base_uri": "https://localhost:8080/"
        },
        "outputId": "eaa19dd0-8a61-4973-9f32-c67fa2ef423a"
      },
      "source": [
        "%%writefile test.py\n",
        "print('Hello, world !!!')"
      ],
      "execution_count": 31,
      "outputs": [
        {
          "output_type": "stream",
          "name": "stdout",
          "text": [
            "Writing test.py\n"
          ]
        }
      ]
    },
    {
      "cell_type": "code",
      "metadata": {
        "id": "GVRuezjk_wLD",
        "colab": {
          "base_uri": "https://localhost:8080/"
        },
        "outputId": "398adf05-495e-4da3-d422-27f36d1d8801"
      },
      "source": [
        "%run test.py"
      ],
      "execution_count": 32,
      "outputs": [
        {
          "output_type": "stream",
          "name": "stdout",
          "text": [
            "Hello, world !!!\n"
          ]
        }
      ]
    },
    {
      "cell_type": "markdown",
      "metadata": {
        "id": "MzKD0owDXs7r"
      },
      "source": [
        "* 코드 실행 시간 측정"
      ]
    },
    {
      "cell_type": "code",
      "metadata": {
        "id": "YfO_C9-2bQRn"
      },
      "source": [
        "%%timeit?"
      ],
      "execution_count": 33,
      "outputs": []
    },
    {
      "cell_type": "code",
      "metadata": {
        "id": "Yj-cfvBVWuf-",
        "colab": {
          "base_uri": "https://localhost:8080/"
        },
        "outputId": "3f2176ff-78a2-46da-bd4c-dba98ae5025f"
      },
      "source": [
        "%timeit li = [n ** n for n in range(1000)]"
      ],
      "execution_count": 34,
      "outputs": [
        {
          "output_type": "stream",
          "name": "stdout",
          "text": [
            "7.49 ms ± 101 µs per loop (mean ± std. dev. of 7 runs, 100 loops each)\n"
          ]
        }
      ]
    },
    {
      "cell_type": "code",
      "metadata": {
        "id": "RbEaBBjaYHDM",
        "colab": {
          "base_uri": "https://localhost:8080/"
        },
        "outputId": "d5c643b3-2ba7-4902-84a5-09e5d5db36cd"
      },
      "source": [
        "%%timeit\n",
        "li = []\n",
        "for n in range(1000):\n",
        "  li.append(n ** n)"
      ],
      "execution_count": 38,
      "outputs": [
        {
          "output_type": "stream",
          "name": "stdout",
          "text": [
            "8.74 ms ± 1.83 ms per loop (mean ± std. dev. of 7 runs, 100 loops each)\n"
          ]
        }
      ]
    },
    {
      "cell_type": "markdown",
      "metadata": {
        "id": "SROwYmP9rEQd"
      },
      "source": [
        "## 입력과 출력 이력\n",
        "\n",
        "* In과 Out 객체를 통해 이전 명령어와 명령어의 출력 결과 보기"
      ]
    },
    {
      "cell_type": "code",
      "metadata": {
        "id": "SjxoRZdbpttu",
        "colab": {
          "base_uri": "https://localhost:8080/"
        },
        "outputId": "0081105f-8751-4e41-9551-353ed86d0871"
      },
      "source": [
        "In"
      ],
      "execution_count": 39,
      "outputs": [
        {
          "output_type": "execute_result",
          "data": {
            "text/plain": [
              "['',\n",
              " \"get_ipython().system('cat /proc/cpuinfo')\",\n",
              " \"get_ipython().system('nvidia-smi')\",\n",
              " \"get_ipython().run_cell_magic('writefile', 'test.txt', 'Hello, world!!!\\\\n')\",\n",
              " \"get_ipython().system('pwd')\\nget_ipython().system('cat test.txt')\",\n",
              " \"from google.colab import files\\nfiles.download('test.txt')\",\n",
              " 'upload = files.upload()\\nupload',\n",
              " 'upload = files.upload()\\nupload',\n",
              " \"upload = files.upload()\\nupload\\nget_ipython().system('ls -l')\",\n",
              " \"get_ipython().system('ls -al')\",\n",
              " \"from google.colab import drive\\ndrive.mount('/content/drive')\\nget_ipython().system('ls -al drive')\",\n",
              " \"get_ipython().system('tree')\",\n",
              " \"get_ipython().system('apt-get install tree')\",\n",
              " \"get_ipython().system('pwd')\",\n",
              " \"get_ipython().system('pwd')\\nget_ipython().system('tree')\",\n",
              " \"get_ipython().system('pwd')\\nget_ipython().system('tree -L 2')\",\n",
              " \"get_ipython().system('pwd')\\nget_ipython().system('tree -L 3')\",\n",
              " 'get_ipython().system(\\'rm \"test \"*.txt *.xlsx\\')\\nget_ipython().system(\\'tree -L 3\\')',\n",
              " 'help(min)',\n",
              " 'help(min)\\nhelp(max)',\n",
              " \"get_ipython().run_line_magic('pinfo', 'max')\",\n",
              " \"li = ['one','two','three']\\nget_ipython().run_line_magic('pinfo', 'li')\",\n",
              " \"get_ipython().run_line_magic('pinfo', 'li.count')\",\n",
              " \"def power(b, n):\\n  '''b의 n승을 반환'''\\n  return pow(b, n)\",\n",
              " \"get_ipython().run_line_magic('pinfo', 'power')\",\n",
              " \"get_ipython().run_line_magic('pinfo2', 'power')\",\n",
              " \"li = ['one','two','three']\\nli.append()\\nli.count()\\nli.clear()\",\n",
              " \"li = ['one','two','three']\\nli.append('four')\\nli.count()\\nli.clear()\",\n",
              " \"li = ['one','two','three']\\nli.append('four')\\nli.count\\nli.clear()\",\n",
              " \"get_ipython().run_line_magic('psearch', '*Error')\",\n",
              " \"get_ipython().run_line_magic('psearch', 'str.*index*')\",\n",
              " 'get_ipython().run_cell_magic(\\'writefile\\', \\'test.py\\', \"print(\\'Hello, world !!!\\')\\\\n\")',\n",
              " \"get_ipython().run_line_magic('run', 'test.py')\",\n",
              " \"get_ipython().run_line_magic('pinfo', '%%timeit')\",\n",
              " \"get_ipython().run_line_magic('timeit', 'li = [n ** n for n in range(1000)]')\",\n",
              " \"get_ipython().run_cell_magic('timeit', '', 'li = []\\\\nfor n in range(1000)\\\\n')\",\n",
              " \"get_ipython().run_cell_magic('timeit', '', 'li = []\\\\nfor n in range(1000):\\\\n  li.appene(n ** n)\\\\n')\",\n",
              " \"get_ipython().run_cell_magic('timeit', '', 'li = []\\\\nfor n in range(1000):\\\\n  li.appene(n ** n)\\\\n')\",\n",
              " \"get_ipython().run_cell_magic('timeit', '', 'li = []\\\\nfor n in range(1000):\\\\n  li.append(n ** n)\\\\n')\",\n",
              " 'In']"
            ]
          },
          "metadata": {},
          "execution_count": 39
        }
      ]
    },
    {
      "cell_type": "code",
      "metadata": {
        "id": "Bbcl7xxSr33V",
        "colab": {
          "base_uri": "https://localhost:8080/",
          "height": 36
        },
        "outputId": "0caa9686-730f-41c8-b239-c382f6e04bb9"
      },
      "source": [
        "In[0]"
      ],
      "execution_count": 78,
      "outputs": [
        {
          "output_type": "execute_result",
          "data": {
            "text/plain": [
              "''"
            ],
            "application/vnd.google.colaboratory.intrinsic+json": {
              "type": "string"
            }
          },
          "metadata": {},
          "execution_count": 78
        }
      ]
    },
    {
      "cell_type": "code",
      "metadata": {
        "id": "SMtBrmvHsNlP"
      },
      "source": [
        "Out[2]"
      ],
      "execution_count": null,
      "outputs": []
    },
    {
      "cell_type": "code",
      "metadata": {
        "id": "QbjVTJS4sTAG"
      },
      "source": [],
      "execution_count": null,
      "outputs": []
    },
    {
      "cell_type": "markdown",
      "metadata": {
        "id": "H4YgwfJAtNUH"
      },
      "source": [
        "* `_`를 이용해 이전 출력값 출력하기"
      ]
    },
    {
      "cell_type": "code",
      "metadata": {
        "id": "cT2w3ITLtKQF",
        "colab": {
          "base_uri": "https://localhost:8080/"
        },
        "outputId": "9ecabbc6-1147-48e6-8f32-a79bfbccd8e5"
      },
      "source": [
        "print(_)"
      ],
      "execution_count": 49,
      "outputs": [
        {
          "output_type": "stream",
          "name": "stdout",
          "text": [
            "['', \"get_ipython().system('cat /proc/cpuinfo')\", \"get_ipython().system('nvidia-smi')\", \"get_ipython().run_cell_magic('writefile', 'test.txt', 'Hello, world!!!\\\\n')\", \"get_ipython().system('pwd')\\nget_ipython().system('cat test.txt')\", \"from google.colab import files\\nfiles.download('test.txt')\", 'upload = files.upload()\\nupload', 'upload = files.upload()\\nupload', \"upload = files.upload()\\nupload\\nget_ipython().system('ls -l')\", \"get_ipython().system('ls -al')\", \"from google.colab import drive\\ndrive.mount('/content/drive')\\nget_ipython().system('ls -al drive')\", \"get_ipython().system('tree')\", \"get_ipython().system('apt-get install tree')\", \"get_ipython().system('pwd')\", \"get_ipython().system('pwd')\\nget_ipython().system('tree')\", \"get_ipython().system('pwd')\\nget_ipython().system('tree -L 2')\", \"get_ipython().system('pwd')\\nget_ipython().system('tree -L 3')\", 'get_ipython().system(\\'rm \"test \"*.txt *.xlsx\\')\\nget_ipython().system(\\'tree -L 3\\')', 'help(min)', 'help(min)\\nhelp(max)', \"get_ipython().run_line_magic('pinfo', 'max')\", \"li = ['one','two','three']\\nget_ipython().run_line_magic('pinfo', 'li')\", \"get_ipython().run_line_magic('pinfo', 'li.count')\", \"def power(b, n):\\n  '''b의 n승을 반환'''\\n  return pow(b, n)\", \"get_ipython().run_line_magic('pinfo', 'power')\", \"get_ipython().run_line_magic('pinfo2', 'power')\", \"li = ['one','two','three']\\nli.append()\\nli.count()\\nli.clear()\", \"li = ['one','two','three']\\nli.append('four')\\nli.count()\\nli.clear()\", \"li = ['one','two','three']\\nli.append('four')\\nli.count\\nli.clear()\", \"get_ipython().run_line_magic('psearch', '*Error')\", \"get_ipython().run_line_magic('psearch', 'str.*index*')\", 'get_ipython().run_cell_magic(\\'writefile\\', \\'test.py\\', \"print(\\'Hello, world !!!\\')\\\\n\")', \"get_ipython().run_line_magic('run', 'test.py')\", \"get_ipython().run_line_magic('pinfo', '%%timeit')\", \"get_ipython().run_line_magic('timeit', 'li = [n ** n for n in range(1000)]')\", \"get_ipython().run_cell_magic('timeit', '', 'li = []\\\\nfor n in range(1000)\\\\n')\", \"get_ipython().run_cell_magic('timeit', '', 'li = []\\\\nfor n in range(1000):\\\\n  li.appene(n ** n)\\\\n')\", \"get_ipython().run_cell_magic('timeit', '', 'li = []\\\\nfor n in range(1000):\\\\n  li.appene(n ** n)\\\\n')\", \"get_ipython().run_cell_magic('timeit', '', 'li = []\\\\nfor n in range(1000):\\\\n  li.append(n ** n)\\\\n')\", 'In', 'IN[34]', 'IN[28]', 'IN[20]', 'IN[17]', 'Out', 'Out.head()', 'Out[1]', 'Out[2]', 'Out[3]', 'print(_)']\n"
          ]
        }
      ]
    },
    {
      "cell_type": "code",
      "metadata": {
        "id": "QFxB16JptUNd",
        "colab": {
          "base_uri": "https://localhost:8080/"
        },
        "outputId": "f637ce1e-8a5e-48b6-ef2e-c9995919dcad"
      },
      "source": [
        "print(__)"
      ],
      "execution_count": 50,
      "outputs": [
        {
          "output_type": "stream",
          "name": "stdout",
          "text": [
            "{'test.txt': b'Hello, world!!!\\n'}\n"
          ]
        }
      ]
    },
    {
      "cell_type": "code",
      "metadata": {
        "id": "7Jfpuu6ZtWjP",
        "colab": {
          "base_uri": "https://localhost:8080/"
        },
        "outputId": "399908e8-190c-4602-d541-3bd6c5d634a4"
      },
      "source": [
        "print(___)"
      ],
      "execution_count": 90,
      "outputs": [
        {
          "output_type": "stream",
          "name": "stdout",
          "text": [
            "['', \"get_ipython().system('cat /proc/cpuinfo')\", \"get_ipython().system('nvidia-smi')\", \"get_ipython().run_cell_magic('writefile', 'test.txt', 'Hello, world!!!\\\\n')\", \"get_ipython().system('pwd')\\nget_ipython().system('cat test.txt')\", \"from google.colab import files\\nfiles.download('test.txt')\", 'upload = files.upload()\\nupload', 'upload = files.upload()\\nupload', \"upload = files.upload()\\nupload\\nget_ipython().system('ls -l')\", \"get_ipython().system('ls -al')\", \"from google.colab import drive\\ndrive.mount('/content/drive')\\nget_ipython().system('ls -al drive')\", \"get_ipython().system('tree')\", \"get_ipython().system('apt-get install tree')\", \"get_ipython().system('pwd')\", \"get_ipython().system('pwd')\\nget_ipython().system('tree')\", \"get_ipython().system('pwd')\\nget_ipython().system('tree -L 2')\", \"get_ipython().system('pwd')\\nget_ipython().system('tree -L 3')\", 'get_ipython().system(\\'rm \"test \"*.txt *.xlsx\\')\\nget_ipython().system(\\'tree -L 3\\')', 'help(min)', 'help(min)\\nhelp(max)', \"get_ipython().run_line_magic('pinfo', 'max')\", \"li = ['one','two','three']\\nget_ipython().run_line_magic('pinfo', 'li')\", \"get_ipython().run_line_magic('pinfo', 'li.count')\", \"def power(b, n):\\n  '''b의 n승을 반환'''\\n  return pow(b, n)\", \"get_ipython().run_line_magic('pinfo', 'power')\", \"get_ipython().run_line_magic('pinfo2', 'power')\", \"li = ['one','two','three']\\nli.append()\\nli.count()\\nli.clear()\", \"li = ['one','two','three']\\nli.append('four')\\nli.count()\\nli.clear()\", \"li = ['one','two','three']\\nli.append('four')\\nli.count\\nli.clear()\", \"get_ipython().run_line_magic('psearch', '*Error')\", \"get_ipython().run_line_magic('psearch', 'str.*index*')\", 'get_ipython().run_cell_magic(\\'writefile\\', \\'test.py\\', \"print(\\'Hello, world !!!\\')\\\\n\")', \"get_ipython().run_line_magic('run', 'test.py')\", \"get_ipython().run_line_magic('pinfo', '%%timeit')\", \"get_ipython().run_line_magic('timeit', 'li = [n ** n for n in range(1000)]')\", \"get_ipython().run_cell_magic('timeit', '', 'li = []\\\\nfor n in range(1000)\\\\n')\", \"get_ipython().run_cell_magic('timeit', '', 'li = []\\\\nfor n in range(1000):\\\\n  li.appene(n ** n)\\\\n')\", \"get_ipython().run_cell_magic('timeit', '', 'li = []\\\\nfor n in range(1000):\\\\n  li.appene(n ** n)\\\\n')\", \"get_ipython().run_cell_magic('timeit', '', 'li = []\\\\nfor n in range(1000):\\\\n  li.append(n ** n)\\\\n')\", 'In', 'IN[34]', 'IN[28]', 'IN[20]', 'IN[17]', 'Out', 'Out.head()', 'Out[1]', 'Out[2]', 'Out[3]', 'print(_)', 'print(__)', 'print(___)', '_30', '_4', '_3', 'print(_3)', '_3', \"get_ipython().run_line_magic('history', '')\", \"get_ipython().run_line_magic('history', '-n 1-10')\", \"get_ipython().run_line_magic('rerun', '')\", \"get_ipython().system('ls -al')\", \"get_ipython().system('pwd')\", \"get_ipython().system('cd sample_data/')\\nget_ipython().system('ls -al')\", \"get_ipython().system('cd sample_data')\\nget_ipython().system('ls -al')\", \"get_ipython().system('cd sample_data/')\\nget_ipython().system('ls -al')\", \"get_ipython().run_line_magic('cd', 'sample_data/')\\nget_ipython().system('ls -al')\", \"get_ipython().run_line_magic('cd', 'sample_data/')\\nget_ipython().system('ls -al')\\nget_ipython().run_line_magic('cd', '..')\\nget_ipython().system('ls -al')\", 'get_ipython().system(\\'echo \"Shell\"\\')', \"get_ipython().system('env')\", \"get_ipython().system('env')\", \"get_ipython().system('mkdir imsi')\\nget_ipython().system('ls -al')\", \"get_ipython().system('mkdir imsi')\\nget_ipython().system('ls -al')\\nget_ipython().system('rm -rf imsi')\", \"get_ipython().system('mkdir imsi')\\nget_ipython().system('ls -al')\\nget_ipython().system('rm -rf imsi')\\nget_ipython().system('ls -al')\", \"get_ipython().system('apt-get install tree')\\nget_ipython().system('tree -L 3')\", \"get_ipython().system('cat test.txt')\", \"get_ipython().system('cp test.txt tt.txt')\\nget_ipython().system('ls -al')\", \"get_ipython().system('rm -f tt.txt')\", \"get_ipython().system('ls -al')\", 'In[0]', 'Out[0}', 'Out[0]', 'Out[1]', 'Out', '_', 'Out[10]', 'print(____)', 'print(____)', 'print(_____)', 'print(______)', 'print(_______)', 'print(___)']\n"
          ]
        }
      ]
    },
    {
      "cell_type": "code",
      "metadata": {
        "id": "4j71-ohhti9u",
        "colab": {
          "base_uri": "https://localhost:8080/",
          "height": 36
        },
        "outputId": "60ae2bb3-959c-436d-ab51-f4b29618f366"
      },
      "source": [
        "_"
      ],
      "execution_count": 83,
      "outputs": [
        {
          "output_type": "execute_result",
          "data": {
            "text/plain": [
              "''"
            ],
            "application/vnd.google.colaboratory.intrinsic+json": {
              "type": "string"
            }
          },
          "metadata": {},
          "execution_count": 83
        }
      ]
    },
    {
      "cell_type": "markdown",
      "metadata": {
        "id": "Nf8CVZiTt4r-"
      },
      "source": [
        "* `%history`를 이용한 입력 이력 살펴보기"
      ]
    },
    {
      "cell_type": "code",
      "metadata": {
        "id": "GiVkb35YuQTL",
        "colab": {
          "base_uri": "https://localhost:8080/"
        },
        "outputId": "88a32bde-5e3d-4af5-eb4c-6abb4249a3f3"
      },
      "source": [
        "%history -n 1-10"
      ],
      "execution_count": 58,
      "outputs": [
        {
          "output_type": "stream",
          "name": "stdout",
          "text": [
            "   1: !cat /proc/cpuinfo\n",
            "   2: !nvidia-smi\n",
            "   3:\n",
            "%%writefile test.txt\n",
            "Hello, world!!!\n",
            "   4:\n",
            "!pwd\n",
            "!cat test.txt\n",
            "   5:\n",
            "from google.colab import files\n",
            "files.download('test.txt')\n",
            "   6:\n",
            "upload = files.upload()\n",
            "upload\n",
            "   7:\n",
            "upload = files.upload()\n",
            "upload\n",
            "   8:\n",
            "upload = files.upload()\n",
            "upload\n",
            "!ls -l\n",
            "   9: !ls -al\n",
            "  10:\n",
            "from google.colab import drive\n",
            "drive.mount('/content/drive')\n",
            "!ls -al drive\n"
          ]
        }
      ]
    },
    {
      "cell_type": "markdown",
      "metadata": {
        "id": "1oOEYT9Zu8Yo"
      },
      "source": [
        "* `%rerun`을 이용해 이전 입력 이력 다시 실행"
      ]
    },
    {
      "cell_type": "code",
      "metadata": {
        "id": "ZWLXBxdtvCOV",
        "colab": {
          "base_uri": "https://localhost:8080/"
        },
        "outputId": "c14316d3-6da0-4119-e5d3-08a4c6bdd09f"
      },
      "source": [
        "%rerun"
      ],
      "execution_count": 59,
      "outputs": [
        {
          "output_type": "stream",
          "name": "stdout",
          "text": [
            "=== Executing: ===\n",
            "%history -n 1-10\n",
            "=== Output: ===\n",
            "   1: !cat /proc/cpuinfo\n",
            "   2: !nvidia-smi\n",
            "   3:\n",
            "%%writefile test.txt\n",
            "Hello, world!!!\n",
            "   4:\n",
            "!pwd\n",
            "!cat test.txt\n",
            "   5:\n",
            "from google.colab import files\n",
            "files.download('test.txt')\n",
            "   6:\n",
            "upload = files.upload()\n",
            "upload\n",
            "   7:\n",
            "upload = files.upload()\n",
            "upload\n",
            "   8:\n",
            "upload = files.upload()\n",
            "upload\n",
            "!ls -l\n",
            "   9: !ls -al\n",
            "  10:\n",
            "from google.colab import drive\n",
            "drive.mount('/content/drive')\n",
            "!ls -al drive\n"
          ]
        }
      ]
    },
    {
      "cell_type": "markdown",
      "metadata": {
        "id": "LzKq5kwvds25"
      },
      "source": [
        "## 셸 명령어\n",
        "\n",
        "* 텍스트 기반의 셸 명령어 처리\n",
        "* `!` 문자를 명령어 앞에 붙여서 셸 명령어 사용 가능"
      ]
    },
    {
      "cell_type": "markdown",
      "metadata": {
        "id": "oFThpCCPhm45"
      },
      "source": [
        "* `ls`: 디렉토리 리스트 보기"
      ]
    },
    {
      "cell_type": "code",
      "metadata": {
        "id": "7iAgViCpdvh9",
        "colab": {
          "base_uri": "https://localhost:8080/"
        },
        "outputId": "59e7a5e9-e697-43ef-8619-47a97fc28955"
      },
      "source": [
        "!ls -al"
      ],
      "execution_count": 60,
      "outputs": [
        {
          "output_type": "stream",
          "name": "stdout",
          "text": [
            "total 28\n",
            "drwxr-xr-x 1 root root 4096 Mar 14 09:36 .\n",
            "drwxr-xr-x 1 root root 4096 Mar 14 08:47 ..\n",
            "drwxr-xr-x 4 root root 4096 Mar 10 20:50 .config\n",
            "drwx------ 6 root root 4096 Mar 14 09:00 drive\n",
            "drwxr-xr-x 1 root root 4096 Mar 10 20:51 sample_data\n",
            "-rw-r--r-- 1 root root   26 Mar 14 09:36 test.py\n",
            "-rw-r--r-- 1 root root   16 Mar 14 08:51 test.txt\n"
          ]
        }
      ]
    },
    {
      "cell_type": "markdown",
      "metadata": {
        "id": "RuKN3MuvhvTB"
      },
      "source": [
        "* `pwd`: 현재 경로 보기"
      ]
    },
    {
      "cell_type": "code",
      "metadata": {
        "id": "aOwJCr3GekKJ",
        "colab": {
          "base_uri": "https://localhost:8080/"
        },
        "outputId": "a1068fc1-81fc-4bef-aa18-305e30f88cfb"
      },
      "source": [
        "!pwd"
      ],
      "execution_count": 61,
      "outputs": [
        {
          "output_type": "stream",
          "name": "stdout",
          "text": [
            "/content\n"
          ]
        }
      ]
    },
    {
      "cell_type": "markdown",
      "metadata": {
        "id": "1dCCjWyphyOP"
      },
      "source": [
        "* `cd`: 디렉토리 변경\n",
        "* IPython에서는 임시 셸에서 실행"
      ]
    },
    {
      "cell_type": "code",
      "metadata": {
        "id": "KXtuuGvXfAU-",
        "colab": {
          "base_uri": "https://localhost:8080/"
        },
        "outputId": "f8cfa490-22f0-414e-9126-6be627a37de4"
      },
      "source": [
        "!cd sample_data/\n",
        "!ls -al"
      ],
      "execution_count": 64,
      "outputs": [
        {
          "output_type": "stream",
          "name": "stdout",
          "text": [
            "total 28\n",
            "drwxr-xr-x 1 root root 4096 Mar 14 09:36 .\n",
            "drwxr-xr-x 1 root root 4096 Mar 14 08:47 ..\n",
            "drwxr-xr-x 4 root root 4096 Mar 10 20:50 .config\n",
            "drwx------ 6 root root 4096 Mar 14 09:00 drive\n",
            "drwxr-xr-x 1 root root 4096 Mar 10 20:51 sample_data\n",
            "-rw-r--r-- 1 root root   26 Mar 14 09:36 test.py\n",
            "-rw-r--r-- 1 root root   16 Mar 14 08:51 test.txt\n"
          ]
        }
      ]
    },
    {
      "cell_type": "markdown",
      "metadata": {
        "id": "yjrAafNlh65Q"
      },
      "source": [
        "* `%cd`: 지속적인 디렉토리 변경"
      ]
    },
    {
      "cell_type": "code",
      "metadata": {
        "id": "Q1MBKD4YfpyB",
        "colab": {
          "base_uri": "https://localhost:8080/"
        },
        "outputId": "b6c05f9c-523f-4290-9916-6754cd69a00d"
      },
      "source": [
        "%cd sample_data/\n",
        "!ls -al\n",
        "%cd ..\n",
        "!ls -al"
      ],
      "execution_count": 66,
      "outputs": [
        {
          "output_type": "stream",
          "name": "stdout",
          "text": [
            "[Errno 2] No such file or directory: 'sample_data/'\n",
            "/content/sample_data\n",
            "total 55512\n",
            "drwxr-xr-x 1 root root     4096 Mar 10 20:51 .\n",
            "drwxr-xr-x 1 root root     4096 Mar 14 09:36 ..\n",
            "-rwxr-xr-x 1 root root     1697 Jan  1  2000 anscombe.json\n",
            "-rw-r--r-- 1 root root   301141 Mar 10 20:51 california_housing_test.csv\n",
            "-rw-r--r-- 1 root root  1706430 Mar 10 20:51 california_housing_train.csv\n",
            "-rw-r--r-- 1 root root 18289443 Mar 10 20:51 mnist_test.csv\n",
            "-rw-r--r-- 1 root root 36523880 Mar 10 20:51 mnist_train_small.csv\n",
            "-rwxr-xr-x 1 root root      930 Jan  1  2000 README.md\n",
            "/content\n",
            "total 28\n",
            "drwxr-xr-x 1 root root 4096 Mar 14 09:36 .\n",
            "drwxr-xr-x 1 root root 4096 Mar 14 08:47 ..\n",
            "drwxr-xr-x 4 root root 4096 Mar 10 20:50 .config\n",
            "drwx------ 6 root root 4096 Mar 14 09:00 drive\n",
            "drwxr-xr-x 1 root root 4096 Mar 10 20:51 sample_data\n",
            "-rw-r--r-- 1 root root   26 Mar 14 09:36 test.py\n",
            "-rw-r--r-- 1 root root   16 Mar 14 08:51 test.txt\n"
          ]
        }
      ]
    },
    {
      "cell_type": "markdown",
      "metadata": {
        "id": "b8xPHOjsiQCL"
      },
      "source": [
        "* `echo`: 화면 출력"
      ]
    },
    {
      "cell_type": "code",
      "metadata": {
        "id": "-9FYy8rzeljZ",
        "colab": {
          "base_uri": "https://localhost:8080/"
        },
        "outputId": "06eca0f2-dd59-4c22-d4ee-4f41b79f0e6c"
      },
      "source": [
        "!echo \"Shell\""
      ],
      "execution_count": 67,
      "outputs": [
        {
          "output_type": "stream",
          "name": "stdout",
          "text": [
            "Shell\n"
          ]
        }
      ]
    },
    {
      "cell_type": "markdown",
      "source": [
        "* env : 모든 환경변수 출력"
      ],
      "metadata": {
        "id": "44A7nfKpjuYe"
      }
    },
    {
      "cell_type": "code",
      "source": [
        "!env"
      ],
      "metadata": {
        "colab": {
          "base_uri": "https://localhost:8080/"
        },
        "id": "U4bwgz1QjtyZ",
        "outputId": "4e0f973d-2362-4956-afc0-450419b7ade1"
      },
      "execution_count": 69,
      "outputs": [
        {
          "output_type": "stream",
          "name": "stdout",
          "text": [
            "SHELL=/bin/bash\n",
            "NV_LIBCUBLAS_VERSION=11.11.3.6-1\n",
            "NVIDIA_VISIBLE_DEVICES=all\n",
            "COLAB_JUPYTER_TRANSPORT=ipc\n",
            "__EGL_VENDOR_LIBRARY_DIRS=/usr/lib64-nvidia:/usr/share/glvnd/egl_vendor.d/\n",
            "NV_NVML_DEV_VERSION=11.8.86-1\n",
            "NV_CUDNN_PACKAGE_NAME=libcudnn8\n",
            "CGROUP_MEMORY_EVENTS=/sys/fs/cgroup/memory.events /var/colab/cgroup/jupyter-children/memory.events\n",
            "NV_LIBNCCL_DEV_PACKAGE=libnccl-dev=2.16.2-1+cuda11.8\n",
            "NV_LIBNCCL_DEV_PACKAGE_VERSION=2.16.2-1\n",
            "VM_GCE_METADATA_HOST=169.254.169.253\n",
            "HOSTNAME=1cb781819357\n",
            "TBE_RUNTIME_ADDR=172.28.0.1:8011\n",
            "GCE_METADATA_TIMEOUT=3\n",
            "NVIDIA_REQUIRE_CUDA=cuda>=11.8 brand=tesla,driver>=450,driver<451 brand=tesla,driver>=470,driver<471 brand=unknown,driver>=470,driver<471 brand=nvidia,driver>=470,driver<471 brand=nvidiartx,driver>=470,driver<471 brand=geforce,driver>=470,driver<471 brand=geforcertx,driver>=470,driver<471 brand=quadro,driver>=470,driver<471 brand=quadrortx,driver>=470,driver<471 brand=titan,driver>=470,driver<471 brand=titanrtx,driver>=470,driver<471 brand=tesla,driver>=510,driver<511 brand=unknown,driver>=510,driver<511 brand=nvidia,driver>=510,driver<511 brand=nvidiartx,driver>=510,driver<511 brand=geforce,driver>=510,driver<511 brand=geforcertx,driver>=510,driver<511 brand=quadro,driver>=510,driver<511 brand=quadrortx,driver>=510,driver<511 brand=titan,driver>=510,driver<511 brand=titanrtx,driver>=510,driver<511 brand=tesla,driver>=515,driver<516 brand=unknown,driver>=515,driver<516 brand=nvidia,driver>=515,driver<516 brand=nvidiartx,driver>=515,driver<516 brand=geforce,driver>=515,driver<516 brand=geforcertx,driver>=515,driver<516 brand=quadro,driver>=515,driver<516 brand=quadrortx,driver>=515,driver<516 brand=titan,driver>=515,driver<516 brand=titanrtx,driver>=515,driver<516\n",
            "NV_LIBCUBLAS_DEV_PACKAGE=libcublas-dev-11-8=11.11.3.6-1\n",
            "NV_NVTX_VERSION=11.8.86-1\n",
            "COLAB_JUPYTER_IP=172.28.0.12\n",
            "NV_CUDA_CUDART_DEV_VERSION=11.8.89-1\n",
            "NV_LIBCUSPARSE_VERSION=11.7.5.86-1\n",
            "NV_LIBNPP_VERSION=11.8.0.86-1\n",
            "NCCL_VERSION=2.16.2-1\n",
            "KMP_LISTEN_PORT=6000\n",
            "TF_FORCE_GPU_ALLOW_GROWTH=true\n",
            "ENV=/root/.bashrc\n",
            "PWD=/content\n",
            "TBE_EPHEM_CREDS_ADDR=172.28.0.1:8009\n",
            "TBE_CREDS_ADDR=172.28.0.1:8008\n",
            "NV_CUDNN_PACKAGE=libcudnn8=8.7.0.84-1+cuda11.8\n",
            "NVIDIA_DRIVER_CAPABILITIES=compute,utility\n",
            "LAST_FORCED_REBUILD=20230303\n",
            "NV_NVPROF_DEV_PACKAGE=cuda-nvprof-11-8=11.8.87-1\n",
            "NV_LIBNPP_PACKAGE=libnpp-11-8=11.8.0.86-1\n",
            "NV_LIBNCCL_DEV_PACKAGE_NAME=libnccl-dev\n",
            "TCLLIBPATH=/usr/share/tcltk/tcllib1.20\n",
            "NV_LIBCUBLAS_DEV_VERSION=11.11.3.6-1\n",
            "COLAB_KERNEL_MANAGER_PROXY_HOST=172.28.0.12\n",
            "NVIDIA_PRODUCT_NAME=CUDA\n",
            "NV_LIBCUBLAS_DEV_PACKAGE_NAME=libcublas-dev-11-8\n",
            "USE_AUTH_EPHEM=1\n",
            "NV_CUDA_CUDART_VERSION=11.8.89-1\n",
            "HOME=/root\n",
            "LANG=en_US.UTF-8\n",
            "CUDA_VERSION=11.8.0\n",
            "CLOUDSDK_CONFIG=/content/.config\n",
            "NV_LIBCUBLAS_PACKAGE=libcublas-11-8=11.11.3.6-1\n",
            "COLAB_RELEASE_TAG=release-colab-20230310-060213-RC01\n",
            "PYDEVD_USE_FRAME_EVAL=NO\n",
            "KMP_TARGET_PORT=9000\n",
            "CLICOLOR=1\n",
            "KMP_EXTRA_ARGS=--listen_host=172.28.0.12 --target_host=172.28.0.12 --tunnel_background_save_url=https://colab.research.google.com/tun/m/cc48301118ce562b961b3c22d803539adc1e0c19/gpu-t4-s-30uafznzrhur0 --tunnel_background_save_delay=10s --tunnel_periodic_background_save_frequency=30m0s --enable_output_coalescing=true --output_coalescing_required=true\n",
            "NV_LIBNPP_DEV_PACKAGE=libnpp-dev-11-8=11.8.0.86-1\n",
            "NV_LIBCUBLAS_PACKAGE_NAME=libcublas-11-8\n",
            "COLAB_KERNEL_MANAGER_PROXY_PORT=6000\n",
            "CLOUDSDK_PYTHON=python3\n",
            "NV_LIBNPP_DEV_VERSION=11.8.0.86-1\n",
            "ENABLE_DIRECTORYPREFETCHER=1\n",
            "NO_GCE_CHECK=False\n",
            "JPY_PARENT_PID=92\n",
            "PYTHONPATH=/env/python\n",
            "TERM=xterm-color\n",
            "NV_LIBCUSPARSE_DEV_VERSION=11.7.5.86-1\n",
            "GIT_PAGER=cat\n",
            "LIBRARY_PATH=/usr/local/cuda/lib64/stubs\n",
            "NV_CUDNN_VERSION=8.7.0.84\n",
            "SHLVL=0\n",
            "PAGER=cat\n",
            "NV_CUDA_LIB_VERSION=11.8.0-1\n",
            "NVARCH=x86_64\n",
            "NV_CUDNN_PACKAGE_DEV=libcudnn8-dev=8.7.0.84-1+cuda11.8\n",
            "NV_CUDA_COMPAT_PACKAGE=cuda-compat-11-8\n",
            "MPLBACKEND=module://ipykernel.pylab.backend_inline\n",
            "NV_LIBNCCL_PACKAGE=libnccl2=2.16.2-1+cuda11.8\n",
            "LD_LIBRARY_PATH=/usr/lib64-nvidia\n",
            "COLAB_GPU=1\n",
            "GCS_READ_CACHE_BLOCK_SIZE_MB=16\n",
            "NV_NVPROF_VERSION=11.8.87-1\n",
            "PATH=/opt/bin:/usr/local/nvidia/bin:/usr/local/cuda/bin:/usr/local/sbin:/usr/local/bin:/usr/sbin:/usr/bin:/sbin:/bin:/tools/node/bin:/tools/google-cloud-sdk/bin\n",
            "NV_LIBNCCL_PACKAGE_NAME=libnccl2\n",
            "COLAB_DEBUG_ADAPTER_MUX_PATH=/usr/local/bin/dap_multiplexer\n",
            "NV_LIBNCCL_PACKAGE_VERSION=2.16.2-1\n",
            "PYTHONWARNINGS=ignore:::pip._internal.cli.base_command\n",
            "DEBIAN_FRONTEND=noninteractive\n",
            "COLAB_BACKEND_VERSION=next\n",
            "OLDPWD=/\n",
            "_=/usr/bin/env\n"
          ]
        }
      ]
    },
    {
      "cell_type": "markdown",
      "metadata": {
        "id": "3oRMLDh_mswk"
      },
      "source": [
        "* `mkdir`: 디렉토리 생성"
      ]
    },
    {
      "cell_type": "code",
      "metadata": {
        "id": "Eofit8K-fcjG",
        "colab": {
          "base_uri": "https://localhost:8080/"
        },
        "outputId": "1881ca5a-ae86-4793-86a6-340e356ad441"
      },
      "source": [
        "!mkdir imsi\n",
        "!ls -al\n",
        "!rm -rf imsi\n",
        "!ls -al"
      ],
      "execution_count": 72,
      "outputs": [
        {
          "output_type": "stream",
          "name": "stdout",
          "text": [
            "total 32\n",
            "drwxr-xr-x 1 root root 4096 Mar 14 10:00 .\n",
            "drwxr-xr-x 1 root root 4096 Mar 14 08:47 ..\n",
            "drwxr-xr-x 4 root root 4096 Mar 10 20:50 .config\n",
            "drwx------ 6 root root 4096 Mar 14 09:00 drive\n",
            "drwxr-xr-x 2 root root 4096 Mar 14 10:00 imsi\n",
            "drwxr-xr-x 1 root root 4096 Mar 10 20:51 sample_data\n",
            "-rw-r--r-- 1 root root   26 Mar 14 09:36 test.py\n",
            "-rw-r--r-- 1 root root   16 Mar 14 08:51 test.txt\n",
            "total 28\n",
            "drwxr-xr-x 1 root root 4096 Mar 14 10:00 .\n",
            "drwxr-xr-x 1 root root 4096 Mar 14 08:47 ..\n",
            "drwxr-xr-x 4 root root 4096 Mar 10 20:50 .config\n",
            "drwx------ 6 root root 4096 Mar 14 09:00 drive\n",
            "drwxr-xr-x 1 root root 4096 Mar 10 20:51 sample_data\n",
            "-rw-r--r-- 1 root root   26 Mar 14 09:36 test.py\n",
            "-rw-r--r-- 1 root root   16 Mar 14 08:51 test.txt\n"
          ]
        }
      ]
    },
    {
      "cell_type": "markdown",
      "source": [
        "* tree : folder를 tree로"
      ],
      "metadata": {
        "id": "_j34xa5BkLVi"
      }
    },
    {
      "cell_type": "code",
      "metadata": {
        "id": "9djMxCwYiXrc",
        "colab": {
          "base_uri": "https://localhost:8080/"
        },
        "outputId": "b1a16932-8cd6-47fb-96ce-b1ee66f02cb7"
      },
      "source": [
        "!apt-get install tree\n",
        "!tree -L 3"
      ],
      "execution_count": 73,
      "outputs": [
        {
          "output_type": "stream",
          "name": "stdout",
          "text": [
            "Reading package lists... Done\n",
            "Building dependency tree       \n",
            "Reading state information... Done\n",
            "tree is already the newest version (1.8.0-1).\n",
            "0 upgraded, 0 newly installed, 0 to remove and 22 not upgraded.\n",
            "\u001b[01;34m.\u001b[00m\n",
            "├── \u001b[01;34mdrive\u001b[00m\n",
            "│   ├── \u001b[01;34mMyDrive\u001b[00m\n",
            "│   │   ├── \u001b[01;35m20190312_012648.jpg\u001b[00m\n",
            "│   │   ├── \u001b[01;34mAnyfile Notepad Files\u001b[00m\n",
            "│   │   ├── \u001b[01;34mColab Notebooks\u001b[00m\n",
            "│   │   ├── \u001b[01;34m_grtlinux\u001b[00m\n",
            "│   │   ├── Hello_01.ipynb\n",
            "│   │   ├── Hello_02.ipynb\n",
            "│   │   ├── README_1000_20190904.txt\n",
            "│   │   ├── README-alcohol.190925.txt\n",
            "│   │   ├── README_mid_20190909.txt\n",
            "│   │   ├── README_pattern_20190914.txt\n",
            "│   │   ├── README-temp.191015.txt\n",
            "│   │   ├── 스크린샷 2019-02-03 오후 4.13.34.png\n",
            "│   │   └── 오즈모 모바일3_퀵사용_캡처_20190919.PNG\n",
            "│   └── \u001b[01;34mOthercomputers\u001b[00m\n",
            "│       ├── \u001b[01;34m내 PC\u001b[00m\n",
            "│       ├── \u001b[01;34m내 PC (1)\u001b[00m\n",
            "│       └── \u001b[01;34m내 노트북\u001b[00m\n",
            "├── \u001b[01;34msample_data\u001b[00m\n",
            "│   ├── \u001b[01;32manscombe.json\u001b[00m\n",
            "│   ├── california_housing_test.csv\n",
            "│   ├── california_housing_train.csv\n",
            "│   ├── mnist_test.csv\n",
            "│   ├── mnist_train_small.csv\n",
            "│   └── \u001b[01;32mREADME.md\u001b[00m\n",
            "├── test.py\n",
            "└── test.txt\n",
            "\n",
            "10 directories, 18 files\n"
          ]
        }
      ]
    },
    {
      "cell_type": "markdown",
      "metadata": {
        "id": "Ji6oMNFQmysC"
      },
      "source": [
        "* `cat`: 파일 보기"
      ]
    },
    {
      "cell_type": "code",
      "metadata": {
        "id": "GICda8P6mg1r",
        "colab": {
          "base_uri": "https://localhost:8080/"
        },
        "outputId": "fceed5a2-aadd-4e09-bfcf-f71d4c9072c0"
      },
      "source": [
        "!cat test.txt"
      ],
      "execution_count": 74,
      "outputs": [
        {
          "output_type": "stream",
          "name": "stdout",
          "text": [
            "Hello, world!!!\n"
          ]
        }
      ]
    },
    {
      "cell_type": "markdown",
      "metadata": {
        "id": "3Ns4pYQJm1nR"
      },
      "source": [
        "* `cp`: 디렉토리/파일 복사"
      ]
    },
    {
      "cell_type": "code",
      "metadata": {
        "id": "-XIDsmsum7Sb",
        "colab": {
          "base_uri": "https://localhost:8080/"
        },
        "outputId": "4c11727a-fc5a-414f-88d0-9a8a4d685f9c"
      },
      "source": [
        "!cp test.txt tt.txt\n",
        "!ls -al"
      ],
      "execution_count": 75,
      "outputs": [
        {
          "output_type": "stream",
          "name": "stdout",
          "text": [
            "total 32\n",
            "drwxr-xr-x 1 root root 4096 Mar 14 10:04 .\n",
            "drwxr-xr-x 1 root root 4096 Mar 14 08:47 ..\n",
            "drwxr-xr-x 4 root root 4096 Mar 10 20:50 .config\n",
            "drwx------ 6 root root 4096 Mar 14 09:00 drive\n",
            "drwxr-xr-x 1 root root 4096 Mar 10 20:51 sample_data\n",
            "-rw-r--r-- 1 root root   26 Mar 14 09:36 test.py\n",
            "-rw-r--r-- 1 root root   16 Mar 14 08:51 test.txt\n",
            "-rw-r--r-- 1 root root   16 Mar 14 10:04 tt.txt\n"
          ]
        }
      ]
    },
    {
      "cell_type": "markdown",
      "metadata": {
        "id": "ZR53WLOfnGH7"
      },
      "source": [
        "* `rm`: 디렉토리/파일 삭제"
      ]
    },
    {
      "cell_type": "code",
      "metadata": {
        "id": "WI1dpUV6nJyd"
      },
      "source": [
        "!rm -f tt.txt"
      ],
      "execution_count": 76,
      "outputs": []
    },
    {
      "cell_type": "code",
      "metadata": {
        "id": "78Fr9nEhnMsg",
        "colab": {
          "base_uri": "https://localhost:8080/"
        },
        "outputId": "c82c8a3e-d6be-406f-d1dc-1f4ac4443fd7"
      },
      "source": [
        "!ls -al"
      ],
      "execution_count": 77,
      "outputs": [
        {
          "output_type": "stream",
          "name": "stdout",
          "text": [
            "total 28\n",
            "drwxr-xr-x 1 root root 4096 Mar 14 10:04 .\n",
            "drwxr-xr-x 1 root root 4096 Mar 14 08:47 ..\n",
            "drwxr-xr-x 4 root root 4096 Mar 10 20:50 .config\n",
            "drwx------ 6 root root 4096 Mar 14 09:00 drive\n",
            "drwxr-xr-x 1 root root 4096 Mar 10 20:51 sample_data\n",
            "-rw-r--r-- 1 root root   26 Mar 14 09:36 test.py\n",
            "-rw-r--r-- 1 root root   16 Mar 14 08:51 test.txt\n"
          ]
        }
      ]
    },
    {
      "cell_type": "markdown",
      "metadata": {
        "id": "OrcSIf_T8gii"
      },
      "source": [
        "\n",
        "\n",
        "---\n",
        "\n"
      ]
    },
    {
      "cell_type": "markdown",
      "metadata": {
        "id": "7hDXZYpnA_DO"
      },
      "source": [
        "# 마크다운(Markdown)\n",
        "\n",
        "* 문법이 간단하고, 사용이 쉬움\n"
      ]
    },
    {
      "cell_type": "markdown",
      "metadata": {
        "id": "c0Sjw59GC_Kn"
      },
      "source": [
        "\n",
        "## 제목(Heading) 표시\n",
        "```\n",
        "# Heading 1\n",
        "## Heading 2\n",
        "### Heading 3\n",
        "#### Heading 4\n",
        "##### Heading 5\n",
        "###### Heading 6\n",
        "```"
      ]
    },
    {
      "cell_type": "markdown",
      "metadata": {
        "id": "WXfs_Cu1Co-H"
      },
      "source": []
    },
    {
      "cell_type": "markdown",
      "metadata": {
        "id": "oTWz1WgDBtqM"
      },
      "source": [
        "## 목록(List) 구성\n",
        "\n",
        "```\n",
        "1. one\n",
        "2. two\n",
        "3. three\n",
        "* d-1\n",
        "  + d-2\n",
        "    - d-3\n",
        "```"
      ]
    },
    {
      "cell_type": "markdown",
      "metadata": {
        "id": "fSJ0j0Y8CsKW"
      },
      "source": []
    },
    {
      "cell_type": "markdown",
      "metadata": {
        "id": "TsaBsQUsCTE0"
      },
      "source": [
        "## 폰트 스타일(Font Style)\n",
        "\n",
        "```\n",
        "**bold**\n",
        "__bold__\n",
        "*italic*\n",
        "_italic_\n",
        "~~strike~~\n",
        "<u>underbar</u>\n",
        "```"
      ]
    },
    {
      "cell_type": "markdown",
      "metadata": {
        "id": "Fu4Lk62RCivG"
      },
      "source": []
    },
    {
      "cell_type": "markdown",
      "metadata": {
        "id": "P8PLWLSODwrS"
      },
      "source": [
        "## 인용구\n",
        "\n",
        "```\n",
        "> 인용 1\n",
        ">> 인용 2\n",
        ">>> 인용 3\n",
        "```"
      ]
    },
    {
      "cell_type": "markdown",
      "metadata": {
        "id": "gchOf72GD5lt"
      },
      "source": []
    },
    {
      "cell_type": "markdown",
      "metadata": {
        "id": "Jw5EeYO9D8AI"
      },
      "source": [
        "## 링크\n",
        "```\n",
        "[Google](https://www.google.com\n",
        "```\n"
      ]
    },
    {
      "cell_type": "markdown",
      "metadata": {
        "id": "2NVoA14BEMqB"
      },
      "source": []
    },
    {
      "cell_type": "markdown",
      "metadata": {
        "id": "XclscvygEVcp"
      },
      "source": [
        "## 이미지\n",
        "```\n",
        "![이미짐명](https://www.google.com/images/branding/googlelogo/1x/googlelogo_color_272x92dp.png)\n",
        "```"
      ]
    },
    {
      "cell_type": "markdown",
      "metadata": {
        "id": "puOkShcgEnuq"
      },
      "source": [
        "![이미짐명](https://www.google.com/images/branding/googlelogo/1x/googlelogo_color_272x92dp.png)"
      ]
    },
    {
      "cell_type": "markdown",
      "metadata": {
        "id": "mVy5Qmd4Erlp"
      },
      "source": [
        "## 수평선\n",
        "\n",
        "```\n",
        "---\n",
        "```\n",
        "\n"
      ]
    },
    {
      "cell_type": "markdown",
      "metadata": {
        "id": "VhNkI-8VEviE"
      },
      "source": []
    },
    {
      "cell_type": "markdown",
      "metadata": {
        "id": "hBVgu-TnEyFt"
      },
      "source": [
        "## 표\n",
        "```\n",
        "| Color1 | Center2 | Left3  |\n",
        "|:---|---:|:---:|\n",
        "| Block1 | Msg2 | Dallor3 |\n",
        "```\n",
        "\n"
      ]
    },
    {
      "cell_type": "markdown",
      "metadata": {
        "id": "5X87z4qYFFF-"
      },
      "source": [
        "| Color1 | Center2 | Left3  |\n",
        "|:---|---:|:---:|\n",
        "| Block1 | Msg2 | Dallor3 |"
      ]
    },
    {
      "cell_type": "markdown",
      "metadata": {
        "id": "hqpFpco_FMfT"
      },
      "source": [
        "## 코드\n",
        "`inline code`\n",
        "\n",
        "```python\n",
        "def power(b, n):\n",
        "  '''b의 n승'''\n",
        "  return pow(b, n)\n",
        "```\n",
        "\n",
        "\n",
        "\n"
      ]
    },
    {
      "cell_type": "markdown",
      "metadata": {
        "id": "32V1r2KeG1He"
      },
      "source": []
    }
  ]
}