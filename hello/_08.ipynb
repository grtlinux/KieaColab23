{
  "nbformat": 4,
  "nbformat_minor": 0,
  "metadata": {
    "colab": {
      "provenance": [],
      "toc_visible": true,
      "include_colab_link": true
    },
    "kernelspec": {
      "name": "python3",
      "display_name": "Python 3"
    }
  },
  "cells": [
    {
      "cell_type": "markdown",
      "metadata": {
        "id": "view-in-github",
        "colab_type": "text"
      },
      "source": [
        "<a href=\"https://colab.research.google.com/github/grtlinux/KieaColab23/blob/main/hello/_08.ipynb\" target=\"_parent\"><img src=\"https://colab.research.google.com/assets/colab-badge.svg\" alt=\"Open In Colab\"/></a>"
      ]
    },
    {
      "cell_type": "markdown",
      "source": [
        "* [YouTube: 파이썬 쉽게 배우기 - 08 객체와 클래스](https://youtu.be/h-OwxPqjMpc?list=PL7ZVZgsnLwEEdhCYInwxRpj1Rc4EGmCUc)"
      ],
      "metadata": {
        "id": "uiOWUVinGWTp"
      }
    },
    {
      "cell_type": "markdown",
      "metadata": {
        "id": "bg5ZXMV2sn1M"
      },
      "source": [
        "# 객체와 클래스"
      ]
    },
    {
      "cell_type": "markdown",
      "metadata": {
        "id": "Lj_iZPKnCRP0"
      },
      "source": [
        "\n",
        "\n",
        "---\n",
        "\n"
      ]
    },
    {
      "cell_type": "markdown",
      "metadata": {
        "id": "zXbENjlMCrkU"
      },
      "source": [
        "## 객체(Object)\n",
        "\n"
      ]
    },
    {
      "cell_type": "markdown",
      "metadata": {
        "id": "41GeF0a5KMPU"
      },
      "source": [
        "### 객체 지향 프로그래밍(Object Oriented Programming)\n",
        "\n"
      ]
    },
    {
      "cell_type": "markdown",
      "metadata": {
        "id": "qQc_0nwV1YyE"
      },
      "source": [
        "## 클래스(Class)\n",
        "\n"
      ]
    },
    {
      "cell_type": "markdown",
      "metadata": {
        "id": "u91KX7n6K1Qx"
      },
      "source": [
        "### Book 클래스 정의\n",
        "\n",
        "* 클래스 이름: Book\n",
        "* 속성\n",
        "  + 저자: author\n",
        "  + 책 이름: name\n",
        "  + 출판사: publisher\n",
        "  + 발행일: date\n",
        "\n"
      ]
    },
    {
      "cell_type": "code",
      "metadata": {
        "id": "VIauKM25w6Aw"
      },
      "source": [
        "class Book(object):\n",
        "  author = ''\n",
        "  title = ''\n",
        "  publisher = ''\n",
        "  date = ''\n",
        "  "
      ],
      "execution_count": 1,
      "outputs": []
    },
    {
      "cell_type": "code",
      "metadata": {
        "id": "oboUm_0ZmkwC",
        "outputId": "e778b23b-87e3-4cf7-8cb7-2a139e778231",
        "colab": {
          "base_uri": "https://localhost:8080/"
        }
      },
      "source": [
        "book = Book()\n",
        "book.author = 'Suan'\n",
        "print(book.author)\n",
        "book.title = 'Python Programming'\n",
        "print(book.title)"
      ],
      "execution_count": 2,
      "outputs": [
        {
          "output_type": "stream",
          "name": "stdout",
          "text": [
            "Suan\n",
            "Python Programming\n"
          ]
        }
      ]
    },
    {
      "cell_type": "markdown",
      "metadata": {
        "id": "b0ybpBx4B-NI"
      },
      "source": [
        "### Book 클래스 메소드 정의\n",
        "\n",
        "* 메소드\n",
        "  + 책 정보 출력: `print_info(self)`\n",
        "  + `self`가 있어야만 실제로 인스턴스가 사용할 수 있는 메소드로 선언\n",
        "  + `print_info(self)`에서 `self`는 실제적으로 `book` 인스턴스를 의미\n",
        "  + 메소드 안에서 속성 값을 사용하지 않을 경우에는 `self` 생략 가능"
      ]
    },
    {
      "cell_type": "code",
      "metadata": {
        "id": "bvq4rgKACKGh"
      },
      "source": [
        "class Book(object):\n",
        "  author = ''\n",
        "  title = ''\n",
        "  publisher = ''\n",
        "  date = ''\n",
        "  \n",
        "  def print_info(self):\n",
        "    print('Author: ', self.author)\n",
        "    print('Title: ', self.title)\n",
        "    "
      ],
      "execution_count": 4,
      "outputs": []
    },
    {
      "cell_type": "code",
      "metadata": {
        "id": "QLYRU__lmoQx",
        "outputId": "239dd26d-e459-4bf2-d8d7-1b41a3e23ddc",
        "colab": {
          "base_uri": "https://localhost:8080/"
        }
      },
      "source": [
        "book = Book()\n",
        "book.author = 'Suan'\n",
        "book.title = 'Python Programming'\n",
        "book.print_info()"
      ],
      "execution_count": 5,
      "outputs": [
        {
          "output_type": "stream",
          "name": "stdout",
          "text": [
            "Author:  Suan\n",
            "Title:  Python Programming\n"
          ]
        }
      ]
    },
    {
      "cell_type": "markdown",
      "metadata": {
        "id": "8x-oWtbBxCpE"
      },
      "source": [
        "## 인스턴스 속성(Instance Attribute)\n",
        "\n",
        "* 인스턴스 속성은 객체로부터 인스턴스가 생성된 후에 인스턴스에서 활용하는 속성\n",
        "\n",
        "\n"
      ]
    },
    {
      "cell_type": "markdown",
      "metadata": {
        "id": "GbFr5qM78B41"
      },
      "source": [
        "### Book 인스턴스 속성\n",
        "\n",
        "* `Book` 클래스에서 생성된 인스턴스 `b1`에서 속성을 활용"
      ]
    },
    {
      "cell_type": "code",
      "metadata": {
        "id": "A25zZg3vjmk0"
      },
      "source": [
        "class Book(object):\n",
        "  author = ''\n",
        "  title = ''\n",
        "  publisher = ''\n",
        "  date = ''\n",
        "  \n",
        "  def print_info(self):\n",
        "    print('Author: ', self.author)\n",
        "    print('Title: ', self.title)\n",
        "    print('Publisher: ', self.publisher)\n",
        "    print('Date: ', self.date)\n",
        "    "
      ],
      "execution_count": 7,
      "outputs": []
    },
    {
      "cell_type": "code",
      "metadata": {
        "id": "h-Ja0er-oZpe",
        "outputId": "045bba3c-8cd5-4ac4-88ac-87c5e797d9c4",
        "colab": {
          "base_uri": "https://localhost:8080/"
        }
      },
      "source": [
        "b1 = Book()\n",
        "b1.author = 'Suan'\n",
        "b1.title = 'Python Programming'\n",
        "b1.publisher = 'Colab'\n",
        "b1.date = '2023'\n",
        "b1.print_info()"
      ],
      "execution_count": 8,
      "outputs": [
        {
          "output_type": "stream",
          "name": "stdout",
          "text": [
            "Author:  Suan\n",
            "Title:  Python Programming\n",
            "Publisher:  Colab\n",
            "Date:  2023\n"
          ]
        }
      ]
    },
    {
      "cell_type": "markdown",
      "metadata": {
        "id": "QJg6wYdSHKFh"
      },
      "source": [
        "## 클래스 속성(Class Attribute)\n",
        "\n",
        "* 클래스 속성은 클래스 자체에서 사용되는 속성\n",
        "\n",
        "\n"
      ]
    },
    {
      "cell_type": "markdown",
      "metadata": {
        "id": "vCwxB_lyIv5D"
      },
      "source": [
        "### Book 클래스 속성\n",
        "\n",
        "* Book 클래스 자체에서 사용되는 속성"
      ]
    },
    {
      "cell_type": "code",
      "metadata": {
        "id": "YH4BbYHookXd"
      },
      "source": [
        "class Book(object):\n",
        "  author = ''\n",
        "  title = ''\n",
        "  publisher = ''\n",
        "  date = ''\n",
        "  \n",
        "  def print_info(self):\n",
        "    print('Author: ', self.author)\n",
        "    print('Title: ', self.title)\n",
        "    print('Publisher: ', self.publisher)\n",
        "    print('Date: ', self.date)\n",
        "    "
      ],
      "execution_count": 9,
      "outputs": []
    },
    {
      "cell_type": "code",
      "metadata": {
        "id": "YBLwbRcrogBc",
        "outputId": "27b17d71-5c78-4fd3-b204-608180037458",
        "colab": {
          "base_uri": "https://localhost:8080/"
        }
      },
      "source": [
        "b1 = Book()\n",
        "Book.author = 'Suan'\n",
        "Book.title = 'Python Programming'\n",
        "Book.publisher = 'Colab'\n",
        "Book.date = '2023'\n",
        "b1.print_info()"
      ],
      "execution_count": 10,
      "outputs": [
        {
          "output_type": "stream",
          "name": "stdout",
          "text": [
            "Author:  Suan\n",
            "Title:  Python Programming\n",
            "Publisher:  Colab\n",
            "Date:  2023\n"
          ]
        }
      ]
    },
    {
      "cell_type": "markdown",
      "metadata": {
        "id": "5rb7_sHfotYO"
      },
      "source": [
        "## 인스턴스 속성와 클래스 속성의 활용\n",
        "\n",
        "* 인스턴스 속성과 클래스 속성을 목적에 맞도록 나누어서 활용\n",
        "\n"
      ]
    },
    {
      "cell_type": "markdown",
      "metadata": {
        "id": "jp55uMrGpYsv"
      },
      "source": [
        "### Book 인스턴스 속성과 클래스 속성\n",
        "\n",
        "* 인스턴스 속성\n",
        "  + 저자: author\n",
        "  + 제목: title\n",
        "  + 출판사: publisher\n",
        "  + 발행일: date\n",
        "* 클래스 속성\n",
        "  + 수량: count"
      ]
    },
    {
      "cell_type": "code",
      "metadata": {
        "id": "6FJ2zFwepLrv"
      },
      "source": [
        "class Book(object):\n",
        "  author = ''\n",
        "  title = ''\n",
        "  publisher = ''\n",
        "  date = ''\n",
        "  count = 0\n",
        "  \n",
        "  def print_info(self):\n",
        "    print('Author: ', self.author)\n",
        "    print('Title: ', self.title)\n",
        "    print('Publisher: ', self.publisher)\n",
        "    print('Date: ', self.date)\n",
        "    "
      ],
      "execution_count": 11,
      "outputs": []
    },
    {
      "cell_type": "code",
      "metadata": {
        "id": "QidaPjC2pthz",
        "outputId": "d439702a-dc32-4783-9f10-eb949d523f8c",
        "colab": {
          "base_uri": "https://localhost:8080/"
        }
      },
      "source": [
        "b1 = Book()\n",
        "Book.count += 1\n",
        "b1.author = 'Suan'\n",
        "b1.title = 'Python Programming'\n",
        "b1.publisher = 'Colab'\n",
        "b1.date = '2023'\n",
        "b1.print_info()\n",
        "print('Number of Books:', str(Book.count))"
      ],
      "execution_count": 12,
      "outputs": [
        {
          "output_type": "stream",
          "name": "stdout",
          "text": [
            "Author:  Suan\n",
            "Title:  Python Programming\n",
            "Publisher:  Colab\n",
            "Date:  2023\n",
            "Number of Books: 1\n"
          ]
        }
      ]
    },
    {
      "cell_type": "markdown",
      "metadata": {
        "id": "wfmzBAGRBtWi"
      },
      "source": [
        "## 클래스 매직 메소드(Class Masic Methods)\n",
        "\n",
        "`__init__` : 객체의 초기화를 위해 클래스 생성시 호출되는 동ㅈ작을 정의\n",
        "\n",
        "`__str__` : 클래스의 인스턴스에서 str()이 호출될 때의 동작을 정의\n",
        "\n",
        "`__repr__` : 클래서의 인스턴스에서 repr()이 호출될 때의 동작을 정의\n",
        "\n",
        "`__new__` : 객체의 인스턴스화에서 호출되는 첫번째 메서드\n",
        "\n",
        "`__del__` : 객체가 소멸될 때 호출되는 메서드\n",
        "\n",
        "`__dir__` : 클래스의 인스턴스에서 dir()이 호출될 때의 동작을 정의\n",
        "\n",
        "`__getattr__` : 존재하지 않는 속성에 엑세스하려고 시도 할 때 행위를 정의\n",
        "\n",
        "`__setattr__` : 캡슐화를 위한 방법 정의\n",
        "\n",
        "`__add__` : 두 인스턴스의 더하기가 일어날 때 실행되는 동작 정의\n",
        "\n",
        "\n",
        "`__lt__`, `__le__`, `__gt__`, `__ge__`, `__eq__`, `__ne__` : 인스턴스 간의 비교 메서드"
      ]
    },
    {
      "cell_type": "markdown",
      "metadata": {
        "id": "EZwYD92qt4gh"
      },
      "source": [
        "### `__init__()`\n",
        "\n",
        "* `__init__()` 메소드를 이용하여 클래스의 속성들을 초기화"
      ]
    },
    {
      "cell_type": "code",
      "metadata": {
        "id": "_nq6-s-qBwio"
      },
      "source": [
        "class Book(object):\n",
        "  count = 0\n",
        "\n",
        "  def __init__(self, author, title, publisher, date):\n",
        "    self.author = author\n",
        "    self.title = title\n",
        "    self.publisher = publisher\n",
        "    self.date = date\n",
        "    Book.count += 1\n",
        "\n",
        "  def print_info(self):\n",
        "    print('Author: ', self.author)\n",
        "    print('Title: ', self.title)\n",
        "    print('Publisher: ', self.publisher)\n",
        "    print('Date: ', self.date)\n",
        "\n",
        "  def print_count(self):\n",
        "    print('Number of Books: ', self.count)\n"
      ],
      "execution_count": 17,
      "outputs": []
    },
    {
      "cell_type": "code",
      "metadata": {
        "id": "oQknTy7Mul4a",
        "outputId": "05dd2f5e-e774-4f8c-c078-4e7e41954c21",
        "colab": {
          "base_uri": "https://localhost:8080/"
        }
      },
      "source": [
        "book = Book('Suan','Python Programming','Colab','2023')\n",
        "book.print_info()\n",
        "print('Number of Books: ', Book.count)"
      ],
      "execution_count": 20,
      "outputs": [
        {
          "output_type": "stream",
          "name": "stdout",
          "text": [
            "Author:  Suan\n",
            "Title:  Python Programming\n",
            "Publisher:  Colab\n",
            "Date:  2023\n",
            "Number of Books:  3\n"
          ]
        }
      ]
    },
    {
      "cell_type": "markdown",
      "metadata": {
        "id": "gTRPQI5cu_vU"
      },
      "source": [
        "### `__str__()`\n",
        "\n",
        "* `__str__()` 메소드를 이용하여 인스턴스 출력"
      ]
    },
    {
      "cell_type": "code",
      "metadata": {
        "id": "QYd5z8z2vIq2"
      },
      "source": [
        "class Book(object):\n",
        "  count = 0\n",
        "\n",
        "  def __init__(self, author, title, publisher, date):\n",
        "    self.author = author\n",
        "    self.title = title\n",
        "    self.publisher = publisher\n",
        "    self.date = date\n",
        "    Book.count += 1\n",
        "\n",
        "  def __str__(self):\n",
        "    # print('Author: ', self.author)\n",
        "    # print('Title: ', self.title)\n",
        "    # print('Publisher: ', self.publisher)\n",
        "    # print('Date: ', self.date)\n",
        "    ret = 'Author: ' + self.author + '\\n'\n",
        "    ret += 'Title: ' + self.title + '\\n'\n",
        "    ret += 'Publisher: ' + self.publisher + '\\n'\n",
        "    ret += 'Date: ' + self.date + '\\n'\n",
        "    return ret\n",
        "    \n",
        "  def print_count(self):\n",
        "    print('Number of Books: ', self.count)\n"
      ],
      "execution_count": 21,
      "outputs": []
    },
    {
      "cell_type": "code",
      "metadata": {
        "id": "eECQWpfkvimX",
        "outputId": "e4fd2718-12b7-4922-a06e-478c2178c111",
        "colab": {
          "base_uri": "https://localhost:8080/"
        }
      },
      "source": [
        "book = Book('Suan','Python Programming','Colab','2023')\n",
        "print(book)\n",
        "print('Number of Books: ', Book.count)"
      ],
      "execution_count": 22,
      "outputs": [
        {
          "output_type": "stream",
          "name": "stdout",
          "text": [
            "Author: Suan\n",
            "Title: Python Programming\n",
            "Publisher: Colab\n",
            "Date: 2023\n",
            "\n",
            "Number of Books:  1\n"
          ]
        }
      ]
    },
    {
      "cell_type": "markdown",
      "metadata": {
        "id": "400E5EtqwBq3"
      },
      "source": [
        "### 매직 메소드 예제\n",
        "\n",
        "* Line 클래스"
      ]
    },
    {
      "cell_type": "code",
      "metadata": {
        "id": "XFXm9WwCwcUD"
      },
      "source": [
        "class Line(object):\n",
        "  length = 0\n",
        "\n",
        "  def __init__(self, length):\n",
        "    self.length = length\n",
        "    print(self.length, 'init')\n",
        "\n",
        "  def __del__(self):\n",
        "    print(self.length, 'del')\n",
        "\n",
        "  def __repr__(self):\n",
        "    return str(self.length)\n",
        "\n",
        "  def __add__(self, other):\n",
        "    return self.length + other.length\n",
        "\n",
        "  def __lt__(self, other):\n",
        "    return self.length < other.length\n",
        "\n",
        "  def __le__(self, other):\n",
        "    return self.length <= other.length\n",
        "\n",
        "  def __gt__(self, other):\n",
        "    return self.length > other.length\n",
        "\n",
        "  def __ge__(self, other):\n",
        "    return self.length >= other.length\n",
        "\n",
        "  def __eq__(self, other):\n",
        "    return self.length == other.length\n",
        "\n",
        "  def __ne__(self, other):\n",
        "    return self.length != other.length\n",
        "\n"
      ],
      "execution_count": 23,
      "outputs": []
    },
    {
      "cell_type": "code",
      "metadata": {
        "id": "nFThopZjxPRK",
        "outputId": "a4cf2384-91d1-4f78-b0fc-4ef94096a9d5",
        "colab": {
          "base_uri": "https://localhost:8080/"
        }
      },
      "source": [
        "l1 = Line(10)\n",
        "print(l1)\n",
        "l2 = Line(20)\n",
        "print(l2)\n",
        "\n",
        "print('sum: ', l1 + l2)\n",
        "print('>: ', l1 > l2)\n",
        "print('>=: ', l1 >= l2)\n",
        "print('<: ', l1 < l2)\n",
        "print('<=: ', l1 <= l2)\n",
        "print('==: ', l1 == l2)\n",
        "print('!=: ', l1 != l2)\n",
        "\n",
        "del(l1)\n",
        "del(l2)"
      ],
      "execution_count": 30,
      "outputs": [
        {
          "output_type": "stream",
          "name": "stdout",
          "text": [
            "10 init\n",
            "10\n",
            "20 init\n",
            "20\n",
            "sum:  30\n",
            ">:  False\n",
            ">=:  False\n",
            "<:  True\n",
            "<=:  True\n",
            "==:  False\n",
            "!=:  True\n",
            "10 del\n",
            "20 del\n"
          ]
        }
      ]
    },
    {
      "cell_type": "markdown",
      "metadata": {
        "id": "7rnSGoFCxvKK"
      },
      "source": [
        "### 가시성 예제\n",
        "\n",
        "* `__items` 속성은 Box 객체 외부에서 보이지 않도록 캡슐화와 정보 은닉이 가능\n",
        "* 외부에서 `__items` 속성에 접근하면 속성 오류 발생"
      ]
    },
    {
      "cell_type": "code",
      "metadata": {
        "id": "DTrIbq53x3ZI"
      },
      "source": [
        "class Box(object):\n",
        "  def __init__(self, name):\n",
        "    self.name = name\n",
        "    self.__items = []\n",
        "\n",
        "  def add_item(self, item):\n",
        "    self.__items.append(item)\n",
        "    print('add item')\n",
        "\n",
        "  def get_number_of_items(self):\n",
        "    return len(self.__items)\n",
        "    \n",
        "                        "
      ],
      "execution_count": 31,
      "outputs": []
    },
    {
      "cell_type": "code",
      "metadata": {
        "id": "AU5wHppgyLbh",
        "outputId": "bd837da3-7132-41cb-d457-23ac6c533213",
        "colab": {
          "base_uri": "https://localhost:8080/"
        }
      },
      "source": [
        "box = Box(\"Box\")\n",
        "box.add_item('item1')\n",
        "box.add_item('item2')\n",
        "print(box.name)\n",
        "print(box.get_number_of_items())\n",
        "\n",
        "# print(box.__items) # AttributeError: 'Box' object has no attribute '__items'"
      ],
      "execution_count": 36,
      "outputs": [
        {
          "output_type": "stream",
          "name": "stdout",
          "text": [
            "add item\n",
            "add item\n",
            "Box\n",
            "2\n"
          ]
        }
      ]
    },
    {
      "cell_type": "markdown",
      "metadata": {
        "id": "Gid0aLGUBx9D"
      },
      "source": [
        "## 클래스 상속(Class Inheritance)\n"
      ]
    },
    {
      "cell_type": "code",
      "metadata": {
        "id": "QFIEB2XP1XsW"
      },
      "source": [
        "class SuperClass(object):\n",
        "  pass\n",
        "\n",
        "class SubClass(SuperClass):\n",
        "  pass\n"
      ],
      "execution_count": 37,
      "outputs": []
    },
    {
      "cell_type": "markdown",
      "metadata": {
        "id": "YILvez-k05pV"
      },
      "source": [
        "### 메소드 오버라이딩(Method Overriding)\n",
        "\n",
        "\n"
      ]
    },
    {
      "cell_type": "code",
      "metadata": {
        "id": "np_aylDHzSXs"
      },
      "source": [
        "class SuperClass(object):\n",
        "  def method(self):\n",
        "    pass\n",
        "\n",
        "class SubClass1(SuperClass):\n",
        "  def method(self):\n",
        "    print('Method overriding')\n",
        "\n",
        "class SubClass2(SuperClass):\n",
        "  pass\n",
        "\n"
      ],
      "execution_count": 38,
      "outputs": []
    },
    {
      "cell_type": "code",
      "metadata": {
        "id": "HCPloTpu2tJf",
        "outputId": "fca53d83-ac96-4a15-86ee-9ae0b9a66317",
        "colab": {
          "base_uri": "https://localhost:8080/"
        }
      },
      "source": [
        "sub1 = SubClass1()\n",
        "sub2 = SubClass2()\n",
        "sub1.method()\n",
        "sub2.method()"
      ],
      "execution_count": 39,
      "outputs": [
        {
          "output_type": "stream",
          "name": "stdout",
          "text": [
            "Method overriding\n"
          ]
        }
      ]
    },
    {
      "cell_type": "markdown",
      "metadata": {
        "id": "5JcJXHiUyqmt"
      },
      "source": [
        "### 클래스 상속, 메소드 오버라이딩 예제\n",
        "\n",
        "* Vehicle 클래스를 상속받아 Car 클래스와 Truck 클래스 생성\n",
        "* Car 클래스와 Truck 클래스는 up_speed 메소드를 오버라이딩\n",
        "* Car 클래스는 속도가 240 초과되면 240으로 조정\n",
        "* Truck 클래스는 속도가 180 초과되면 180으로 조정"
      ]
    },
    {
      "cell_type": "code",
      "metadata": {
        "id": "WAQOF_BcB2ww"
      },
      "source": [
        "class Vehicle(object):\n",
        "  speed = 0\n",
        "  \n",
        "  def up_speed(self, value):\n",
        "    self.speed += value\n",
        "\n",
        "  def down_speed(self, value):\n",
        "    self.speed -= value\n",
        "\n",
        "  def print_speed(self):\n",
        "    print('Speed:', str(self.speed))\n",
        "\n",
        "class Car(Vehicle):\n",
        "  pass\n",
        "  def up_speed(self, value):\n",
        "    self.speed += value\n",
        "    if self.speed > 240: self.speed = 240\n",
        "\n",
        "class Truck(Vehicle):\n",
        "  pass\n",
        "  def up_speed(self, value):\n",
        "    self.speed += value\n",
        "    if self.speed > 180: self.speed = 180\n"
      ],
      "execution_count": 42,
      "outputs": []
    },
    {
      "cell_type": "code",
      "metadata": {
        "id": "xjlG-ZDM3tXw",
        "outputId": "d4ca9db7-fb71-4577-8506-5bc13f3961b0",
        "colab": {
          "base_uri": "https://localhost:8080/"
        }
      },
      "source": [
        "car = Car()\n",
        "car.up_speed(300)\n",
        "car.print_speed()\n",
        "\n",
        "truck = Truck()\n",
        "truck.up_speed(300)\n",
        "truck.print_speed()\n"
      ],
      "execution_count": 43,
      "outputs": [
        {
          "output_type": "stream",
          "name": "stdout",
          "text": [
            "Speed: 240\n",
            "Speed: 180\n"
          ]
        }
      ]
    },
    {
      "cell_type": "markdown",
      "source": [
        "---\n",
        "### GPT-4: find some examples using class in python 3.9"
      ],
      "metadata": {
        "id": "XDBxXayipuVI"
      }
    },
    {
      "cell_type": "code",
      "source": [
        "class Person:\n",
        "    def __init__(self, name, age):\n",
        "        self.name = name\n",
        "        self.age = age\n",
        "\n",
        "    def introduce(self):\n",
        "        print(f\"Hello, my name is {self.name} and I am {self.age} years old.\")\n",
        "\n",
        "person1 = Person(\"Alice\", 30)\n",
        "person1.introduce()\n"
      ],
      "metadata": {
        "id": "B8jMpzowpyHE"
      },
      "execution_count": null,
      "outputs": []
    },
    {
      "cell_type": "code",
      "source": [
        "class Animal:\n",
        "    def __init__(self, name):\n",
        "        self.name = name\n",
        "\n",
        "    def make_sound(self):\n",
        "        pass\n",
        "\n",
        "class Dog(Animal):\n",
        "    def make_sound(self):\n",
        "        print(f\"{self.name} says: Woof!\")\n",
        "\n",
        "class Cat(Animal):\n",
        "    def make_sound(self):\n",
        "        print(f\"{self.name} says: Meow!\")\n",
        "\n",
        "dog1 = Dog(\"Buddy\")\n",
        "cat1 = Cat(\"Whiskers\")\n",
        "\n",
        "dog1.make_sound()\n",
        "cat1.make_sound()\n"
      ],
      "metadata": {
        "id": "6VIf521vp06P"
      },
      "execution_count": null,
      "outputs": []
    },
    {
      "cell_type": "code",
      "source": [
        "class Counter:\n",
        "    count = 0\n",
        "\n",
        "    def __init__(self):\n",
        "        Counter.count += 1\n",
        "\n",
        "    @classmethod\n",
        "    def get_count(cls):\n",
        "        return cls.count\n",
        "\n",
        "    @staticmethod\n",
        "    def reset_count():\n",
        "        Counter.count = 0\n",
        "\n",
        "counter1 = Counter()\n",
        "counter2 = Counter()\n",
        "\n",
        "print(Counter.get_count())  # Output: 2\n",
        "Counter.reset_count()\n",
        "print(Counter.get_count())  # Output: 0\n"
      ],
      "metadata": {
        "id": "4Jyl1QFrp1Uz"
      },
      "execution_count": null,
      "outputs": []
    },
    {
      "cell_type": "code",
      "source": [],
      "metadata": {
        "id": "UM3Ad7a1p2CO"
      },
      "execution_count": null,
      "outputs": []
    }
  ]
}