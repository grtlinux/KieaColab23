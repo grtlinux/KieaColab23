{
  "nbformat": 4,
  "nbformat_minor": 0,
  "metadata": {
    "colab": {
      "provenance": [],
      "toc_visible": true,
      "include_colab_link": true
    },
    "kernelspec": {
      "name": "python3",
      "display_name": "Python 3"
    },
    "accelerator": "GPU",
    "gpuClass": "standard"
  },
  "cells": [
    {
      "cell_type": "markdown",
      "metadata": {
        "id": "view-in-github",
        "colab_type": "text"
      },
      "source": [
        "<a href=\"https://colab.research.google.com/github/grtlinux/KieaColab23/blob/main/hello/_09.ipynb\" target=\"_parent\"><img src=\"https://colab.research.google.com/assets/colab-badge.svg\" alt=\"Open In Colab\"/></a>"
      ]
    },
    {
      "cell_type": "markdown",
      "source": [
        "* [YouTube: 파이썬 쉽게 배우기 - 09 모듈과 패키지](https://youtu.be/F1jKFsbjns0?list=PL7ZVZgsnLwEEdhCYInwxRpj1Rc4EGmCUc)"
      ],
      "metadata": {
        "id": "uiOWUVinGWTp"
      }
    },
    {
      "cell_type": "markdown",
      "metadata": {
        "id": "bg5ZXMV2sn1M"
      },
      "source": [
        "# 모듈과 패키지 : kangkieaseok@gmail.com"
      ]
    },
    {
      "cell_type": "markdown",
      "metadata": {
        "id": "Lj_iZPKnCRP0"
      },
      "source": [
        "\n",
        "\n",
        "---\n",
        "\n"
      ]
    },
    {
      "cell_type": "markdown",
      "metadata": {
        "id": "bO6PBIYbZZ_4"
      },
      "source": [
        "### 사용자 정의 모듈\n",
        "\n",
        "* 사용자가 사용할 모듈을 직접 정의\n",
        "* 모듈 이름으로 파일명을 사용\n",
        "* IPython 내장 매직 명령어(magic command) 사용\n",
        "  - `%%writefile Module.py`\n",
        "  - `%load`\n",
        "  - `%run`\n",
        "\n",
        "\n",
        "\n",
        "\n",
        "\n"
      ]
    },
    {
      "cell_type": "code",
      "metadata": {
        "id": "CWZ8iKl6ap99",
        "outputId": "a08f5333-9a54-4132-d3c2-f97880bdd37e",
        "colab": {
          "base_uri": "https://localhost:8080/"
        }
      },
      "source": [
        "%%writefile Module.py\n",
        "def func1():\n",
        "  print('Module.py: func1()')\n",
        "\n",
        "def func2():\n",
        "  print('Module.py: func2()')\n",
        "  \n",
        "def func3():\n",
        "  print('Module.py: func3()')\n",
        "\n",
        "if __name__ == '__main__':\n",
        "  print('src:', __file__)\n"
      ],
      "execution_count": 28,
      "outputs": [
        {
          "output_type": "stream",
          "name": "stdout",
          "text": [
            "Writing Module.py\n"
          ]
        }
      ]
    },
    {
      "cell_type": "code",
      "metadata": {
        "id": "e-nLDjHWb1mX",
        "outputId": "acf3d5bb-dd2d-4aac-c02e-698629c18728",
        "colab": {
          "base_uri": "https://localhost:8080/"
        }
      },
      "source": [
        "!ls -al"
      ],
      "execution_count": 29,
      "outputs": [
        {
          "output_type": "stream",
          "name": "stdout",
          "text": [
            "total 24\n",
            "drwxr-xr-x 1 root root 4096 Mar 15 09:28 .\n",
            "drwxr-xr-x 1 root root 4096 Mar 15 08:54 ..\n",
            "drwxr-xr-x 4 root root 4096 Mar 13 13:32 .config\n",
            "-rw-r--r-- 1 root root  187 Mar 15 09:28 Module.py\n",
            "drwxr-xr-x 6 root root 4096 Mar 15 09:16 package\n",
            "drwxr-xr-x 1 root root 4096 Mar 13 13:33 sample_data\n"
          ]
        }
      ]
    },
    {
      "cell_type": "code",
      "metadata": {
        "id": "bQcfKftxb9uR"
      },
      "source": [
        "%load Module.py"
      ],
      "execution_count": 30,
      "outputs": []
    },
    {
      "cell_type": "code",
      "metadata": {
        "id": "bKlMMA4-cFVA",
        "outputId": "e7804005-414a-4ea6-cddb-ec87faa7eec2",
        "colab": {
          "base_uri": "https://localhost:8080/"
        }
      },
      "source": [
        "%run Module.py"
      ],
      "execution_count": 31,
      "outputs": [
        {
          "output_type": "stream",
          "name": "stdout",
          "text": [
            "src: /content/Module.py\n"
          ]
        }
      ]
    },
    {
      "cell_type": "code",
      "metadata": {
        "id": "qsFSyO7scm1d",
        "outputId": "29a930b0-e50b-4a50-8d28-ddfb66ad57ec",
        "colab": {
          "base_uri": "https://localhost:8080/"
        }
      },
      "source": [
        "import Module\n",
        "Module.func1()\n",
        "Module.func2()\n",
        "Module.func3()\n"
      ],
      "execution_count": 32,
      "outputs": [
        {
          "output_type": "stream",
          "name": "stdout",
          "text": [
            "Module.py: func1()\n",
            "Module.py: func2()\n",
            "Module.py: func3()\n"
          ]
        }
      ]
    },
    {
      "cell_type": "code",
      "metadata": {
        "id": "d2HOXB12DoqK",
        "outputId": "df6fd1c4-ee08-4c71-e13e-1bbd243a3b94",
        "colab": {
          "base_uri": "https://localhost:8080/"
        }
      },
      "source": [
        "import Module as m\n",
        "m.func1()\n",
        "m.func2()\n",
        "m.func3()"
      ],
      "execution_count": 33,
      "outputs": [
        {
          "output_type": "stream",
          "name": "stdout",
          "text": [
            "Module.py: func1()\n",
            "Module.py: func2()\n",
            "Module.py: func3()\n"
          ]
        }
      ]
    },
    {
      "cell_type": "code",
      "source": [
        "from Module import *\n",
        "func1()\n",
        "func2()\n",
        "func3()"
      ],
      "metadata": {
        "id": "IRFMgZC36rqB",
        "outputId": "97556f4d-065a-492d-9a4a-fdf281b93388",
        "colab": {
          "base_uri": "https://localhost:8080/"
        }
      },
      "execution_count": 34,
      "outputs": [
        {
          "output_type": "stream",
          "name": "stdout",
          "text": [
            "Module.py: func1()\n",
            "Module.py: func2()\n",
            "Module.py: func3()\n"
          ]
        }
      ]
    },
    {
      "cell_type": "markdown",
      "metadata": {
        "id": "3sK8A00OD0wu"
      },
      "source": [
        "#### [Lab] 계산기 모듈 만들기\n",
        "\n",
        "* 사용자 정의 모듈을 이용해서 계산기에 필요한 기능들로 모듈 만들기"
      ]
    },
    {
      "cell_type": "code",
      "metadata": {
        "id": "r7UW1sFYD-fs",
        "outputId": "e998eeb1-8372-41f8-ebd3-92ec1fd6f1be",
        "colab": {
          "base_uri": "https://localhost:8080/"
        }
      },
      "source": [
        "%%writefile Calculator.py\n",
        "def add(a, b):\n",
        "  return a + b\n",
        "\n",
        "def sub(a, b):\n",
        "  return a - b\n",
        "\n",
        "def mul(a, b):\n",
        "  return a * b\n",
        "\n",
        "def div(a, b):\n",
        "  return a / b\n",
        "\n",
        "def mod(a, b):\n",
        "  return a % b\n",
        "\n",
        "if __name__ == '__main__':\n",
        "  print('src:', __file__)\n",
        "  "
      ],
      "execution_count": 35,
      "outputs": [
        {
          "output_type": "stream",
          "name": "stdout",
          "text": [
            "Writing Calculator.py\n"
          ]
        }
      ]
    },
    {
      "cell_type": "code",
      "source": [
        "%run Calculator.py"
      ],
      "metadata": {
        "id": "sFwmTVVL91ft",
        "outputId": "666ad5c0-7b2c-4cc7-df40-1caf0e09bf79",
        "colab": {
          "base_uri": "https://localhost:8080/"
        }
      },
      "execution_count": 36,
      "outputs": [
        {
          "output_type": "stream",
          "name": "stdout",
          "text": [
            "src: /content/Calculator.py\n"
          ]
        }
      ]
    },
    {
      "cell_type": "code",
      "metadata": {
        "id": "QUKdcfj7Em7-",
        "outputId": "06fa0a45-79b8-4fdf-c086-c32d33d70df5",
        "colab": {
          "base_uri": "https://localhost:8080/"
        }
      },
      "source": [
        "!ls -al"
      ],
      "execution_count": 37,
      "outputs": [
        {
          "output_type": "stream",
          "name": "stdout",
          "text": [
            "total 32\n",
            "drwxr-xr-x 1 root root 4096 Mar 15 09:29 .\n",
            "drwxr-xr-x 1 root root 4096 Mar 15 08:54 ..\n",
            "-rw-r--r-- 1 root root  211 Mar 15 09:29 Calculator.py\n",
            "drwxr-xr-x 4 root root 4096 Mar 13 13:32 .config\n",
            "-rw-r--r-- 1 root root  187 Mar 15 09:28 Module.py\n",
            "drwxr-xr-x 6 root root 4096 Mar 15 09:16 package\n",
            "drwxr-xr-x 2 root root 4096 Mar 15 09:29 __pycache__\n",
            "drwxr-xr-x 1 root root 4096 Mar 13 13:33 sample_data\n"
          ]
        }
      ]
    },
    {
      "cell_type": "code",
      "source": [
        "from Calculator import *\n",
        "\n",
        "print(add(3, 5))\n",
        "print(sub(3, 5))\n",
        "print(mul(3, 5))\n",
        "print(div(3, 5))\n",
        "print(mod(3, 5))\n"
      ],
      "metadata": {
        "id": "NQg-RGO386pk",
        "outputId": "8efcae40-8de9-47bc-f02e-49ad481811d4",
        "colab": {
          "base_uri": "https://localhost:8080/"
        }
      },
      "execution_count": 38,
      "outputs": [
        {
          "output_type": "stream",
          "name": "stdout",
          "text": [
            "8\n",
            "-2\n",
            "15\n",
            "0.6\n",
            "3\n"
          ]
        }
      ]
    },
    {
      "cell_type": "markdown",
      "metadata": {
        "id": "0pHAl9UoZfu6"
      },
      "source": [
        "\n",
        "\n",
        "---\n",
        "\n"
      ]
    },
    {
      "cell_type": "markdown",
      "metadata": {
        "id": "ZkEj_NrE56Xf"
      },
      "source": [
        "### 파이썬 표준 모듈\n",
        "\n",
        "* 파이썬에서 기본으로 내장된 유용한 속성과 함수들이 많음"
      ]
    },
    {
      "cell_type": "code",
      "metadata": {
        "id": "vPxFygaF6KT-",
        "outputId": "01ca3f84-9aca-4ac4-a978-a394e5729c67",
        "colab": {
          "base_uri": "https://localhost:8080/"
        }
      },
      "source": [
        "import sys\n",
        "print(sys.builtin_module_names)"
      ],
      "execution_count": 39,
      "outputs": [
        {
          "output_type": "stream",
          "name": "stdout",
          "text": [
            "('_abc', '_ast', '_bisect', '_blake2', '_codecs', '_collections', '_csv', '_datetime', '_elementtree', '_functools', '_heapq', '_imp', '_io', '_locale', '_md5', '_operator', '_peg_parser', '_pickle', '_posixsubprocess', '_random', '_sha1', '_sha256', '_sha3', '_sha512', '_signal', '_socket', '_sre', '_stat', '_statistics', '_string', '_struct', '_symtable', '_thread', '_tracemalloc', '_warnings', '_weakref', 'array', 'atexit', 'binascii', 'builtins', 'cmath', 'errno', 'faulthandler', 'fcntl', 'gc', 'grp', 'itertools', 'marshal', 'math', 'posix', 'pwd', 'pyexpat', 'select', 'spwd', 'sys', 'syslog', 'time', 'unicodedata', 'xxsubtype', 'zlib')\n"
          ]
        }
      ]
    },
    {
      "cell_type": "code",
      "source": [
        "print(dir(__builtins__))"
      ],
      "metadata": {
        "id": "63bwV7Ia9zis",
        "outputId": "120ecfe2-f82d-4db7-a103-fa82c473d48d",
        "colab": {
          "base_uri": "https://localhost:8080/"
        }
      },
      "execution_count": 40,
      "outputs": [
        {
          "output_type": "stream",
          "name": "stdout",
          "text": [
            "['ArithmeticError', 'AssertionError', 'AttributeError', 'BaseException', 'BlockingIOError', 'BrokenPipeError', 'BufferError', 'BytesWarning', 'ChildProcessError', 'ConnectionAbortedError', 'ConnectionError', 'ConnectionRefusedError', 'ConnectionResetError', 'DeprecationWarning', 'EOFError', 'Ellipsis', 'EnvironmentError', 'Exception', 'False', 'FileExistsError', 'FileNotFoundError', 'FloatingPointError', 'FutureWarning', 'GeneratorExit', 'IOError', 'ImportError', 'ImportWarning', 'IndentationError', 'IndexError', 'InterruptedError', 'IsADirectoryError', 'KeyError', 'KeyboardInterrupt', 'LookupError', 'MemoryError', 'ModuleNotFoundError', 'NameError', 'None', 'NotADirectoryError', 'NotImplemented', 'NotImplementedError', 'OSError', 'OverflowError', 'PendingDeprecationWarning', 'PermissionError', 'ProcessLookupError', 'RecursionError', 'ReferenceError', 'ResourceWarning', 'RuntimeError', 'RuntimeWarning', 'StopAsyncIteration', 'StopIteration', 'SyntaxError', 'SyntaxWarning', 'SystemError', 'SystemExit', 'TabError', 'TimeoutError', 'True', 'TypeError', 'UnboundLocalError', 'UnicodeDecodeError', 'UnicodeEncodeError', 'UnicodeError', 'UnicodeTranslateError', 'UnicodeWarning', 'UserWarning', 'ValueError', 'Warning', 'ZeroDivisionError', '__IPYTHON__', '__build_class__', '__debug__', '__doc__', '__import__', '__loader__', '__name__', '__package__', '__spec__', 'abs', 'all', 'any', 'ascii', 'bin', 'bool', 'breakpoint', 'bytearray', 'bytes', 'callable', 'chr', 'classmethod', 'compile', 'complex', 'copyright', 'credits', 'delattr', 'dict', 'dir', 'display', 'divmod', 'enumerate', 'eval', 'exec', 'execfile', 'filter', 'float', 'format', 'frozenset', 'get_ipython', 'getattr', 'globals', 'hasattr', 'hash', 'help', 'hex', 'id', 'input', 'int', 'isinstance', 'issubclass', 'iter', 'len', 'license', 'list', 'locals', 'map', 'max', 'memoryview', 'min', 'next', 'object', 'oct', 'open', 'ord', 'pow', 'print', 'property', 'range', 'repr', 'reversed', 'round', 'runfile', 'set', 'setattr', 'slice', 'sorted', 'staticmethod', 'str', 'sum', 'super', 'tuple', 'type', 'vars', 'zip']\n"
          ]
        }
      ]
    },
    {
      "cell_type": "markdown",
      "metadata": {
        "id": "ILtHUW9h6zKi"
      },
      "source": [
        "### 시간 모듈(datetime)\n",
        "\n",
        "* 운영체제가 제공하는 시간 기능을 파이썬에서 사용할 수 있도록 만들어진 모듈\n",
        "* 시간 모듈을 사용하기 위해서는 `import time` 필요"
      ]
    },
    {
      "cell_type": "code",
      "metadata": {
        "id": "MbSkRsQp622D",
        "outputId": "bb476739-1d9d-43d4-e935-0885b9848497",
        "colab": {
          "base_uri": "https://localhost:8080/"
        }
      },
      "source": [
        "import time\n",
        "print(dir(time))"
      ],
      "execution_count": 41,
      "outputs": [
        {
          "output_type": "stream",
          "name": "stdout",
          "text": [
            "['CLOCK_BOOTTIME', 'CLOCK_MONOTONIC', 'CLOCK_MONOTONIC_RAW', 'CLOCK_PROCESS_CPUTIME_ID', 'CLOCK_REALTIME', 'CLOCK_TAI', 'CLOCK_THREAD_CPUTIME_ID', '_STRUCT_TM_ITEMS', '__doc__', '__loader__', '__name__', '__package__', '__spec__', 'altzone', 'asctime', 'clock_getres', 'clock_gettime', 'clock_gettime_ns', 'clock_settime', 'clock_settime_ns', 'ctime', 'daylight', 'get_clock_info', 'gmtime', 'localtime', 'mktime', 'monotonic', 'monotonic_ns', 'perf_counter', 'perf_counter_ns', 'process_time', 'process_time_ns', 'pthread_getcpuclockid', 'sleep', 'strftime', 'strptime', 'struct_time', 'thread_time', 'thread_time_ns', 'time', 'time_ns', 'timezone', 'tzname', 'tzset']\n"
          ]
        }
      ]
    },
    {
      "cell_type": "markdown",
      "metadata": {
        "id": "z9LVec3hYyqa"
      },
      "source": [
        "* 시간 모듈 `time` 예제"
      ]
    },
    {
      "cell_type": "code",
      "metadata": {
        "id": "DnE8kYXuYzC8",
        "outputId": "4975219a-3f5b-4e9b-ed78-00895329aebb",
        "colab": {
          "base_uri": "https://localhost:8080/"
        }
      },
      "source": [
        "import time\n",
        "print(time)\n",
        "print(time.time())\n",
        "print(time.time())\n",
        "print(time.time())\n",
        "print(time.time())\n",
        "\n",
        "now = time.gmtime(time.time())\n",
        "print(now)\n",
        "\n",
        "year = str(now.tm_year)\n",
        "mon = str(now.tm_mon)\n",
        "day = str(now.tm_mday)\n",
        "hour = str(now.tm_hour)\n",
        "min = str(now.tm_min)\n",
        "sec = str(now.tm_sec)\n",
        "print(year,'년',mon,'월',day,'일  ',hour,'시',min,'분',sec,'초')\n",
        "\n"
      ],
      "execution_count": 42,
      "outputs": [
        {
          "output_type": "stream",
          "name": "stdout",
          "text": [
            "<module 'time' (built-in)>\n",
            "1678872616.8622437\n",
            "1678872616.8626459\n",
            "1678872616.8630104\n",
            "1678872616.864521\n",
            "time.struct_time(tm_year=2023, tm_mon=3, tm_mday=15, tm_hour=9, tm_min=30, tm_sec=16, tm_wday=2, tm_yday=74, tm_isdst=0)\n",
            "2023 년 3 월 15 일   9 시 30 분 16 초\n"
          ]
        }
      ]
    },
    {
      "cell_type": "markdown",
      "metadata": {
        "id": "BbFoAvcKYnOI"
      },
      "source": [
        "* 날짜시간 모듈 `datetime`의 `date` 클래스 예제"
      ]
    },
    {
      "cell_type": "code",
      "metadata": {
        "id": "RvkSO1yhYs5W",
        "outputId": "fec558f1-0c38-4db1-94b2-9280f4fab68d",
        "colab": {
          "base_uri": "https://localhost:8080/"
        }
      },
      "source": [
        "from datetime import date\n",
        "print(date)\n",
        "print(date(2023, 3, 10))\n",
        "print(date(year=2023, month=3, day=10))\n",
        "print(date.today())\n",
        "\n",
        "today = date.today()\n",
        "year = str(today.year)\n",
        "mon = str(today.month)\n",
        "day = str(today.day)\n",
        "weekday = '월화수목금토일'[today.weekday()]\n",
        "print(year,'년',mon,'월',day,'일  ',weekday,'요일')\n"
      ],
      "execution_count": 43,
      "outputs": [
        {
          "output_type": "stream",
          "name": "stdout",
          "text": [
            "<class 'datetime.date'>\n",
            "2023-03-10\n",
            "2023-03-10\n",
            "2023-03-15\n",
            "2023 년 3 월 15 일   수 요일\n"
          ]
        }
      ]
    },
    {
      "cell_type": "markdown",
      "metadata": {
        "id": "MYSooRuLaOym"
      },
      "source": [
        "* 날짜시간 모듈 `datetime`의 `time` 클래스 예제"
      ]
    },
    {
      "cell_type": "code",
      "metadata": {
        "id": "qSF7YJg_aPHn",
        "outputId": "6fde11e0-1c33-4569-b385-c1c54b4293bb",
        "colab": {
          "base_uri": "https://localhost:8080/"
        }
      },
      "source": [
        "from datetime import time\n",
        "\n",
        "print(time)\n",
        "print(time(12, 0))\n",
        "print(time(14, 30))\n",
        "print(time(16, 30, 45))\n",
        "print(time(18, 00, 15, 100000))\n",
        "\n",
        "now = time(20, 40, 15, 123456)\n",
        "hour = str(now.hour)\n",
        "min = str(now.minute)\n",
        "sec = str(now.second)\n",
        "msec = str(now.microsecond)\n",
        "print(hour,'시',min,'분',sec,'초',msec,'마이크로초')\n",
        "\n",
        " "
      ],
      "execution_count": 44,
      "outputs": [
        {
          "output_type": "stream",
          "name": "stdout",
          "text": [
            "<class 'datetime.time'>\n",
            "12:00:00\n",
            "14:30:00\n",
            "16:30:45\n",
            "18:00:15.100000\n",
            "20 시 40 분 15 초 123456 마이크로초\n"
          ]
        }
      ]
    },
    {
      "cell_type": "markdown",
      "metadata": {
        "id": "sdtzTp5tlqSb"
      },
      "source": [
        "* 날짜시간 모듈 `datetime`의 `datetime` 클래스 예제\n",
        "* 날짜시간을 문자열로 표현하기 위한 `strftime()` 메소드 예제\n",
        "\n",
        "```\n",
        "%Y : 년(YYYY)\n",
        "%y : 년(yy)\n",
        "%m : 월(mm)\n",
        "%d : 일(dd)\n",
        "%A : 요일\n",
        "%H : 시(24)\n",
        "%l : 시(12)\n",
        "%p : AM/PM\n",
        "%M : 분(MM)\n",
        "%S : 초(SS)\n",
        "%f : 마이크로초\n",
        "```"
      ]
    },
    {
      "cell_type": "code",
      "metadata": {
        "id": "mlwwukrqlsKn",
        "outputId": "ca2d2370-ae9c-4dae-ccf7-5495cbbd0a4c",
        "colab": {
          "base_uri": "https://localhost:8080/"
        }
      },
      "source": [
        "from datetime import datetime  # 28.54\n",
        "\n",
        "print(datetime)\n",
        "print(datetime(2022, 12, 20))\n",
        "print(datetime(2022, 12, 20, 1, 20, 34))\n",
        "print(datetime.now())\n",
        "\n",
        "now = datetime.now()\n",
        "print(now.strftime('%Y년 %m월 %d일 %H시 %M분 %S초'))\n",
        "print(now.strftime('%y/%m/%d %p %l:%M:%S.%f'))\n"
      ],
      "execution_count": 45,
      "outputs": [
        {
          "output_type": "stream",
          "name": "stdout",
          "text": [
            "<class 'datetime.datetime'>\n",
            "2022-12-20 00:00:00\n",
            "2022-12-20 01:20:34\n",
            "2023-03-15 09:30:45.353748\n",
            "2023년 03월 15일 09시 30분 45초\n",
            "23/03/15 AM  9:30:45.354096\n"
          ]
        }
      ]
    },
    {
      "cell_type": "markdown",
      "metadata": {
        "id": "iE13qouhqEGd"
      },
      "source": [
        "#### [Lab] 태어난지 몇 일이 되었는가?\n",
        "\n",
        "* 태어난지 얼마나 지났는지 계산하기"
      ]
    },
    {
      "cell_type": "code",
      "metadata": {
        "id": "LvW2SqpYpXex",
        "outputId": "41ef0b7e-6c6e-4cb4-f005-70522f5020e0",
        "colab": {
          "base_uri": "https://localhost:8080/"
        }
      },
      "source": [
        "from datetime import date\n",
        "birthday = date(2000, 1, 1)\n",
        "today = date.today()\n",
        "day = today - birthday\n",
        "print(day.days)"
      ],
      "execution_count": 46,
      "outputs": [
        {
          "output_type": "stream",
          "name": "stdout",
          "text": [
            "8474\n"
          ]
        }
      ]
    },
    {
      "cell_type": "markdown",
      "metadata": {
        "id": "nl1EYj9c6pTG"
      },
      "source": [
        "### 수학 모듈(math)\n",
        "\n",
        "* 파이썬에서 수학에 필요한 math 모듈 제공\n"
      ]
    },
    {
      "cell_type": "code",
      "metadata": {
        "id": "iwKRg4ZI6sds",
        "outputId": "2312c272-99ae-4d59-e57a-249995b98ceb",
        "colab": {
          "base_uri": "https://localhost:8080/"
        }
      },
      "source": [
        "import math\n",
        "print(dir(math))"
      ],
      "execution_count": 47,
      "outputs": [
        {
          "output_type": "stream",
          "name": "stdout",
          "text": [
            "['__doc__', '__loader__', '__name__', '__package__', '__spec__', 'acos', 'acosh', 'asin', 'asinh', 'atan', 'atan2', 'atanh', 'ceil', 'comb', 'copysign', 'cos', 'cosh', 'degrees', 'dist', 'e', 'erf', 'erfc', 'exp', 'expm1', 'fabs', 'factorial', 'floor', 'fmod', 'frexp', 'fsum', 'gamma', 'gcd', 'hypot', 'inf', 'isclose', 'isfinite', 'isinf', 'isnan', 'isqrt', 'lcm', 'ldexp', 'lgamma', 'log', 'log10', 'log1p', 'log2', 'modf', 'nan', 'nextafter', 'perm', 'pi', 'pow', 'prod', 'radians', 'remainder', 'sin', 'sinh', 'sqrt', 'tan', 'tanh', 'tau', 'trunc', 'ulp']\n"
          ]
        }
      ]
    },
    {
      "cell_type": "markdown",
      "source": [
        "* `math` 모듈 대표 상수\n",
        "```\n",
        "a\n",
        "```\n",
        "* `math` 모듈에서 제공하는 대표 함수\n",
        "```\n",
        "b\n",
        "```"
      ],
      "metadata": {
        "id": "eL9tfyXfPo6a"
      }
    },
    {
      "cell_type": "code",
      "metadata": {
        "id": "d3mmKmFiswty",
        "outputId": "1fe1533b-0325-498f-d8f9-10cbc743706c",
        "colab": {
          "base_uri": "https://localhost:8080/"
        }
      },
      "source": [
        "import math\n",
        "\n",
        "print(math.factorial(3))\n",
        "print(math.gcd(12, 24))\n",
        "print(math.floor(math.pi))\n",
        "print(math.ceil(math.pi))\n",
        "print(math.pow(2, 10))\n",
        "print(math.sqrt(10))\n",
        "print(math.log(10, 2))\n",
        "print(math.degrees(math.pi))\n",
        "print(math.radians(180))\n",
        "print(math.sin(math.radians(90)))\n",
        "print(math.cos(math.radians(180)))\n"
      ],
      "execution_count": 48,
      "outputs": [
        {
          "output_type": "stream",
          "name": "stdout",
          "text": [
            "6\n",
            "12\n",
            "3\n",
            "4\n",
            "1024.0\n",
            "3.1622776601683795\n",
            "3.3219280948873626\n",
            "180.0\n",
            "3.141592653589793\n",
            "1.0\n",
            "-1.0\n"
          ]
        }
      ]
    },
    {
      "cell_type": "markdown",
      "metadata": {
        "id": "iAbuv-GxzRH0"
      },
      "source": [
        "### 순열과 조합 모듈(itertools)\n",
        "\n",
        "* `itertools` 모듈에서 곱집합, 순열, 조합 등을 구하는 함수 제공\n"
      ]
    },
    {
      "cell_type": "code",
      "metadata": {
        "id": "fG_PztCsz4xk",
        "outputId": "a7f1a772-7ad6-4e48-ae0b-d6d03c3c8495",
        "colab": {
          "base_uri": "https://localhost:8080/"
        }
      },
      "source": [
        "import itertools\n",
        "list1 = ['a','b','c']\n",
        "print(list1)\n",
        "list2 = [1, 2]\n",
        "print(list2)\n",
        "list_cp = list(itertools.product(list1, list2))\n",
        "print(list_cp)\n",
        "list_p = list(itertools.permutations(list1, 2))\n",
        "print(list_p)\n",
        "list_c = list(itertools.combinations(list1, 2))\n",
        "print(list_c)\n",
        "list_cr = list(itertools.combinations_with_replacement(list1, 2))\n",
        "print(list_cr)\n"
      ],
      "execution_count": 49,
      "outputs": [
        {
          "output_type": "stream",
          "name": "stdout",
          "text": [
            "['a', 'b', 'c']\n",
            "[1, 2]\n",
            "[('a', 1), ('a', 2), ('b', 1), ('b', 2), ('c', 1), ('c', 2)]\n",
            "[('a', 'b'), ('a', 'c'), ('b', 'a'), ('b', 'c'), ('c', 'a'), ('c', 'b')]\n",
            "[('a', 'b'), ('a', 'c'), ('b', 'c')]\n",
            "[('a', 'a'), ('a', 'b'), ('a', 'c'), ('b', 'b'), ('b', 'c'), ('c', 'c')]\n"
          ]
        }
      ]
    },
    {
      "cell_type": "markdown",
      "metadata": {
        "id": "UNlrNquK2eMg"
      },
      "source": [
        "### 통계 모듈(statistics)\n",
        "\n",
        "* `statistics` 모듈에서는 산술평균, 표준편차 등 통계에 필요한 계산 관련 함수들을 제공\n"
      ]
    },
    {
      "cell_type": "code",
      "metadata": {
        "id": "sqQiNW-k21XJ",
        "outputId": "ff4142aa-9e8e-4645-988a-794bc701a2d2",
        "colab": {
          "base_uri": "https://localhost:8080/"
        }
      },
      "source": [
        "import statistics\n",
        "\n",
        "values = [56, 44, 67, 47, 82, 67, 92, 89, 81, 82]\n",
        "print(statistics.median(values))\n",
        "print(statistics.mean(values))\n",
        "print(statistics.harmonic_mean(values))\n",
        "print(statistics.stdev(values))\n",
        "print(statistics.variance(values))\n"
      ],
      "execution_count": 50,
      "outputs": [
        {
          "output_type": "stream",
          "name": "stdout",
          "text": [
            "74.0\n",
            "70.7\n",
            "66.42170307761845\n",
            "17.217884758458442\n",
            "296.4555555555556\n"
          ]
        }
      ]
    },
    {
      "cell_type": "markdown",
      "metadata": {
        "id": "nwW2LgNc67u3"
      },
      "source": [
        "### 랜덤 모듈(random)\n",
        "\n",
        "* 랜덤 모듈을 사용하기 위해서는 `import random` 필요"
      ]
    },
    {
      "cell_type": "code",
      "metadata": {
        "id": "PuAbFRsa7IUH",
        "outputId": "4b161211-ba53-41d7-c0b8-69d3fa2e62c6",
        "colab": {
          "base_uri": "https://localhost:8080/"
        }
      },
      "source": [
        "import random\n",
        "\n",
        "print(random.random())\n",
        "print(random.randint(1, 10))\n",
        "print(random.randrange(0, 10, 2))\n"
      ],
      "execution_count": 51,
      "outputs": [
        {
          "output_type": "stream",
          "name": "stdout",
          "text": [
            "0.3719525019159955\n",
            "10\n",
            "8\n"
          ]
        }
      ]
    },
    {
      "cell_type": "code",
      "metadata": {
        "id": "aDz_82bc7qJx",
        "outputId": "eb609126-3b3b-4fcc-a7fc-fcbc2d1877ca",
        "colab": {
          "base_uri": "https://localhost:8080/"
        }
      },
      "source": [
        "li = [10, 20, 30, 40, 50]\n",
        "print(li)\n",
        "print(random.choice(li))\n",
        "print(random.sample(li, 2))\n",
        "random.shuffle(li)\n",
        "print(li)"
      ],
      "execution_count": 52,
      "outputs": [
        {
          "output_type": "stream",
          "name": "stdout",
          "text": [
            "[10, 20, 30, 40, 50]\n",
            "30\n",
            "[30, 40]\n",
            "[20, 30, 50, 10, 40]\n"
          ]
        }
      ]
    },
    {
      "cell_type": "markdown",
      "metadata": {
        "id": "RFMGmK8r79zv"
      },
      "source": [
        "### 네임스페이스(Namespace)\n",
        "\n",
        "* 모듈 호출의 범위 지정\n",
        "* 모듈 이름에 alias를 생성하여 모듈의 이름을 바꿔 사용"
      ]
    },
    {
      "cell_type": "code",
      "metadata": {
        "id": "OmY9T8g68M5J",
        "outputId": "a6794d99-0962-4bc4-da64-dcd85b0c4c27",
        "colab": {
          "base_uri": "https://localhost:8080/"
        }
      },
      "source": [
        "import random as rd\n",
        "\n",
        "print(rd.random())\n",
        "print(rd.randrange(0, 10, 2))\n"
      ],
      "execution_count": 53,
      "outputs": [
        {
          "output_type": "stream",
          "name": "stdout",
          "text": [
            "0.3617260903262266\n",
            "8\n"
          ]
        }
      ]
    },
    {
      "cell_type": "markdown",
      "metadata": {
        "id": "ijyblqrg8NfX"
      },
      "source": [
        "* from 구문을 사용하여 모듈에서 특정 함수 또는 클래스만 호출"
      ]
    },
    {
      "cell_type": "code",
      "metadata": {
        "id": "YwkdUeaL8PeK",
        "outputId": "05fdc765-cb43-4711-95c2-a5f1908fb86e",
        "colab": {
          "base_uri": "https://localhost:8080/"
        }
      },
      "source": [
        "from random import random, randrange\n",
        "\n",
        "print(random())\n",
        "print(randrange(0, 10, 2))\n"
      ],
      "execution_count": 54,
      "outputs": [
        {
          "output_type": "stream",
          "name": "stdout",
          "text": [
            "0.557803067783437\n",
            "8\n"
          ]
        }
      ]
    },
    {
      "cell_type": "markdown",
      "metadata": {
        "id": "6jIH8CcK8P9Q"
      },
      "source": [
        "* '*'을 사용하여 모듈 안에 모든 함수, 클래스, 변수를 가져옴"
      ]
    },
    {
      "cell_type": "code",
      "metadata": {
        "id": "NdCD7wxF8Rpj",
        "outputId": "d1e1b528-dfe4-4d50-90f0-49ae75bb2c5d",
        "colab": {
          "base_uri": "https://localhost:8080/"
        }
      },
      "source": [
        "from random import *\n",
        "\n",
        "print(random())\n",
        "print(randrange(0, 10, 2))\n"
      ],
      "execution_count": 55,
      "outputs": [
        {
          "output_type": "stream",
          "name": "stdout",
          "text": [
            "0.8142182277614539\n",
            "8\n"
          ]
        }
      ]
    },
    {
      "cell_type": "markdown",
      "metadata": {
        "id": "qQc_0nwV1YyE"
      },
      "source": [
        "## 패키지(Packages)\n"
      ]
    },
    {
      "cell_type": "code",
      "metadata": {
        "id": "bPz0apRgJSJ-",
        "outputId": "89a640a2-005d-4be2-eb32-81501c8da77c",
        "colab": {
          "base_uri": "https://localhost:8080/"
        }
      },
      "source": [
        "!apt-get install tree"
      ],
      "execution_count": 1,
      "outputs": [
        {
          "output_type": "stream",
          "name": "stdout",
          "text": [
            "Reading package lists... Done\n",
            "Building dependency tree       \n",
            "Reading state information... Done\n",
            "The following NEW packages will be installed:\n",
            "  tree\n",
            "0 upgraded, 1 newly installed, 0 to remove and 22 not upgraded.\n",
            "Need to get 43.0 kB of archives.\n",
            "After this operation, 115 kB of additional disk space will be used.\n",
            "Get:1 http://archive.ubuntu.com/ubuntu focal/universe amd64 tree amd64 1.8.0-1 [43.0 kB]\n",
            "Fetched 43.0 kB in 0s (165 kB/s)\n",
            "Selecting previously unselected package tree.\n",
            "(Reading database ... 128275 files and directories currently installed.)\n",
            "Preparing to unpack .../tree_1.8.0-1_amd64.deb ...\n",
            "Unpacking tree (1.8.0-1) ...\n",
            "Setting up tree (1.8.0-1) ...\n",
            "Processing triggers for man-db (2.9.1-1) ...\n"
          ]
        }
      ]
    },
    {
      "cell_type": "code",
      "source": [
        "!rm -rf package"
      ],
      "metadata": {
        "id": "wOgwCZ6AaEjk"
      },
      "execution_count": 56,
      "outputs": []
    },
    {
      "cell_type": "code",
      "source": [
        "!tree package"
      ],
      "metadata": {
        "id": "hePyC0AQdUtj",
        "outputId": "013207bc-01d9-4e65-9ca2-bcc94a1c68b0",
        "colab": {
          "base_uri": "https://localhost:8080/"
        }
      },
      "execution_count": 57,
      "outputs": [
        {
          "output_type": "stream",
          "name": "stdout",
          "text": [
            "package [error opening dir]\n",
            "\n",
            "0 directories, 0 files\n"
          ]
        }
      ]
    },
    {
      "cell_type": "code",
      "metadata": {
        "id": "jekuqE1NI0mJ"
      },
      "source": [
        "!mkdir package\n",
        "!mkdir package/sub_package_1\n",
        "!mkdir package/sub_package_2\n",
        "!mkdir package/sub_package_3\n"
      ],
      "execution_count": 58,
      "outputs": []
    },
    {
      "cell_type": "code",
      "source": [
        "!tree package"
      ],
      "metadata": {
        "id": "-bOFJL6yXQ_a",
        "outputId": "da5618a8-7269-4b23-de88-ed8e2515432f",
        "colab": {
          "base_uri": "https://localhost:8080/"
        }
      },
      "execution_count": 5,
      "outputs": [
        {
          "output_type": "stream",
          "name": "stdout",
          "text": [
            "\u001b[01;34mpackage\u001b[00m\n",
            "├── \u001b[01;34msub_package_1\u001b[00m\n",
            "├── \u001b[01;34msub_package_2\u001b[00m\n",
            "└── \u001b[01;34msub_package_3\u001b[00m\n",
            "\n",
            "3 directories, 0 files\n"
          ]
        }
      ]
    },
    {
      "cell_type": "code",
      "metadata": {
        "id": "Z39w6vP1Jnuu",
        "outputId": "c4f15861-e413-4e50-e90b-5066650c1445",
        "colab": {
          "base_uri": "https://localhost:8080/"
        }
      },
      "source": [
        "!ls -l package"
      ],
      "execution_count": 59,
      "outputs": [
        {
          "output_type": "stream",
          "name": "stdout",
          "text": [
            "total 12\n",
            "drwxr-xr-x 2 root root 4096 Mar 15 09:32 sub_package_1\n",
            "drwxr-xr-x 2 root root 4096 Mar 15 09:32 sub_package_2\n",
            "drwxr-xr-x 2 root root 4096 Mar 15 09:32 sub_package_3\n"
          ]
        }
      ]
    },
    {
      "cell_type": "code",
      "metadata": {
        "id": "6U6AkKypKILn",
        "outputId": "a89f7022-bc84-4fb4-ae43-c979dcc79625",
        "colab": {
          "base_uri": "https://localhost:8080/"
        }
      },
      "source": [
        "%%writefile package/sub_package_1/sub1_module_1.py\n",
        "def print_module():\n",
        "  print('sub_package_1/sub1_module_1')"
      ],
      "execution_count": 60,
      "outputs": [
        {
          "output_type": "stream",
          "name": "stdout",
          "text": [
            "Writing package/sub_package_1/sub1_module_1.py\n"
          ]
        }
      ]
    },
    {
      "cell_type": "code",
      "metadata": {
        "id": "RSuJJKzvKKx6",
        "outputId": "b0669620-6496-461d-83b3-523c2d775564",
        "colab": {
          "base_uri": "https://localhost:8080/"
        }
      },
      "source": [
        "%%writefile package/sub_package_1/sub1_module_2.py\n",
        "def print_module():\n",
        "  print('sub_package_1/sub1_module_2')"
      ],
      "execution_count": 61,
      "outputs": [
        {
          "output_type": "stream",
          "name": "stdout",
          "text": [
            "Writing package/sub_package_1/sub1_module_2.py\n"
          ]
        }
      ]
    },
    {
      "cell_type": "code",
      "metadata": {
        "id": "BhqpvBAXKNGo",
        "outputId": "93ab61b7-ead0-43cf-ca1a-00c5e3de8023",
        "colab": {
          "base_uri": "https://localhost:8080/"
        }
      },
      "source": [
        "%%writefile package/sub_package_2/sub2_module_1.py\n",
        "def print_module():\n",
        "  print('sub_package_2/sub2_module_1')"
      ],
      "execution_count": 62,
      "outputs": [
        {
          "output_type": "stream",
          "name": "stdout",
          "text": [
            "Writing package/sub_package_2/sub2_module_1.py\n"
          ]
        }
      ]
    },
    {
      "cell_type": "code",
      "metadata": {
        "id": "mRe1x_7XKORQ",
        "outputId": "79ab3ef0-dddc-4637-d8af-6d832835f2b0",
        "colab": {
          "base_uri": "https://localhost:8080/"
        }
      },
      "source": [
        "%%writefile package/sub_package_2/sub2_module_2.py\n",
        "def print_module():\n",
        "  print('sub_package_2/sub2_module_2')"
      ],
      "execution_count": 63,
      "outputs": [
        {
          "output_type": "stream",
          "name": "stdout",
          "text": [
            "Writing package/sub_package_2/sub2_module_2.py\n"
          ]
        }
      ]
    },
    {
      "cell_type": "code",
      "metadata": {
        "id": "8kQUk7O0KP3w",
        "outputId": "6494fd3d-6af8-4073-b7d8-705cb0d28f64",
        "colab": {
          "base_uri": "https://localhost:8080/"
        }
      },
      "source": [
        "%%writefile package/sub_package_3/sub3_module_1.py\n",
        "def print_module():\n",
        "  print('sub_package_3/sub3_module_1')"
      ],
      "execution_count": 64,
      "outputs": [
        {
          "output_type": "stream",
          "name": "stdout",
          "text": [
            "Writing package/sub_package_3/sub3_module_1.py\n"
          ]
        }
      ]
    },
    {
      "cell_type": "code",
      "source": [
        "%%writefile package/sub_package_3/sub3_module_2.py\n",
        "def print_module():\n",
        "  print('sub_package_3/sub3_module_2')"
      ],
      "metadata": {
        "id": "Hbkbp6XlYfCI",
        "outputId": "be6cd4fa-1809-49a1-c674-f1ec5e91bfa7",
        "colab": {
          "base_uri": "https://localhost:8080/"
        }
      },
      "execution_count": 65,
      "outputs": [
        {
          "output_type": "stream",
          "name": "stdout",
          "text": [
            "Writing package/sub_package_3/sub3_module_2.py\n"
          ]
        }
      ]
    },
    {
      "cell_type": "code",
      "source": [
        "!tree package"
      ],
      "metadata": {
        "id": "DzYmlvD_Y8kz",
        "outputId": "acc7e3bf-f0b3-48e4-b4f4-4df133aa5ec2",
        "colab": {
          "base_uri": "https://localhost:8080/"
        }
      },
      "execution_count": 66,
      "outputs": [
        {
          "output_type": "stream",
          "name": "stdout",
          "text": [
            "\u001b[01;34mpackage\u001b[00m\n",
            "├── \u001b[01;34msub_package_1\u001b[00m\n",
            "│   ├── sub1_module_1.py\n",
            "│   └── sub1_module_2.py\n",
            "├── \u001b[01;34msub_package_2\u001b[00m\n",
            "│   ├── sub2_module_1.py\n",
            "│   └── sub2_module_2.py\n",
            "└── \u001b[01;34msub_package_3\u001b[00m\n",
            "    ├── sub3_module_1.py\n",
            "    └── sub3_module_2.py\n",
            "\n",
            "3 directories, 6 files\n"
          ]
        }
      ]
    },
    {
      "cell_type": "code",
      "source": [
        "!cat package/sub_package_3/sub3_module_2.py"
      ],
      "metadata": {
        "id": "tqr4WM53eFbC",
        "outputId": "f0f724bf-f41b-43a2-beca-d14c87f77179",
        "colab": {
          "base_uri": "https://localhost:8080/"
        }
      },
      "execution_count": 67,
      "outputs": [
        {
          "output_type": "stream",
          "name": "stdout",
          "text": [
            "def print_module():\n",
            "  print('sub_package_3/sub3_module_2')\n"
          ]
        }
      ]
    },
    {
      "cell_type": "markdown",
      "metadata": {
        "id": "wljVmXlNIrvv"
      },
      "source": [
        "### 패키지 실행\n",
        "\n",
        "* 정의한 패키지의 모듈 실행"
      ]
    },
    {
      "cell_type": "code",
      "metadata": {
        "id": "3yew_JCLMsp7",
        "outputId": "bbdc4c82-c217-4fa0-a0b3-accb8d39160f",
        "colab": {
          "base_uri": "https://localhost:8080/"
        }
      },
      "source": [
        "from package.sub_package_1 import sub1_module_1, sub1_module_2\n",
        "sub1_module_1.print_module()\n",
        "sub1_module_2.print_module()\n"
      ],
      "execution_count": 68,
      "outputs": [
        {
          "output_type": "stream",
          "name": "stdout",
          "text": [
            "sub_package_1/sub1_module_1\n",
            "sub_package_1/sub1_module_2\n"
          ]
        }
      ]
    },
    {
      "cell_type": "code",
      "metadata": {
        "id": "vkRbKEa8NOmh",
        "outputId": "111d1146-8990-44bb-bb33-9946b3891839",
        "colab": {
          "base_uri": "https://localhost:8080/"
        }
      },
      "source": [
        "from package.sub_package_2 import sub2_module_1, sub2_module_2\n",
        "sub2_module_1.print_module()\n",
        "sub2_module_2.print_module()\n"
      ],
      "execution_count": 69,
      "outputs": [
        {
          "output_type": "stream",
          "name": "stdout",
          "text": [
            "sub_package_2/sub2_module_1\n",
            "sub_package_2/sub2_module_2\n"
          ]
        }
      ]
    },
    {
      "cell_type": "code",
      "metadata": {
        "id": "3d0daVmONRBT",
        "outputId": "7a86503b-9f25-476e-f119-2765becb4746",
        "colab": {
          "base_uri": "https://localhost:8080/"
        }
      },
      "source": [
        "from package.sub_package_3 import sub3_module_1, sub3_module_2\n",
        "sub3_module_1.print_module()\n",
        "sub3_module_2.print_module()\n"
      ],
      "execution_count": 70,
      "outputs": [
        {
          "output_type": "stream",
          "name": "stdout",
          "text": [
            "sub_package_3/sub3_module_1\n",
            "sub_package_3/sub3_module_2\n"
          ]
        }
      ]
    },
    {
      "cell_type": "code",
      "metadata": {
        "id": "Dy0EJOccNrrS",
        "outputId": "187f2a71-564c-43fb-a23e-62e0ce09cdd4",
        "colab": {
          "base_uri": "https://localhost:8080/"
        }
      },
      "source": [
        "from package import *\n",
        "sub1_module_1.print_module()\n",
        "sub1_module_2.print_module()\n",
        "sub2_module_1.print_module()\n",
        "sub2_module_2.print_module()\n",
        "sub3_module_1.print_module()\n",
        "sub3_module_2.print_module()\n"
      ],
      "execution_count": 71,
      "outputs": [
        {
          "output_type": "stream",
          "name": "stdout",
          "text": [
            "sub_package_1/sub1_module_1\n",
            "sub_package_1/sub1_module_2\n",
            "sub_package_2/sub2_module_1\n",
            "sub_package_2/sub2_module_2\n",
            "sub_package_3/sub3_module_1\n",
            "sub_package_3/sub3_module_2\n"
          ]
        }
      ]
    },
    {
      "cell_type": "markdown",
      "metadata": {
        "id": "CrmBC32pe2Ag"
      },
      "source": [
        "### 패키지 구성 파일\n",
        "\n",
        "* \\_\\_init\\_\\_.py\n"
      ]
    },
    {
      "cell_type": "code",
      "metadata": {
        "id": "S80DN-P9IYKw",
        "outputId": "89929bf6-7f06-422a-fdbf-150973cb6138",
        "colab": {
          "base_uri": "https://localhost:8080/"
        }
      },
      "source": [
        "%%writefile package/__init__.py\n",
        "__all__ = ['sub_package_1', 'sub_package_2', 'sub_package_3']"
      ],
      "execution_count": 72,
      "outputs": [
        {
          "output_type": "stream",
          "name": "stdout",
          "text": [
            "Writing package/__init__.py\n"
          ]
        }
      ]
    },
    {
      "cell_type": "code",
      "metadata": {
        "id": "T_Lv285gPt_4",
        "outputId": "b6b3f77f-6df4-4169-e59e-5742c83484f4",
        "colab": {
          "base_uri": "https://localhost:8080/"
        }
      },
      "source": [
        "%%writefile package/sub_package_1/__init__.py\n",
        "__all__ = ['sub1_module_1', 'sub1_module_2']"
      ],
      "execution_count": 73,
      "outputs": [
        {
          "output_type": "stream",
          "name": "stdout",
          "text": [
            "Writing package/sub_package_1/__init__.py\n"
          ]
        }
      ]
    },
    {
      "cell_type": "code",
      "metadata": {
        "id": "MWb5eNCAP56o",
        "outputId": "9c562051-ea8a-443e-b045-1c17560678d0",
        "colab": {
          "base_uri": "https://localhost:8080/"
        }
      },
      "source": [
        "%%writefile package/sub_package_2/__init__.py\n",
        "__all__ = ['sub2_module_1', 'sub2_module_2']"
      ],
      "execution_count": 74,
      "outputs": [
        {
          "output_type": "stream",
          "name": "stdout",
          "text": [
            "Writing package/sub_package_2/__init__.py\n"
          ]
        }
      ]
    },
    {
      "cell_type": "code",
      "metadata": {
        "id": "EvYOqe0KP6de",
        "outputId": "2afbdee8-5edc-4743-de1e-e54c659b81cb",
        "colab": {
          "base_uri": "https://localhost:8080/"
        }
      },
      "source": [
        "%%writefile package/sub_package_3/__init__.py\n",
        "__all__ = ['sub3_module_1', 'sub3_module_2']"
      ],
      "execution_count": 75,
      "outputs": [
        {
          "output_type": "stream",
          "name": "stdout",
          "text": [
            "Writing package/sub_package_3/__init__.py\n"
          ]
        }
      ]
    },
    {
      "cell_type": "code",
      "metadata": {
        "id": "t47pORCoP_Ks",
        "outputId": "5ef8102c-4deb-41ee-f696-8088c9d80684",
        "colab": {
          "base_uri": "https://localhost:8080/"
        }
      },
      "source": [
        "!tree package"
      ],
      "execution_count": 76,
      "outputs": [
        {
          "output_type": "stream",
          "name": "stdout",
          "text": [
            "\u001b[01;34mpackage\u001b[00m\n",
            "├── __init__.py\n",
            "├── \u001b[01;34msub_package_1\u001b[00m\n",
            "│   ├── __init__.py\n",
            "│   ├── sub1_module_1.py\n",
            "│   └── sub1_module_2.py\n",
            "├── \u001b[01;34msub_package_2\u001b[00m\n",
            "│   ├── __init__.py\n",
            "│   ├── sub2_module_1.py\n",
            "│   └── sub2_module_2.py\n",
            "└── \u001b[01;34msub_package_3\u001b[00m\n",
            "    ├── __init__.py\n",
            "    ├── sub3_module_1.py\n",
            "    └── sub3_module_2.py\n",
            "\n",
            "3 directories, 10 files\n"
          ]
        }
      ]
    },
    {
      "cell_type": "markdown",
      "metadata": {
        "id": "ErE9_A3uPcAJ"
      },
      "source": [
        "\n",
        "* \\_\\_main\\_\\_.py\n",
        "  + 패키지 자체를 실행하기 위한 용도\n",
        "  + 패키지를 실행시키면 \\_\\_main\\_\\_.py 실행"
      ]
    },
    {
      "cell_type": "code",
      "metadata": {
        "id": "_leUWfUDNTQZ",
        "outputId": "b5bce87a-daea-42f6-d647-aff837a5bb5d",
        "colab": {
          "base_uri": "https://localhost:8080/"
        }
      },
      "source": [
        "%%writefile package/__main__.py\n",
        "from sub_package_1 import *\n",
        "from sub_package_2 import *\n",
        "from sub_package_3 import *\n",
        "\n",
        "if __name__ == '__main__':\n",
        "  sub1_module_1.print_module()\n",
        "  sub1_module_2.print_module()\n",
        "  sub2_module_1.print_module()\n",
        "  sub2_module_2.print_module()\n",
        "  sub3_module_1.print_module()\n",
        "  sub3_module_2.print_module()\n"
      ],
      "execution_count": 77,
      "outputs": [
        {
          "output_type": "stream",
          "name": "stdout",
          "text": [
            "Writing package/__main__.py\n"
          ]
        }
      ]
    },
    {
      "cell_type": "code",
      "metadata": {
        "id": "FygAt2laQDes",
        "outputId": "263ac397-79cb-493b-fb59-3d8f3e5283fb",
        "colab": {
          "base_uri": "https://localhost:8080/"
        }
      },
      "source": [
        "!tree package"
      ],
      "execution_count": 78,
      "outputs": [
        {
          "output_type": "stream",
          "name": "stdout",
          "text": [
            "\u001b[01;34mpackage\u001b[00m\n",
            "├── __init__.py\n",
            "├── __main__.py\n",
            "├── \u001b[01;34msub_package_1\u001b[00m\n",
            "│   ├── __init__.py\n",
            "│   ├── sub1_module_1.py\n",
            "│   └── sub1_module_2.py\n",
            "├── \u001b[01;34msub_package_2\u001b[00m\n",
            "│   ├── __init__.py\n",
            "│   ├── sub2_module_1.py\n",
            "│   └── sub2_module_2.py\n",
            "└── \u001b[01;34msub_package_3\u001b[00m\n",
            "    ├── __init__.py\n",
            "    ├── sub3_module_1.py\n",
            "    └── sub3_module_2.py\n",
            "\n",
            "3 directories, 11 files\n"
          ]
        }
      ]
    },
    {
      "cell_type": "code",
      "metadata": {
        "id": "jl-y2mT6OTb9",
        "outputId": "4c22cbf8-f1c0-4151-d533-5441ac7cce98",
        "colab": {
          "base_uri": "https://localhost:8080/"
        }
      },
      "source": [
        "!python package"
      ],
      "execution_count": 79,
      "outputs": [
        {
          "output_type": "stream",
          "name": "stdout",
          "text": [
            "sub_package_1/sub1_module_1\n",
            "sub_package_1/sub1_module_2\n",
            "sub_package_2/sub2_module_1\n",
            "sub_package_2/sub2_module_2\n",
            "sub_package_3/sub3_module_1\n",
            "sub_package_3/sub3_module_2\n"
          ]
        }
      ]
    },
    {
      "cell_type": "code",
      "source": [
        "!tree package"
      ],
      "metadata": {
        "id": "zU8kIpLeoGX6",
        "outputId": "a21d91bf-8c8e-4359-daac-381d534641b9",
        "colab": {
          "base_uri": "https://localhost:8080/"
        }
      },
      "execution_count": 80,
      "outputs": [
        {
          "output_type": "stream",
          "name": "stdout",
          "text": [
            "\u001b[01;34mpackage\u001b[00m\n",
            "├── __init__.py\n",
            "├── __main__.py\n",
            "├── \u001b[01;34m__pycache__\u001b[00m\n",
            "│   └── __main__.cpython-39.pyc\n",
            "├── \u001b[01;34msub_package_1\u001b[00m\n",
            "│   ├── __init__.py\n",
            "│   ├── \u001b[01;34m__pycache__\u001b[00m\n",
            "│   │   ├── __init__.cpython-39.pyc\n",
            "│   │   ├── sub1_module_1.cpython-39.pyc\n",
            "│   │   └── sub1_module_2.cpython-39.pyc\n",
            "│   ├── sub1_module_1.py\n",
            "│   └── sub1_module_2.py\n",
            "├── \u001b[01;34msub_package_2\u001b[00m\n",
            "│   ├── __init__.py\n",
            "│   ├── \u001b[01;34m__pycache__\u001b[00m\n",
            "│   │   ├── __init__.cpython-39.pyc\n",
            "│   │   ├── sub2_module_1.cpython-39.pyc\n",
            "│   │   └── sub2_module_2.cpython-39.pyc\n",
            "│   ├── sub2_module_1.py\n",
            "│   └── sub2_module_2.py\n",
            "└── \u001b[01;34msub_package_3\u001b[00m\n",
            "    ├── __init__.py\n",
            "    ├── \u001b[01;34m__pycache__\u001b[00m\n",
            "    │   ├── __init__.cpython-39.pyc\n",
            "    │   ├── sub3_module_1.cpython-39.pyc\n",
            "    │   └── sub3_module_2.cpython-39.pyc\n",
            "    ├── sub3_module_1.py\n",
            "    └── sub3_module_2.py\n",
            "\n",
            "7 directories, 21 files\n"
          ]
        }
      ]
    },
    {
      "cell_type": "markdown",
      "source": [
        "---\n",
        "### GPT-4 : samples using datetime and time in python with GMT"
      ],
      "metadata": {
        "id": "4houom9bH3Pj"
      }
    },
    {
      "cell_type": "code",
      "source": [
        "import datetime\n",
        "\n",
        "now_gmt = datetime.datetime.utcnow()\n",
        "print(f\"Current date and time in GMT: {now_gmt}\")\n"
      ],
      "metadata": {
        "id": "Q2GscpOlILLB"
      },
      "execution_count": null,
      "outputs": []
    },
    {
      "cell_type": "code",
      "source": [
        "import datetime\n",
        "\n",
        "local_time = datetime.datetime.now()\n",
        "gmt_time = local_time.astimezone(datetime.timezone.utc)\n",
        "print(f\"Local time: {local_time}\")\n",
        "print(f\"GMT time: {gmt_time}\")\n"
      ],
      "metadata": {
        "id": "nN0YOZe9IMRr"
      },
      "execution_count": null,
      "outputs": []
    },
    {
      "cell_type": "code",
      "source": [
        "import datetime\n",
        "\n",
        "# Get the current GMT time\n",
        "gmt_time = datetime.datetime.utcnow()\n",
        "\n",
        "# Define a timezone using a timedelta (e.g., GMT+2)\n",
        "timezone = datetime.timezone(datetime.timedelta(hours=2))\n",
        "\n",
        "# Convert the GMT time to the specified timezone\n",
        "local_time = gmt_time.astimezone(timezone)\n",
        "print(f\"GMT time: {gmt_time}\")\n",
        "print(f\"Local time (GMT+2): {local_time}\")\n"
      ],
      "metadata": {
        "id": "4Z2G96-aIMlI"
      },
      "execution_count": null,
      "outputs": []
    },
    {
      "cell_type": "code",
      "source": [
        "import time\n",
        "\n",
        "gmt_time = time.gmtime()\n",
        "print(f\"Current time in GMT: {time.strftime('%Y-%m-%d %H:%M:%S', gmt_time)}\")\n"
      ],
      "metadata": {
        "id": "Agn2W2C_IMvl"
      },
      "execution_count": null,
      "outputs": []
    },
    {
      "cell_type": "code",
      "source": [],
      "metadata": {
        "id": "lpk3qxjaINHC"
      },
      "execution_count": null,
      "outputs": []
    }
  ]
}
