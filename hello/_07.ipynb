{
  "nbformat": 4,
  "nbformat_minor": 0,
  "metadata": {
    "colab": {
      "provenance": [],
      "toc_visible": true,
      "include_colab_link": true
    },
    "kernelspec": {
      "name": "python3",
      "display_name": "Python 3"
    }
  },
  "cells": [
    {
      "cell_type": "markdown",
      "metadata": {
        "id": "view-in-github",
        "colab_type": "text"
      },
      "source": [
        "<a href=\"https://colab.research.google.com/github/grtlinux/KieaColab23/blob/main/hello/_07.ipynb\" target=\"_parent\"><img src=\"https://colab.research.google.com/assets/colab-badge.svg\" alt=\"Open In Colab\"/></a>"
      ]
    },
    {
      "cell_type": "markdown",
      "source": [
        "* [YouTube: 파이썬 쉽게 배우기 - 07 함수](https://youtu.be/HlUWhxhC16w?list=PL7ZVZgsnLwEEdhCYInwxRpj1Rc4EGmCUc)"
      ],
      "metadata": {
        "id": "uiOWUVinGWTp"
      }
    },
    {
      "cell_type": "markdown",
      "metadata": {
        "id": "bg5ZXMV2sn1M"
      },
      "source": [
        "# 함수(Function)"
      ]
    },
    {
      "cell_type": "markdown",
      "metadata": {
        "id": "Lj_iZPKnCRP0"
      },
      "source": [
        "\n",
        "\n",
        "---\n",
        "\n"
      ]
    },
    {
      "cell_type": "markdown",
      "metadata": {
        "id": "zXbENjlMCrkU"
      },
      "source": [
        "## 함수 기본"
      ]
    },
    {
      "cell_type": "markdown",
      "metadata": {
        "id": "GWTyreZRzzmW"
      },
      "source": [
        "### 함수 선언\n",
        "\n"
      ]
    },
    {
      "cell_type": "markdown",
      "metadata": {
        "id": "qQc_0nwV1YyE"
      },
      "source": [
        "### 매개변수와 반환값이 없는 함수\n",
        "\n",
        "* 함수에 매개변수와 반환값이 없이 사용 가능\n",
        "* 함수를 호출하면 함수의 수행문이 실행"
      ]
    },
    {
      "cell_type": "code",
      "metadata": {
        "id": "VIauKM25w6Aw",
        "outputId": "d603d572-4082-4057-e11d-83020865d710",
        "colab": {
          "base_uri": "https://localhost:8080/"
        }
      },
      "source": [
        "def hello():\n",
        "  print('Hello, world !!!')\n",
        "\n",
        "hello()"
      ],
      "execution_count": 1,
      "outputs": [
        {
          "output_type": "stream",
          "name": "stdout",
          "text": [
            "Hello, world !!!\n"
          ]
        }
      ]
    },
    {
      "cell_type": "markdown",
      "metadata": {
        "id": "eeldN6Kq20h4"
      },
      "source": [
        "### 매개변수만 있는 함수\n",
        "\n",
        "* 문자열 매개변수를 사용한 함수"
      ]
    },
    {
      "cell_type": "code",
      "metadata": {
        "id": "DhVqlr5f24Px",
        "outputId": "b8b490f4-dd8d-4ecd-e311-56f6d5e2fa1d",
        "colab": {
          "base_uri": "https://localhost:8080/"
        }
      },
      "source": [
        "def hello(string):\n",
        "  print(\"Hello, \", string)\n",
        "\n",
        "hello('Python')"
      ],
      "execution_count": 3,
      "outputs": [
        {
          "output_type": "stream",
          "name": "stdout",
          "text": [
            "Hello,  Python\n"
          ]
        }
      ]
    },
    {
      "cell_type": "markdown",
      "metadata": {
        "id": "mmzbeJNq3uMA"
      },
      "source": [
        "### 반환 값만 있는 함수\n",
        "\n",
        "* 문자열 반환 값을 사용한 함수"
      ]
    },
    {
      "cell_type": "code",
      "metadata": {
        "id": "hv7QPvAN33bB",
        "outputId": "1b98149f-63e0-4e13-afd8-47d94ec19636",
        "colab": {
          "base_uri": "https://localhost:8080/",
          "height": 36
        }
      },
      "source": [
        "def hello():\n",
        "  return 'Hello, Python'\n",
        "\n",
        "hello()"
      ],
      "execution_count": 4,
      "outputs": [
        {
          "output_type": "execute_result",
          "data": {
            "text/plain": [
              "'Hello, Python'"
            ],
            "application/vnd.google.colaboratory.intrinsic+json": {
              "type": "string"
            }
          },
          "metadata": {},
          "execution_count": 4
        }
      ]
    },
    {
      "cell_type": "markdown",
      "metadata": {
        "id": "KY_pW4pZ4CbM"
      },
      "source": [
        "### 매개변수와 반환 값이 있는 함수\n",
        "\n",
        "* 정수형 매개변수와 반환 값을 사용한 함수"
      ]
    },
    {
      "cell_type": "code",
      "metadata": {
        "id": "c3aDaQLX4Hwf",
        "outputId": "ad931f2c-fbd9-4c2c-def6-e75849ef413e",
        "colab": {
          "base_uri": "https://localhost:8080/"
        }
      },
      "source": [
        "def square(num):\n",
        "  return num * num;\n",
        "\n",
        "square(5)"
      ],
      "execution_count": 5,
      "outputs": [
        {
          "output_type": "execute_result",
          "data": {
            "text/plain": [
              "25"
            ]
          },
          "metadata": {},
          "execution_count": 5
        }
      ]
    },
    {
      "cell_type": "markdown",
      "metadata": {
        "id": "BY9mQXbf4TRK"
      },
      "source": [
        "### 매개변수가 여러개 있는 함수\n",
        "\n",
        "* 정수형 매개변수 여러개를 사용한 함수\n",
        "* 매개변수를 지정하여 호출 가능"
      ]
    },
    {
      "cell_type": "code",
      "metadata": {
        "id": "DBc8hUNE4YKr",
        "outputId": "8ac122d2-9379-468c-e082-06384be7acba",
        "colab": {
          "base_uri": "https://localhost:8080/"
        }
      },
      "source": [
        "def add(n1, n2):\n",
        "  return n1 + n2\n",
        "\n",
        "print(add(5, 8))\n",
        "print(add(n2 = 5, n1 = 8))"
      ],
      "execution_count": 6,
      "outputs": [
        {
          "output_type": "stream",
          "name": "stdout",
          "text": [
            "13\n",
            "13\n"
          ]
        }
      ]
    },
    {
      "cell_type": "markdown",
      "metadata": {
        "id": "meUZXmUR4knx"
      },
      "source": [
        "### 키워드 매개변수\n",
        "\n",
        "* 함수의 매개변수를 변수명을 지정하여 호출 가능"
      ]
    },
    {
      "cell_type": "code",
      "metadata": {
        "id": "k0FipvNp4pXl",
        "outputId": "538c8805-a65c-4485-fe20-c4213c94006d",
        "colab": {
          "base_uri": "https://localhost:8080/"
        }
      },
      "source": [
        "def add(n1, n2):\n",
        "  return n1 + n2\n",
        "\n",
        "print(add(n2 = 5, n1 = 8))"
      ],
      "execution_count": 7,
      "outputs": [
        {
          "output_type": "stream",
          "name": "stdout",
          "text": [
            "13\n"
          ]
        }
      ]
    },
    {
      "cell_type": "markdown",
      "metadata": {
        "id": "3f_8Jxyh5EKA"
      },
      "source": [
        "### 가변 매개변수\n",
        "\n",
        "* 매개변수가 몇 개인지 알 수 없을 때 사용\n",
        "* 매개변수 앞에 '*'을 표시"
      ]
    },
    {
      "cell_type": "code",
      "metadata": {
        "id": "uVpBRKq65JLe",
        "outputId": "a8c84bc5-3996-4fef-9bec-29e8cd268bef",
        "colab": {
          "base_uri": "https://localhost:8080/"
        }
      },
      "source": [
        "def sum(*args):\n",
        "  ''' args is tuple '''\n",
        "  result = 0\n",
        "  for i in args:\n",
        "    result = result + i\n",
        "  return result\n",
        "\n",
        "print(sum(1,2,3,4,5,6,7))\n",
        "print(sum(4,5,6,7))"
      ],
      "execution_count": 10,
      "outputs": [
        {
          "output_type": "stream",
          "name": "stdout",
          "text": [
            "28\n",
            "22\n"
          ]
        }
      ]
    },
    {
      "cell_type": "markdown",
      "metadata": {
        "id": "czo-wmdL5YRR"
      },
      "source": [
        "### 가변 키워드 매개변수\n",
        "\n",
        "* 매개변수의 이름을 따로 지정하지 않고 사용\n",
        "* 매개변수 앞에 '**'을 표시"
      ]
    },
    {
      "cell_type": "code",
      "metadata": {
        "id": "jcPIBpWF5d9N",
        "outputId": "1897465c-4be9-4399-834a-568d2c75bbd5",
        "colab": {
          "base_uri": "https://localhost:8080/"
        }
      },
      "source": [
        "def print_kwargs(**kwargs):\n",
        "  ''' kwargs is dict '''\n",
        "  print(kwargs)\n",
        "\n",
        "print_kwargs(n1=3, n2=5)\n"
      ],
      "execution_count": 11,
      "outputs": [
        {
          "output_type": "stream",
          "name": "stdout",
          "text": [
            "{'n1': 3, 'n2': 5}\n"
          ]
        }
      ]
    },
    {
      "cell_type": "markdown",
      "metadata": {
        "id": "BcE5o1GR5ugB"
      },
      "source": [
        "### 초기값 매개변수\n",
        "\n",
        "* 매개변수에 초기값을 설정하여 사용\n",
        "* 함수에 매개변수를 사용하지 않을 때 초기값을 사용"
      ]
    },
    {
      "cell_type": "code",
      "metadata": {
        "id": "Wdsz0tcZ50s_",
        "outputId": "5a9bf283-4294-40fb-ca15-40747bd3d1df",
        "colab": {
          "base_uri": "https://localhost:8080/"
        }
      },
      "source": [
        "def power(b=2, n=2):\n",
        "  ''' value init '''\n",
        "  return pow(b, n)\n",
        "\n",
        "print(power())\n",
        "print(power(b=5))\n",
        "print(power(n=3))\n",
        "print(power(n=3, b=3))\n",
        "print(power(4))\n",
        "print(power(4,3))\n"
      ],
      "execution_count": 17,
      "outputs": [
        {
          "output_type": "stream",
          "name": "stdout",
          "text": [
            "4\n",
            "25\n",
            "8\n",
            "27\n",
            "16\n",
            "64\n"
          ]
        }
      ]
    },
    {
      "cell_type": "markdown",
      "metadata": {
        "id": "zEmGFAyv6ARs"
      },
      "source": [
        "### 여러 반환 값이 있는 함수\n",
        "\n",
        "* 함수의 반환값은 하나\n",
        "* 여러 반환값을 사용할 경우 튜플 형태로 반환"
      ]
    },
    {
      "cell_type": "code",
      "metadata": {
        "id": "4uA_PmQR6FW5",
        "outputId": "7edc4656-6b5d-44a5-e1d6-5f0d1a50782e",
        "colab": {
          "base_uri": "https://localhost:8080/"
        }
      },
      "source": [
        "def plus_and_minus(n1, n2):\n",
        "  ''' return tuple '''\n",
        "  return n1+n2, n1-n2\n",
        "\n",
        "ret = plus_and_minus(8, 5)\n",
        "r1,r2 = plus_and_minus(8, 5)\n",
        "print(ret)\n",
        "print(r1, r2)"
      ],
      "execution_count": 19,
      "outputs": [
        {
          "output_type": "stream",
          "name": "stdout",
          "text": [
            "(13, 3)\n",
            "13 3\n"
          ]
        }
      ]
    },
    {
      "cell_type": "markdown",
      "metadata": {
        "id": "XM8NFJC96cX7"
      },
      "source": [
        "### [Lab] 계산기 함수\n",
        "\n",
        "* 두 수에 대해서 덧셈, 뺄셈, 곱셈, 나눗셈을 수행하는 함수"
      ]
    },
    {
      "cell_type": "code",
      "metadata": {
        "id": "XDXeVHIJ6gpm",
        "outputId": "863073a1-b49f-4987-dd88-62b31a233bc4",
        "colab": {
          "base_uri": "https://localhost:8080/"
        }
      },
      "source": [
        "def calc(op, n1, n2):\n",
        "  ''' calc '''\n",
        "  result = 0\n",
        "  if op == '+':\n",
        "    result = n1 + n2\n",
        "  elif op == '-':\n",
        "    result = n1 - n2\n",
        "  return result\n",
        "\n",
        "print(calc('+', 3, 8))\n",
        "print(calc('-', 3, 8))"
      ],
      "execution_count": 20,
      "outputs": [
        {
          "output_type": "stream",
          "name": "stdout",
          "text": [
            "11\n",
            "-5\n"
          ]
        }
      ]
    },
    {
      "cell_type": "markdown",
      "metadata": {
        "id": "GXfPMgdV696x"
      },
      "source": [
        "### [Lab] 가변 매개변수의 평균값 계산\n",
        "\n",
        "* 가변 매개변수로 들어오는 모든 수의 평균값 계산"
      ]
    },
    {
      "cell_type": "code",
      "metadata": {
        "id": "xgVFwpIm7CPY",
        "outputId": "2feeaf61-7bd0-42df-9cc3-b13f0220c06f",
        "colab": {
          "base_uri": "https://localhost:8080/"
        }
      },
      "source": [
        "def avg(*args):\n",
        "  sum = 0\n",
        "  for i in args:\n",
        "    sum += i\n",
        "  return sum / len(args)\n",
        "\n",
        "print(avg(1,2,3,4,5,6,7,8))"
      ],
      "execution_count": 21,
      "outputs": [
        {
          "output_type": "stream",
          "name": "stdout",
          "text": [
            "4.5\n"
          ]
        }
      ]
    },
    {
      "cell_type": "markdown",
      "metadata": {
        "id": "G8OTXx4aw7mY"
      },
      "source": [
        "\n",
        "\n",
        "---\n",
        "\n"
      ]
    },
    {
      "cell_type": "markdown",
      "metadata": {
        "id": "4y7j6wwPw9zd"
      },
      "source": [
        "## 변수의 유효범위\n"
      ]
    },
    {
      "cell_type": "markdown",
      "metadata": {
        "id": "UjzGwc9D7b9d"
      },
      "source": [
        "### 유효 범위\n",
        "\n",
        "* 변수는 유효한 범위가 존재\n",
        "* 함수 안에서 선언된 변수는 함수 내부에서 유효함"
      ]
    },
    {
      "cell_type": "code",
      "metadata": {
        "id": "vvew4Dhq7gYv",
        "outputId": "b425fd3f-b24d-4ee4-d7d9-92061db41f05",
        "colab": {
          "base_uri": "https://localhost:8080/"
        }
      },
      "source": [
        "def var_scope(a):\n",
        "  a += 1\n",
        "\n",
        "a = 10\n",
        "var_scope(a)\n",
        "print(a)"
      ],
      "execution_count": 22,
      "outputs": [
        {
          "output_type": "stream",
          "name": "stdout",
          "text": [
            "10\n"
          ]
        }
      ]
    },
    {
      "cell_type": "markdown",
      "metadata": {
        "id": "7O3U3dYT7nXD"
      },
      "source": [
        "### 변수의 종류\n",
        "\n",
        "* 지역 변수: 한정된 지역에서만 사용되는 변수\n",
        "* 전역 변수: 프로그램 전체에서 사용되는 변수"
      ]
    },
    {
      "cell_type": "code",
      "metadata": {
        "id": "dhTOG0Uj7tOL",
        "outputId": "b5716045-66f2-48ca-bc6e-3b1c103e21e0",
        "colab": {
          "base_uri": "https://localhost:8080/"
        }
      },
      "source": [
        "a = 10\n",
        "def func1():\n",
        "  a = 20\n",
        "  print(a)\n",
        "\n",
        "def func2():\n",
        "  print(a)\n",
        "\n",
        "func1()\n",
        "func2()"
      ],
      "execution_count": 24,
      "outputs": [
        {
          "output_type": "stream",
          "name": "stdout",
          "text": [
            "20\n",
            "10\n"
          ]
        }
      ]
    },
    {
      "cell_type": "markdown",
      "metadata": {
        "id": "3-OF8own71vk"
      },
      "source": [
        "### 전역 변수 사용 global\n",
        "\n",
        "* 함수 내부에서 전역 변수를 사용하기 위한 `global` 키워드"
      ]
    },
    {
      "cell_type": "code",
      "metadata": {
        "id": "J_P_WGSr75jp",
        "outputId": "73c678c3-aa37-4128-b171-72ed4c0e393e",
        "colab": {
          "base_uri": "https://localhost:8080/"
        }
      },
      "source": [
        "a = 10\n",
        "def func1():\n",
        "  global a\n",
        "  a = 20\n",
        "  print(a)\n",
        "\n",
        "def func2():\n",
        "  print(a)\n",
        "\n",
        "func1()\n",
        "func2()"
      ],
      "execution_count": 25,
      "outputs": [
        {
          "output_type": "stream",
          "name": "stdout",
          "text": [
            "20\n",
            "20\n"
          ]
        }
      ]
    },
    {
      "cell_type": "markdown",
      "metadata": {
        "id": "NxjgnIKoxGkH"
      },
      "source": [
        "\n",
        "\n",
        "---\n",
        "\n"
      ]
    },
    {
      "cell_type": "markdown",
      "metadata": {
        "id": "8x-oWtbBxCpE"
      },
      "source": [
        "## 함수 심화"
      ]
    },
    {
      "cell_type": "markdown",
      "metadata": {
        "id": "GbFr5qM78B41"
      },
      "source": [
        "### 내부 함수(Nested Function)\n",
        "\n",
        "* 함수 안에 함수가 존재\n",
        "* 내부 함수는 외부에서 호출 불가"
      ]
    },
    {
      "cell_type": "code",
      "metadata": {
        "id": "6aBHDw7x8Gr5",
        "outputId": "f5cad8e3-33b9-40d3-bfab-b899a45e61ab",
        "colab": {
          "base_uri": "https://localhost:8080/"
        }
      },
      "source": [
        "def func1(n1, n2):\n",
        "  def func2(num1, num2):\n",
        "    ''' nested function '''\n",
        "    return num1 + num2\n",
        "  return func2(n1, n2)\n",
        "\n",
        "print(func1(5, 8))"
      ],
      "execution_count": 26,
      "outputs": [
        {
          "output_type": "stream",
          "name": "stdout",
          "text": [
            "13\n"
          ]
        }
      ]
    },
    {
      "cell_type": "markdown",
      "metadata": {
        "id": "RMlNesEi87cD"
      },
      "source": [
        "### 재귀 함수(Recursive Function)\n",
        "\n",
        "* 함수가 자기 자신을 다시 부르는 함수\n",
        "* `count()` 함수 내부에서 `count()` 함수를 호출\n",
        "* 재귀적으로 카운트 수를 출력"
      ]
    },
    {
      "cell_type": "code",
      "metadata": {
        "id": "ATwXBqDH9Fuk",
        "outputId": "dc92a4f1-be60-4d7a-a8b6-0ce246bb0e56",
        "colab": {
          "base_uri": "https://localhost:8080/"
        }
      },
      "source": [
        "def count(n):\n",
        "  if n >= 1:\n",
        "    print(n, end=' ')\n",
        "    count(n - 1)\n",
        "  else:\n",
        "    return\n",
        "\n",
        "count(10)"
      ],
      "execution_count": 27,
      "outputs": [
        {
          "output_type": "stream",
          "name": "stdout",
          "text": [
            "10 9 8 7 6 5 4 3 2 1 "
          ]
        }
      ]
    },
    {
      "cell_type": "markdown",
      "metadata": {
        "id": "8GTG0ukpIfRm"
      },
      "source": [
        "#### [Lab] 재귀 함수를 이용한 합계\n",
        "\n",
        "* `sum()` 함수 내부에서 `sum()` 함수를 호출\n",
        "* 재귀적으로 합계를 계산"
      ]
    },
    {
      "cell_type": "code",
      "metadata": {
        "id": "5oIubHWwHj_j",
        "outputId": "9d222ff7-a91f-478c-fb11-8cf904b470c7",
        "colab": {
          "base_uri": "https://localhost:8080/"
        }
      },
      "source": [
        "def sum(n):\n",
        "  if n == 1:\n",
        "    return 1\n",
        "  else:\n",
        "    return n + sum(n - 1)\n",
        "\n",
        "print(sum(19))"
      ],
      "execution_count": 28,
      "outputs": [
        {
          "output_type": "stream",
          "name": "stdout",
          "text": [
            "190\n"
          ]
        }
      ]
    },
    {
      "cell_type": "markdown",
      "metadata": {
        "id": "fB5LHNGv9v_U"
      },
      "source": [
        "#### [Lab] 팩토리얼 함수(Factorial Function)\n",
        "\n",
        "* 팩토리얼(factorial) 함수는 대표적인 재귀 함수\n",
        "* 팩토리얼 함수: $n!=1 \\times 2 \\times 3 \\dots (n-2) \\times (n-1) \\times n = n! = n \\times (n-1)!$"
      ]
    },
    {
      "cell_type": "code",
      "metadata": {
        "id": "Mh_3nSfC9ggl",
        "outputId": "5cde1482-c8f5-4246-e4ab-9a41132a1fd3",
        "colab": {
          "base_uri": "https://localhost:8080/"
        }
      },
      "source": [
        "def factorial(n):\n",
        "  if n == 1:\n",
        "    return 1\n",
        "  else:\n",
        "    return n * factorial(n - 1)\n",
        "\n",
        "print(factorial(3))\n",
        "print(factorial(5))\n",
        "print(factorial(12))"
      ],
      "execution_count": 29,
      "outputs": [
        {
          "output_type": "stream",
          "name": "stdout",
          "text": [
            "6\n",
            "120\n",
            "479001600\n"
          ]
        }
      ]
    },
    {
      "cell_type": "markdown",
      "metadata": {
        "id": "zxfnzzyh_CVn"
      },
      "source": [
        "### 람다 함수(Lambda Function)\n",
        "\n",
        "* 함수를 한 줄로 간결하게 만들어 사용"
      ]
    },
    {
      "cell_type": "code",
      "metadata": {
        "id": "Dm05soHF-7O1",
        "outputId": "18eab254-2d2b-4bf5-a399-2714f3581df6",
        "colab": {
          "base_uri": "https://localhost:8080/"
        }
      },
      "source": [
        "def add1(n1, n2):\n",
        "  return n1 + n2\n",
        "\n",
        "print(add1(5, 8))\n",
        "\n",
        "add2 = lambda n1, n2 : n1 + n2\n",
        "print(add2(5, 8))\n"
      ],
      "execution_count": 31,
      "outputs": [
        {
          "output_type": "stream",
          "name": "stdout",
          "text": [
            "13\n",
            "13\n"
          ]
        }
      ]
    },
    {
      "cell_type": "markdown",
      "metadata": {
        "id": "Rwi3kI22_tMu"
      },
      "source": [
        "#### map()\n",
        "\n",
        "* `map()`: built-in 함수로 list 나 dictionary 와 같은 iterable 한 데이터를 인자로 받아 list 안의 개별 item을 함수의 인자로 전달하여 결과를 list로 형태로 반환해 주는 함수\n",
        "* 람다 함수와 `map()` 함수를 이용한 리스트 계산"
      ]
    },
    {
      "cell_type": "code",
      "metadata": {
        "id": "1TajyYRT_Sld",
        "outputId": "cd785946-2aba-45b4-f43d-681d040abeab",
        "colab": {
          "base_uri": "https://localhost:8080/"
        }
      },
      "source": [
        "li = [1,2,3,4,5]\n",
        "square = lambda n : n * n\n",
        "li = list(map(square, li))   # li = list(map(lambda n : n * n, li))\n",
        "print(li)"
      ],
      "execution_count": 32,
      "outputs": [
        {
          "output_type": "stream",
          "name": "stdout",
          "text": [
            "[1, 4, 9, 16, 25]\n"
          ]
        }
      ]
    },
    {
      "cell_type": "code",
      "metadata": {
        "id": "tSiiIydTABWe",
        "outputId": "6e00a1cf-bfaa-44e2-985a-161830b12450",
        "colab": {
          "base_uri": "https://localhost:8080/"
        }
      },
      "source": [
        "l1 = [1,2,3,4,5]\n",
        "l2 = [6,7,8,9]\n",
        "li = list(map(lambda n1,n2 : n1 + n2, l1, l2))\n",
        "print(li)"
      ],
      "execution_count": 33,
      "outputs": [
        {
          "output_type": "stream",
          "name": "stdout",
          "text": [
            "[7, 9, 11, 13]\n"
          ]
        }
      ]
    },
    {
      "cell_type": "markdown",
      "metadata": {
        "id": "GjjDPmSgGST7"
      },
      "source": [
        "### filter()\n",
        "\n",
        "* `filter()` 함수: iterable 한 데이터를 인자로 개별 item을 특정 조건에 해당하는 값으로만 필터링\n",
        "* 람다 함수와 `filter()` 함수를 이용한 리스트 필터링"
      ]
    },
    {
      "cell_type": "code",
      "metadata": {
        "id": "Uplpmb0kGMVt",
        "outputId": "e1c27583-c95d-462e-e62f-8a548dc07fa1",
        "colab": {
          "base_uri": "https://localhost:8080/"
        }
      },
      "source": [
        "li = list(range(10))\n",
        "print(li)\n",
        "evens = filter(lambda n : n % 2 == 0, li)\n",
        "print(list(evens))"
      ],
      "execution_count": 39,
      "outputs": [
        {
          "output_type": "stream",
          "name": "stdout",
          "text": [
            "[0, 1, 2, 3, 4, 5, 6, 7, 8, 9]\n",
            "[0, 2, 4, 6, 8]\n"
          ]
        }
      ]
    },
    {
      "cell_type": "markdown",
      "metadata": {
        "id": "upgP4WxEG347"
      },
      "source": [
        "### reduce()\n",
        "\n",
        "* reduce() 함수: iterable 한 데이터를 인자로 받아 개별 item을 축약하여 하나의 값으로 만들어 가는 과정\n",
        "* 람다 함수와 reduce() 함수를 이용한 리스트 계산"
      ]
    },
    {
      "cell_type": "code",
      "metadata": {
        "id": "7-O3VyyYGexM",
        "outputId": "1598c611-3686-4079-c581-ed23c145af3a",
        "colab": {
          "base_uri": "https://localhost:8080/"
        }
      },
      "source": [
        "import functools\n",
        "\n",
        "li = list(range(10))\n",
        "print(li)\n",
        "sum = functools.reduce(lambda x, y : x + y, li)\n",
        "print(sum)\n",
        "len = functools.reduce(lambda x, y : x + 1, li, 0)\n",
        "print(len)\n",
        "max = functools.reduce(lambda x, y : x if x > y else y, li)\n",
        "print(max)"
      ],
      "execution_count": 42,
      "outputs": [
        {
          "output_type": "stream",
          "name": "stdout",
          "text": [
            "[0, 1, 2, 3, 4, 5, 6, 7, 8, 9]\n",
            "45\n",
            "10\n",
            "9\n"
          ]
        }
      ]
    },
    {
      "cell_type": "markdown",
      "metadata": {
        "id": "QJg6wYdSHKFh"
      },
      "source": [
        "## 제너레이터(generator)와 yield\n",
        "\n",
        "* 함수 안에서 yield를 사용하면 제너레이터\n",
        "* yield: 함수를 끝내지 않고 값을 계속 반환"
      ]
    },
    {
      "cell_type": "code",
      "metadata": {
        "id": "iI142ekSHH5z",
        "outputId": "daf39edb-6b66-455e-df62-e61f851ff6e9",
        "colab": {
          "base_uri": "https://localhost:8080/"
        }
      },
      "source": [
        "def gen():\n",
        "  yield 1\n",
        "  yield 2\n",
        "  yield 3\n",
        "\n",
        "print(gen())\n",
        "print(list(gen()))\n"
      ],
      "execution_count": 44,
      "outputs": [
        {
          "output_type": "stream",
          "name": "stdout",
          "text": [
            "<generator object gen at 0x7fbc3d657c80>\n",
            "[1, 2, 3]\n"
          ]
        }
      ]
    },
    {
      "cell_type": "code",
      "metadata": {
        "id": "aVpEaM_jHX0_",
        "outputId": "41d4a6ce-39fe-4c97-d0a5-eb2d57278455",
        "colab": {
          "base_uri": "https://localhost:8080/"
        }
      },
      "source": [
        "for i in gen():\n",
        "  print(i)"
      ],
      "execution_count": 45,
      "outputs": [
        {
          "output_type": "stream",
          "name": "stdout",
          "text": [
            "1\n",
            "2\n",
            "3\n"
          ]
        }
      ]
    },
    {
      "cell_type": "code",
      "metadata": {
        "id": "phpfTn9gHeUy",
        "outputId": "31004659-bfc1-494c-f730-1c52f146c85e",
        "colab": {
          "base_uri": "https://localhost:8080/"
        }
      },
      "source": [
        "g = gen()\n",
        "print(next(g))\n",
        "print(next(g))\n",
        "print(next(g))\n"
      ],
      "execution_count": 46,
      "outputs": [
        {
          "output_type": "stream",
          "name": "stdout",
          "text": [
            "1\n",
            "2\n",
            "3\n"
          ]
        }
      ]
    },
    {
      "cell_type": "markdown",
      "metadata": {
        "id": "vCwxB_lyIv5D"
      },
      "source": [
        "### [Lab] 짝수만 생성하는 제너레이터\n",
        "\n",
        "* 0 ~ n개의 숫자 중에서 짝수만 생성하는 제너레이터 함수 생성"
      ]
    },
    {
      "cell_type": "code",
      "metadata": {
        "id": "U3T8U0tpItDl",
        "outputId": "a21a9fc8-9a77-4234-f366-94d50eba12eb",
        "colab": {
          "base_uri": "https://localhost:8080/"
        }
      },
      "source": [
        "def gen_even(n):\n",
        "  for i in range(n):\n",
        "    if i % 2 == 0:\n",
        "      yield i\n",
        "\n",
        "for i in gen_even(10):\n",
        "  print(i)\n",
        "\n",
        "print(gen_even(10))\n",
        "print(list(gen_even(10)))\n"
      ],
      "execution_count": 49,
      "outputs": [
        {
          "output_type": "stream",
          "name": "stdout",
          "text": [
            "0\n",
            "2\n",
            "4\n",
            "6\n",
            "8\n",
            "<generator object gen_even at 0x7fbc3d657a50>\n",
            "[0, 2, 4, 6, 8]\n"
          ]
        }
      ]
    }
  ]
}