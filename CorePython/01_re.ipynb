{
  "nbformat": 4,
  "nbformat_minor": 0,
  "metadata": {
    "colab": {
      "provenance": [],
      "authorship_tag": "ABX9TyPKz+7vJOfx/6O7Tfim4ury",
      "include_colab_link": true
    },
    "kernelspec": {
      "name": "python3",
      "display_name": "Python 3"
    },
    "language_info": {
      "name": "python"
    }
  },
  "cells": [
    {
      "cell_type": "markdown",
      "metadata": {
        "id": "view-in-github",
        "colab_type": "text"
      },
      "source": [
        "<a href=\"https://colab.research.google.com/github/grtlinux/KieaColab23/blob/main/CorePython/01_re.ipynb\" target=\"_parent\"><img src=\"https://colab.research.google.com/assets/colab-badge.svg\" alt=\"Open In Colab\"/></a>"
      ]
    },
    {
      "cell_type": "markdown",
      "source": [
        "# Core Python\n",
        "\n",
        "## 01_re\n",
        "\n",
        "---"
      ],
      "metadata": {
        "id": "w0hn7pBRoRSa"
      }
    },
    {
      "cell_type": "code",
      "execution_count": null,
      "metadata": {
        "id": "r1Q2a8XpoNc8"
      },
      "outputs": [],
      "source": [
        "#!/usr/bin/env python3\n",
        "# encoding: utf-8\n",
        "#\n",
        "# Copyright (c) 2010 Doug Hellmann.  All rights reserved.\n",
        "#\n",
        "\"\"\"Match objects.\n",
        "\"\"\"\n",
        "\n",
        "#end_pymotw_header\n",
        "\n",
        "# 01_re_simple_match.py\n",
        "\n",
        "import re\n",
        "\n",
        "pattern = 'this'\n",
        "text = 'Does this text match the pattern?'\n",
        "\n",
        "match = re.search(pattern, text)\n",
        "\n",
        "s = match.start()\n",
        "e = match.end()\n",
        "\n",
        "print('Found \"{}\"\\nin \"{}\"\\nfrom {} to {} (\"{}\")'.format(\n",
        "    match.re.pattern, match.string, s, e, text[s:e]))\n",
        "\"\"\"\n",
        "Found \"this\"\n",
        "in \"Does this text match the pattern?\"\n",
        "from 5 to 9 (\"this\")\n",
        "\"\"\""
      ]
    },
    {
      "cell_type": "code",
      "source": [],
      "metadata": {
        "id": "yuZ_aMFfok7B"
      },
      "execution_count": null,
      "outputs": []
    },
    {
      "cell_type": "code",
      "source": [],
      "metadata": {
        "id": "BaNgAkmaolkH"
      },
      "execution_count": null,
      "outputs": []
    },
    {
      "cell_type": "code",
      "source": [],
      "metadata": {
        "id": "0hJGH8ixol5W"
      },
      "execution_count": null,
      "outputs": []
    }
  ]
}