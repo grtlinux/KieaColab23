{
  "nbformat": 4,
  "nbformat_minor": 0,
  "metadata": {
    "colab": {
      "provenance": [],
      "authorship_tag": "ABX9TyN97LjL6ys7DPZme73ZedDw",
      "include_colab_link": true
    },
    "kernelspec": {
      "name": "python3",
      "display_name": "Python 3"
    },
    "language_info": {
      "name": "python"
    }
  },
  "cells": [
    {
      "cell_type": "markdown",
      "metadata": {
        "id": "view-in-github",
        "colab_type": "text"
      },
      "source": [
        "<a href=\"https://colab.research.google.com/github/grtlinux/KieaColab23/blob/main/CorePython/02_logging.ipynb\" target=\"_parent\"><img src=\"https://colab.research.google.com/assets/colab-badge.svg\" alt=\"Open In Colab\"/></a>"
      ]
    },
    {
      "cell_type": "markdown",
      "source": [
        "# Core Python\n",
        "\n",
        "## 02_logging\n",
        "\n",
        "---"
      ],
      "metadata": {
        "id": "Od03dyWcpKpl"
      }
    },
    {
      "cell_type": "code",
      "execution_count": null,
      "metadata": {
        "id": "84FlobXPpFXg"
      },
      "outputs": [],
      "source": [
        "#!/usr/bin/env python3\n",
        "\"\"\"Example use of Python's logging module writing to a file.\n",
        "\"\"\"\n",
        "\n",
        "#end_pymotw_header\n",
        "\n",
        "# 01_logging_file_example.py\n",
        "\n",
        "import logging\n",
        "\n",
        "LOG_FILENAME = 'logging_example.out'\n",
        "logging.basicConfig(\n",
        "    filename=LOG_FILENAME,\n",
        "    level=logging.DEBUG,\n",
        ")\n",
        "\n",
        "logging.debug('This message should go to the log file')\n",
        "\n",
        "with open(LOG_FILENAME, 'rt') as f:\n",
        "    body = f.read()\n",
        "\n",
        "print('FILE:')\n",
        "print(body)\n",
        "\n",
        "\"\"\"\n",
        "[root@huzhi-code logging]# python3 01_logging_file_example.py\n",
        "FILE:\n",
        "DEBUG:root:This message should go to the log file\n",
        "\n",
        "[root@huzhi-code logging]# cat logging_example.out\n",
        "DEBUG:root:This message should go to the log file\n",
        "[root@huzhi-code logging]#\n",
        "\"\"\""
      ]
    },
    {
      "cell_type": "code",
      "source": [],
      "metadata": {
        "id": "XN2T4NzapSvq"
      },
      "execution_count": null,
      "outputs": []
    },
    {
      "cell_type": "code",
      "source": [],
      "metadata": {
        "id": "ygKrKi7UpS3g"
      },
      "execution_count": null,
      "outputs": []
    },
    {
      "cell_type": "code",
      "source": [],
      "metadata": {
        "id": "2CMI0cZypS-T"
      },
      "execution_count": null,
      "outputs": []
    },
    {
      "cell_type": "code",
      "source": [],
      "metadata": {
        "id": "Fd9xWtM3pTFi"
      },
      "execution_count": null,
      "outputs": []
    },
    {
      "cell_type": "code",
      "source": [],
      "metadata": {
        "id": "FLLB-mkFpTMk"
      },
      "execution_count": null,
      "outputs": []
    },
    {
      "cell_type": "code",
      "source": [],
      "metadata": {
        "id": "hOg2quS4pTT-"
      },
      "execution_count": null,
      "outputs": []
    }
  ]
}